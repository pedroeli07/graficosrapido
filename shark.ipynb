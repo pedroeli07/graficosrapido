{
 "cells": [
  {
   "cell_type": "code",
   "execution_count": 231,
   "metadata": {},
   "outputs": [
    {
     "data": {
      "text/html": [
       "<div>\n",
       "<style scoped>\n",
       "    .dataframe tbody tr th:only-of-type {\n",
       "        vertical-align: middle;\n",
       "    }\n",
       "\n",
       "    .dataframe tbody tr th {\n",
       "        vertical-align: top;\n",
       "    }\n",
       "\n",
       "    .dataframe thead th {\n",
       "        text-align: right;\n",
       "    }\n",
       "</style>\n",
       "<table border=\"1\" class=\"dataframe\">\n",
       "  <thead>\n",
       "    <tr style=\"text-align: right;\">\n",
       "      <th></th>\n",
       "      <th>Site</th>\n",
       "      <th>Nickname</th>\n",
       "      <th>Entradas</th>\n",
       "      <th>Velocidade</th>\n",
       "      <th>Posição</th>\n",
       "      <th>Tipo de Torneio</th>\n",
       "      <th>Moeda</th>\n",
       "      <th>Rebuys</th>\n",
       "      <th>Duração</th>\n",
       "      <th>Players Per Table</th>\n",
       "      <th>...</th>\n",
       "      <th>Prize USD</th>\n",
       "      <th>Buy-in USD</th>\n",
       "      <th>Rake USD</th>\n",
       "      <th>Stake USD</th>\n",
       "      <th>Profit USD</th>\n",
       "      <th>Intervalo de Buy-in</th>\n",
       "      <th>Intervalo de Field</th>\n",
       "      <th>Ano</th>\n",
       "      <th>Mês</th>\n",
       "      <th>Tipo de Duraçao</th>\n",
       "    </tr>\n",
       "  </thead>\n",
       "  <tbody>\n",
       "    <tr>\n",
       "      <th>0</th>\n",
       "      <td>PokerStars</td>\n",
       "      <td>saviocesar</td>\n",
       "      <td>752</td>\n",
       "      <td>Normal</td>\n",
       "      <td>220</td>\n",
       "      <td>Regular</td>\n",
       "      <td>USD</td>\n",
       "      <td>0.0</td>\n",
       "      <td>299</td>\n",
       "      <td>NaN</td>\n",
       "      <td>...</td>\n",
       "      <td>0.00</td>\n",
       "      <td>0.00</td>\n",
       "      <td>0.00</td>\n",
       "      <td>0.00</td>\n",
       "      <td>0.00</td>\n",
       "      <td>nan</td>\n",
       "      <td>Field médio</td>\n",
       "      <td>2007</td>\n",
       "      <td>Junho</td>\n",
       "      <td>Média</td>\n",
       "    </tr>\n",
       "    <tr>\n",
       "      <th>1</th>\n",
       "      <td>PokerStars</td>\n",
       "      <td>saviocesar</td>\n",
       "      <td>18</td>\n",
       "      <td>Turbo</td>\n",
       "      <td>1</td>\n",
       "      <td>Regular</td>\n",
       "      <td>USD</td>\n",
       "      <td>0.0</td>\n",
       "      <td>0</td>\n",
       "      <td>NaN</td>\n",
       "      <td>...</td>\n",
       "      <td>10.80</td>\n",
       "      <td>1.75</td>\n",
       "      <td>0.25</td>\n",
       "      <td>1.50</td>\n",
       "      <td>9.05</td>\n",
       "      <td>0.0; 10.0</td>\n",
       "      <td>Field pequeno</td>\n",
       "      <td>2007</td>\n",
       "      <td>Setembro</td>\n",
       "      <td>Curta</td>\n",
       "    </tr>\n",
       "    <tr>\n",
       "      <th>2</th>\n",
       "      <td>PokerStars</td>\n",
       "      <td>saviocesar</td>\n",
       "      <td>18</td>\n",
       "      <td>Turbo</td>\n",
       "      <td>14</td>\n",
       "      <td>Regular</td>\n",
       "      <td>USD</td>\n",
       "      <td>0.0</td>\n",
       "      <td>0</td>\n",
       "      <td>NaN</td>\n",
       "      <td>...</td>\n",
       "      <td>0.00</td>\n",
       "      <td>1.75</td>\n",
       "      <td>0.25</td>\n",
       "      <td>1.50</td>\n",
       "      <td>-1.75</td>\n",
       "      <td>0.0; 10.0</td>\n",
       "      <td>Field pequeno</td>\n",
       "      <td>2007</td>\n",
       "      <td>Setembro</td>\n",
       "      <td>Curta</td>\n",
       "    </tr>\n",
       "    <tr>\n",
       "      <th>3</th>\n",
       "      <td>PokerStars</td>\n",
       "      <td>saviocesar</td>\n",
       "      <td>18</td>\n",
       "      <td>Turbo</td>\n",
       "      <td>1</td>\n",
       "      <td>Regular</td>\n",
       "      <td>USD</td>\n",
       "      <td>0.0</td>\n",
       "      <td>0</td>\n",
       "      <td>NaN</td>\n",
       "      <td>...</td>\n",
       "      <td>10.80</td>\n",
       "      <td>1.75</td>\n",
       "      <td>0.25</td>\n",
       "      <td>1.50</td>\n",
       "      <td>9.05</td>\n",
       "      <td>0.0; 10.0</td>\n",
       "      <td>Field pequeno</td>\n",
       "      <td>2007</td>\n",
       "      <td>Setembro</td>\n",
       "      <td>Curta</td>\n",
       "    </tr>\n",
       "    <tr>\n",
       "      <th>4</th>\n",
       "      <td>PokerStars</td>\n",
       "      <td>saviocesar</td>\n",
       "      <td>18</td>\n",
       "      <td>Turbo</td>\n",
       "      <td>4</td>\n",
       "      <td>Regular</td>\n",
       "      <td>USD</td>\n",
       "      <td>0.0</td>\n",
       "      <td>0</td>\n",
       "      <td>NaN</td>\n",
       "      <td>...</td>\n",
       "      <td>2.70</td>\n",
       "      <td>1.75</td>\n",
       "      <td>0.25</td>\n",
       "      <td>1.50</td>\n",
       "      <td>0.95</td>\n",
       "      <td>0.0; 10.0</td>\n",
       "      <td>Field pequeno</td>\n",
       "      <td>2007</td>\n",
       "      <td>Setembro</td>\n",
       "      <td>Curta</td>\n",
       "    </tr>\n",
       "    <tr>\n",
       "      <th>...</th>\n",
       "      <td>...</td>\n",
       "      <td>...</td>\n",
       "      <td>...</td>\n",
       "      <td>...</td>\n",
       "      <td>...</td>\n",
       "      <td>...</td>\n",
       "      <td>...</td>\n",
       "      <td>...</td>\n",
       "      <td>...</td>\n",
       "      <td>...</td>\n",
       "      <td>...</td>\n",
       "      <td>...</td>\n",
       "      <td>...</td>\n",
       "      <td>...</td>\n",
       "      <td>...</td>\n",
       "      <td>...</td>\n",
       "      <td>...</td>\n",
       "      <td>...</td>\n",
       "      <td>...</td>\n",
       "      <td>...</td>\n",
       "      <td>...</td>\n",
       "    </tr>\n",
       "    <tr>\n",
       "      <th>477121</th>\n",
       "      <td>PokerStars</td>\n",
       "      <td>Dudu 1054</td>\n",
       "      <td>166</td>\n",
       "      <td>Turbo</td>\n",
       "      <td>9</td>\n",
       "      <td>Bounty</td>\n",
       "      <td>USD</td>\n",
       "      <td>0.0</td>\n",
       "      <td>175</td>\n",
       "      <td>8.0</td>\n",
       "      <td>...</td>\n",
       "      <td>87.78</td>\n",
       "      <td>27.00</td>\n",
       "      <td>2.45</td>\n",
       "      <td>24.55</td>\n",
       "      <td>60.78</td>\n",
       "      <td>20.0; 30.0</td>\n",
       "      <td>Field pequeno</td>\n",
       "      <td>2024</td>\n",
       "      <td>Maio</td>\n",
       "      <td>Curta</td>\n",
       "    </tr>\n",
       "    <tr>\n",
       "      <th>477122</th>\n",
       "      <td>WPN</td>\n",
       "      <td>ForgeTTs</td>\n",
       "      <td>667</td>\n",
       "      <td>Normal</td>\n",
       "      <td>119</td>\n",
       "      <td>Bounty</td>\n",
       "      <td>USD</td>\n",
       "      <td>1.0</td>\n",
       "      <td>602</td>\n",
       "      <td>8.0</td>\n",
       "      <td>...</td>\n",
       "      <td>84.29</td>\n",
       "      <td>66.00</td>\n",
       "      <td>6.00</td>\n",
       "      <td>60.00</td>\n",
       "      <td>-41.71</td>\n",
       "      <td>56.0; 80.0</td>\n",
       "      <td>Field médio</td>\n",
       "      <td>2024</td>\n",
       "      <td>Maio</td>\n",
       "      <td>Longa</td>\n",
       "    </tr>\n",
       "    <tr>\n",
       "      <th>477123</th>\n",
       "      <td>PokerStars</td>\n",
       "      <td>Dudu 1054</td>\n",
       "      <td>914</td>\n",
       "      <td>Normal</td>\n",
       "      <td>904</td>\n",
       "      <td>Bounty</td>\n",
       "      <td>USD</td>\n",
       "      <td>0.0</td>\n",
       "      <td>432</td>\n",
       "      <td>8.0</td>\n",
       "      <td>...</td>\n",
       "      <td>0.00</td>\n",
       "      <td>16.50</td>\n",
       "      <td>1.80</td>\n",
       "      <td>14.70</td>\n",
       "      <td>-16.50</td>\n",
       "      <td>10.0; 20.0</td>\n",
       "      <td>Field médio</td>\n",
       "      <td>2024</td>\n",
       "      <td>Maio</td>\n",
       "      <td>Média Longa</td>\n",
       "    </tr>\n",
       "    <tr>\n",
       "      <th>477124</th>\n",
       "      <td>PokerStars</td>\n",
       "      <td>Dudu 1054</td>\n",
       "      <td>914</td>\n",
       "      <td>Normal</td>\n",
       "      <td>445</td>\n",
       "      <td>Bounty</td>\n",
       "      <td>USD</td>\n",
       "      <td>0.0</td>\n",
       "      <td>432</td>\n",
       "      <td>8.0</td>\n",
       "      <td>...</td>\n",
       "      <td>0.00</td>\n",
       "      <td>16.50</td>\n",
       "      <td>1.80</td>\n",
       "      <td>14.70</td>\n",
       "      <td>-16.50</td>\n",
       "      <td>10.0; 20.0</td>\n",
       "      <td>Field médio</td>\n",
       "      <td>2024</td>\n",
       "      <td>Maio</td>\n",
       "      <td>Média Longa</td>\n",
       "    </tr>\n",
       "    <tr>\n",
       "      <th>477125</th>\n",
       "      <td>PokerStars</td>\n",
       "      <td>Dudu 1054</td>\n",
       "      <td>126</td>\n",
       "      <td>Normal</td>\n",
       "      <td>29</td>\n",
       "      <td>Regular</td>\n",
       "      <td>USD</td>\n",
       "      <td>0.0</td>\n",
       "      <td>365</td>\n",
       "      <td>8.0</td>\n",
       "      <td>...</td>\n",
       "      <td>0.00</td>\n",
       "      <td>27.00</td>\n",
       "      <td>2.45</td>\n",
       "      <td>24.55</td>\n",
       "      <td>-27.00</td>\n",
       "      <td>20.0; 30.0</td>\n",
       "      <td>Field pequeno</td>\n",
       "      <td>2024</td>\n",
       "      <td>Maio</td>\n",
       "      <td>Média</td>\n",
       "    </tr>\n",
       "  </tbody>\n",
       "</table>\n",
       "<p>477126 rows × 27 columns</p>\n",
       "</div>"
      ],
      "text/plain": [
       "              Site    Nickname  Entradas Velocidade  Posição Tipo de Torneio  \\\n",
       "0       PokerStars  saviocesar       752     Normal      220         Regular   \n",
       "1       PokerStars  saviocesar        18      Turbo        1         Regular   \n",
       "2       PokerStars  saviocesar        18      Turbo       14         Regular   \n",
       "3       PokerStars  saviocesar        18      Turbo        1         Regular   \n",
       "4       PokerStars  saviocesar        18      Turbo        4         Regular   \n",
       "...            ...         ...       ...        ...      ...             ...   \n",
       "477121  PokerStars   Dudu 1054       166      Turbo        9          Bounty   \n",
       "477122         WPN    ForgeTTs       667     Normal      119          Bounty   \n",
       "477123  PokerStars   Dudu 1054       914     Normal      904          Bounty   \n",
       "477124  PokerStars   Dudu 1054       914     Normal      445          Bounty   \n",
       "477125  PokerStars   Dudu 1054       126     Normal       29         Regular   \n",
       "\n",
       "       Moeda  Rebuys  Duração  Players Per Table  ... Prize USD Buy-in USD  \\\n",
       "0        USD     0.0      299                NaN  ...      0.00       0.00   \n",
       "1        USD     0.0        0                NaN  ...     10.80       1.75   \n",
       "2        USD     0.0        0                NaN  ...      0.00       1.75   \n",
       "3        USD     0.0        0                NaN  ...     10.80       1.75   \n",
       "4        USD     0.0        0                NaN  ...      2.70       1.75   \n",
       "...      ...     ...      ...                ...  ...       ...        ...   \n",
       "477121   USD     0.0      175                8.0  ...     87.78      27.00   \n",
       "477122   USD     1.0      602                8.0  ...     84.29      66.00   \n",
       "477123   USD     0.0      432                8.0  ...      0.00      16.50   \n",
       "477124   USD     0.0      432                8.0  ...      0.00      16.50   \n",
       "477125   USD     0.0      365                8.0  ...      0.00      27.00   \n",
       "\n",
       "       Rake USD Stake USD Profit USD Intervalo de Buy-in  Intervalo de Field  \\\n",
       "0          0.00      0.00       0.00                 nan         Field médio   \n",
       "1          0.25      1.50       9.05           0.0; 10.0       Field pequeno   \n",
       "2          0.25      1.50      -1.75           0.0; 10.0       Field pequeno   \n",
       "3          0.25      1.50       9.05           0.0; 10.0       Field pequeno   \n",
       "4          0.25      1.50       0.95           0.0; 10.0       Field pequeno   \n",
       "...         ...       ...        ...                 ...                 ...   \n",
       "477121     2.45     24.55      60.78          20.0; 30.0       Field pequeno   \n",
       "477122     6.00     60.00     -41.71          56.0; 80.0         Field médio   \n",
       "477123     1.80     14.70     -16.50          10.0; 20.0         Field médio   \n",
       "477124     1.80     14.70     -16.50          10.0; 20.0         Field médio   \n",
       "477125     2.45     24.55     -27.00          20.0; 30.0       Field pequeno   \n",
       "\n",
       "         Ano       Mês  Tipo de Duraçao  \n",
       "0       2007     Junho            Média  \n",
       "1       2007  Setembro            Curta  \n",
       "2       2007  Setembro            Curta  \n",
       "3       2007  Setembro            Curta  \n",
       "4       2007  Setembro            Curta  \n",
       "...      ...       ...              ...  \n",
       "477121  2024      Maio            Curta  \n",
       "477122  2024      Maio            Longa  \n",
       "477123  2024      Maio      Média Longa  \n",
       "477124  2024      Maio      Média Longa  \n",
       "477125  2024      Maio            Média  \n",
       "\n",
       "[477126 rows x 27 columns]"
      ]
     },
     "execution_count": 231,
     "metadata": {},
     "output_type": "execute_result"
    }
   ],
   "source": [
    "import pandas as pd\n",
    "\n",
    "df = pd.read_parquet('CL_TEAM_GRUPOS.parquet')\n",
    "df\n"
   ]
  },
  {
   "cell_type": "code",
   "execution_count": 232,
   "metadata": {},
   "outputs": [],
   "source": [
    "df10 = df[(df['Ano'] == 2024)] # | (df['Ano'] == 2024)]"
   ]
  },
  {
   "cell_type": "code",
   "execution_count": 233,
   "metadata": {},
   "outputs": [],
   "source": [
    "df77 = df[(df['Ano'] == 2024)  | (df['Ano'] == 2023)]"
   ]
  },
  {
   "cell_type": "code",
   "execution_count": 234,
   "metadata": {},
   "outputs": [
    {
     "name": "stdout",
     "output_type": "stream",
     "text": [
      "              Site    Nickname  Entradas Velocidade  Posição Tipo de Torneio  \\\n",
      "0       PokerStars  saviocesar       752     Normal      220         Regular   \n",
      "1       PokerStars  saviocesar        18      Turbo        1         Regular   \n",
      "2       PokerStars  saviocesar        18      Turbo       14         Regular   \n",
      "3       PokerStars  saviocesar        18      Turbo        1         Regular   \n",
      "4       PokerStars  saviocesar        18      Turbo        4         Regular   \n",
      "...            ...         ...       ...        ...      ...             ...   \n",
      "477121  PokerStars   Dudu 1054       166      Turbo        9          Bounty   \n",
      "477122         WPN    ForgeTTs       667     Normal      119          Bounty   \n",
      "477123  PokerStars   Dudu 1054       914     Normal      904          Bounty   \n",
      "477124  PokerStars   Dudu 1054       914     Normal      445          Bounty   \n",
      "477125  PokerStars   Dudu 1054       126     Normal       29         Regular   \n",
      "\n",
      "       Moeda  Rebuys  Duração  Players Per Table  ... Buy-in USD Rake USD  \\\n",
      "0        USD     0.0      299                NaN  ...       0.00     0.00   \n",
      "1        USD     0.0        0                NaN  ...       1.75     0.25   \n",
      "2        USD     0.0        0                NaN  ...       1.75     0.25   \n",
      "3        USD     0.0        0                NaN  ...       1.75     0.25   \n",
      "4        USD     0.0        0                NaN  ...       1.75     0.25   \n",
      "...      ...     ...      ...                ...  ...        ...      ...   \n",
      "477121   USD     0.0      175                8.0  ...      27.00     2.45   \n",
      "477122   USD     1.0      602                8.0  ...      66.00     6.00   \n",
      "477123   USD     0.0      432                8.0  ...      16.50     1.80   \n",
      "477124   USD     0.0      432                8.0  ...      16.50     1.80   \n",
      "477125   USD     0.0      365                8.0  ...      27.00     2.45   \n",
      "\n",
      "       Stake USD Profit USD Intervalo de Buy-in Intervalo de Field   Ano  \\\n",
      "0           0.00       0.00                 nan        Field médio  2007   \n",
      "1           1.50       9.05           0.0; 10.0      Field pequeno  2007   \n",
      "2           1.50      -1.75           0.0; 10.0      Field pequeno  2007   \n",
      "3           1.50       9.05           0.0; 10.0      Field pequeno  2007   \n",
      "4           1.50       0.95           0.0; 10.0      Field pequeno  2007   \n",
      "...          ...        ...                 ...                ...   ...   \n",
      "477121     24.55      60.78          20.0; 30.0      Field pequeno  2024   \n",
      "477122     60.00     -41.71          56.0; 80.0        Field médio  2024   \n",
      "477123     14.70     -16.50          10.0; 20.0        Field médio  2024   \n",
      "477124     14.70     -16.50          10.0; 20.0        Field médio  2024   \n",
      "477125     24.55     -27.00          20.0; 30.0      Field pequeno  2024   \n",
      "\n",
      "             Mês  Tipo de Duraçao   Field  \n",
      "0          Junho            Média   médio  \n",
      "1       Setembro            Curta   micro  \n",
      "2       Setembro            Curta   micro  \n",
      "3       Setembro            Curta   micro  \n",
      "4       Setembro            Curta   micro  \n",
      "...          ...              ...     ...  \n",
      "477121      Maio            Curta   micro  \n",
      "477122      Maio            Longa   médio  \n",
      "477123      Maio      Média Longa  grande  \n",
      "477124      Maio      Média Longa  grande  \n",
      "477125      Maio            Média   micro  \n",
      "\n",
      "[477126 rows x 28 columns]\n"
     ]
    }
   ],
   "source": [
    "import pandas as pd\n",
    "\n",
    "# Supondo que sua coluna de entradas se chame 'Entradas' e seu DataFrame seja 'df'\n",
    "# Crie os intervalos para dividir os dados\n",
    "bins = [0, 300, 600, 900, float('inf')]\n",
    "\n",
    "# Crie os rótulos para os grupos\n",
    "labels = ['micro', 'pequeno', 'médio', 'grande']\n",
    "\n",
    "# Use o método cut para criar os grupos e atribuir os rótulos\n",
    "df['Field'] = pd.cut(df['Entradas'], bins=bins, labels=labels, right=False)\n",
    "\n",
    "# Veja como ficou\n",
    "print(df)\n"
   ]
  },
  {
   "cell_type": "code",
   "execution_count": 235,
   "metadata": {},
   "outputs": [
    {
     "data": {
      "text/plain": [
       "Index(['Site', 'Nickname', 'Entradas', 'Velocidade', 'Posição',\n",
       "       'Tipo de Torneio', 'Moeda', 'Rebuys', 'Duração', 'Players Per Table',\n",
       "       'Jogador', 'Nome do Torneio', 'Data', 'Hora', 'Intervalo Horario',\n",
       "       'Dia da Semana', 'Result USD', 'Prize USD', 'Buy-in USD', 'Rake USD',\n",
       "       'Stake USD', 'Profit USD', 'Intervalo de Buy-in', 'Intervalo de Field',\n",
       "       'Ano', 'Mês', 'Tipo de Duraçao', 'Field'],\n",
       "      dtype='object')"
      ]
     },
     "execution_count": 235,
     "metadata": {},
     "output_type": "execute_result"
    }
   ],
   "source": [
    "df.columns"
   ]
  },
  {
   "cell_type": "code",
   "execution_count": 236,
   "metadata": {},
   "outputs": [],
   "source": [
    "#df1 = df[['Site', 'Entradas', 'Velocidade', \n",
    "    #   'Tipo de Torneio',\n",
    "     #   'Data',\n",
    "       # 'Buy-in USD',\n",
    "    #   'Profit USD',  \n",
    "   #    'Ano',]]\n",
    "#df1"
   ]
  },
  {
   "cell_type": "code",
   "execution_count": 237,
   "metadata": {},
   "outputs": [
    {
     "name": "stderr",
     "output_type": "stream",
     "text": [
      "C:\\Users\\psyte\\AppData\\Local\\Temp\\ipykernel_72828\\2663992618.py:11: SettingWithCopyWarning:\n",
      "\n",
      "\n",
      "A value is trying to be set on a copy of a slice from a DataFrame.\n",
      "Try using .loc[row_indexer,col_indexer] = value instead\n",
      "\n",
      "See the caveats in the documentation: https://pandas.pydata.org/pandas-docs/stable/user_guide/indexing.html#returning-a-view-versus-a-copy\n",
      "\n"
     ]
    },
    {
     "data": {
      "text/html": [
       "<div>\n",
       "<style scoped>\n",
       "    .dataframe tbody tr th:only-of-type {\n",
       "        vertical-align: middle;\n",
       "    }\n",
       "\n",
       "    .dataframe tbody tr th {\n",
       "        vertical-align: top;\n",
       "    }\n",
       "\n",
       "    .dataframe thead th {\n",
       "        text-align: right;\n",
       "    }\n",
       "</style>\n",
       "<table border=\"1\" class=\"dataframe\">\n",
       "  <thead>\n",
       "    <tr style=\"text-align: right;\">\n",
       "      <th></th>\n",
       "      <th>Site</th>\n",
       "      <th>Entradas</th>\n",
       "      <th>Velocidade</th>\n",
       "      <th>Tipo de Torneio</th>\n",
       "      <th>Data</th>\n",
       "      <th>Buy-in USD</th>\n",
       "      <th>Profit USD</th>\n",
       "      <th>Ano</th>\n",
       "      <th>Field</th>\n",
       "    </tr>\n",
       "  </thead>\n",
       "  <tbody>\n",
       "    <tr>\n",
       "      <th>358564</th>\n",
       "      <td>GGNetwork</td>\n",
       "      <td>592</td>\n",
       "      <td>Normal</td>\n",
       "      <td>Satellite</td>\n",
       "      <td>2023-01-01</td>\n",
       "      <td>55.0</td>\n",
       "      <td>-55.00</td>\n",
       "      <td>2023</td>\n",
       "      <td>pequeno</td>\n",
       "    </tr>\n",
       "    <tr>\n",
       "      <th>358565</th>\n",
       "      <td>GGNetwork</td>\n",
       "      <td>78</td>\n",
       "      <td>Super Turbo</td>\n",
       "      <td>Regular</td>\n",
       "      <td>2023-01-01</td>\n",
       "      <td>50.0</td>\n",
       "      <td>-50.00</td>\n",
       "      <td>2023</td>\n",
       "      <td>micro</td>\n",
       "    </tr>\n",
       "    <tr>\n",
       "      <th>358566</th>\n",
       "      <td>PokerStars</td>\n",
       "      <td>163</td>\n",
       "      <td>Turbo</td>\n",
       "      <td>Regular</td>\n",
       "      <td>2023-01-01</td>\n",
       "      <td>5.5</td>\n",
       "      <td>-5.50</td>\n",
       "      <td>2023</td>\n",
       "      <td>micro</td>\n",
       "    </tr>\n",
       "    <tr>\n",
       "      <th>358567</th>\n",
       "      <td>888Poker</td>\n",
       "      <td>39</td>\n",
       "      <td>Normal</td>\n",
       "      <td>Bounty</td>\n",
       "      <td>2023-01-01</td>\n",
       "      <td>109.0</td>\n",
       "      <td>-109.00</td>\n",
       "      <td>2023</td>\n",
       "      <td>micro</td>\n",
       "    </tr>\n",
       "    <tr>\n",
       "      <th>358568</th>\n",
       "      <td>PartyPoker</td>\n",
       "      <td>32</td>\n",
       "      <td>Normal</td>\n",
       "      <td>Bounty</td>\n",
       "      <td>2023-01-01</td>\n",
       "      <td>109.0</td>\n",
       "      <td>112.15</td>\n",
       "      <td>2023</td>\n",
       "      <td>micro</td>\n",
       "    </tr>\n",
       "    <tr>\n",
       "      <th>...</th>\n",
       "      <td>...</td>\n",
       "      <td>...</td>\n",
       "      <td>...</td>\n",
       "      <td>...</td>\n",
       "      <td>...</td>\n",
       "      <td>...</td>\n",
       "      <td>...</td>\n",
       "      <td>...</td>\n",
       "      <td>...</td>\n",
       "    </tr>\n",
       "    <tr>\n",
       "      <th>477121</th>\n",
       "      <td>PokerStars</td>\n",
       "      <td>166</td>\n",
       "      <td>Turbo</td>\n",
       "      <td>Bounty</td>\n",
       "      <td>2024-05-08</td>\n",
       "      <td>27.0</td>\n",
       "      <td>60.78</td>\n",
       "      <td>2024</td>\n",
       "      <td>micro</td>\n",
       "    </tr>\n",
       "    <tr>\n",
       "      <th>477122</th>\n",
       "      <td>WPN</td>\n",
       "      <td>667</td>\n",
       "      <td>Normal</td>\n",
       "      <td>Bounty</td>\n",
       "      <td>2024-05-08</td>\n",
       "      <td>66.0</td>\n",
       "      <td>-41.71</td>\n",
       "      <td>2024</td>\n",
       "      <td>médio</td>\n",
       "    </tr>\n",
       "    <tr>\n",
       "      <th>477123</th>\n",
       "      <td>PokerStars</td>\n",
       "      <td>914</td>\n",
       "      <td>Normal</td>\n",
       "      <td>Bounty</td>\n",
       "      <td>2024-05-08</td>\n",
       "      <td>16.5</td>\n",
       "      <td>-16.50</td>\n",
       "      <td>2024</td>\n",
       "      <td>grande</td>\n",
       "    </tr>\n",
       "    <tr>\n",
       "      <th>477124</th>\n",
       "      <td>PokerStars</td>\n",
       "      <td>914</td>\n",
       "      <td>Normal</td>\n",
       "      <td>Bounty</td>\n",
       "      <td>2024-05-08</td>\n",
       "      <td>16.5</td>\n",
       "      <td>-16.50</td>\n",
       "      <td>2024</td>\n",
       "      <td>grande</td>\n",
       "    </tr>\n",
       "    <tr>\n",
       "      <th>477125</th>\n",
       "      <td>PokerStars</td>\n",
       "      <td>126</td>\n",
       "      <td>Normal</td>\n",
       "      <td>Regular</td>\n",
       "      <td>2024-05-09</td>\n",
       "      <td>27.0</td>\n",
       "      <td>-27.00</td>\n",
       "      <td>2024</td>\n",
       "      <td>micro</td>\n",
       "    </tr>\n",
       "  </tbody>\n",
       "</table>\n",
       "<p>118562 rows × 9 columns</p>\n",
       "</div>"
      ],
      "text/plain": [
       "              Site  Entradas   Velocidade Tipo de Torneio       Data  \\\n",
       "358564   GGNetwork       592       Normal       Satellite 2023-01-01   \n",
       "358565   GGNetwork        78  Super Turbo         Regular 2023-01-01   \n",
       "358566  PokerStars       163        Turbo         Regular 2023-01-01   \n",
       "358567    888Poker        39       Normal          Bounty 2023-01-01   \n",
       "358568  PartyPoker        32       Normal          Bounty 2023-01-01   \n",
       "...            ...       ...          ...             ...        ...   \n",
       "477121  PokerStars       166        Turbo          Bounty 2024-05-08   \n",
       "477122         WPN       667       Normal          Bounty 2024-05-08   \n",
       "477123  PokerStars       914       Normal          Bounty 2024-05-08   \n",
       "477124  PokerStars       914       Normal          Bounty 2024-05-08   \n",
       "477125  PokerStars       126       Normal         Regular 2024-05-09   \n",
       "\n",
       "        Buy-in USD  Profit USD   Ano    Field  \n",
       "358564        55.0      -55.00  2023  pequeno  \n",
       "358565        50.0      -50.00  2023    micro  \n",
       "358566         5.5       -5.50  2023    micro  \n",
       "358567       109.0     -109.00  2023    micro  \n",
       "358568       109.0      112.15  2023    micro  \n",
       "...            ...         ...   ...      ...  \n",
       "477121        27.0       60.78  2024    micro  \n",
       "477122        66.0      -41.71  2024    médio  \n",
       "477123        16.5      -16.50  2024   grande  \n",
       "477124        16.5      -16.50  2024   grande  \n",
       "477125        27.0      -27.00  2024    micro  \n",
       "\n",
       "[118562 rows x 9 columns]"
      ]
     },
     "execution_count": 237,
     "metadata": {},
     "output_type": "execute_result"
    }
   ],
   "source": [
    "\n",
    "# Supondo que você já tenha criado a coluna 'Field' usando o código anterior\n",
    "# Vou adicionar isso aqui para que você possa ver o código completo\n",
    "\n",
    "# Crie os intervalos para dividir os dados\n",
    "bins = [0, 300, 600, 900, float('inf')]\n",
    "\n",
    "# Crie os rótulos para os grupos\n",
    "labels = ['micro', 'pequeno', 'médio', 'grande']\n",
    "\n",
    "# Use o método cut para criar os grupos e atribuir os rótulos\n",
    "df1['Field'] = pd.cut(df1['Entradas'], bins=bins, labels=labels, right=False)\n",
    "\n",
    "# Filtrar linhas com Ano igual a 2023 ou 2024\n",
    "df1_filtrado = df1.loc[df1['Ano'].isin([2023, 2024])]\n",
    "\n",
    "# Veja como ficou\n",
    "df1_filtrado\n"
   ]
  },
  {
   "cell_type": "code",
   "execution_count": 238,
   "metadata": {},
   "outputs": [
    {
     "name": "stderr",
     "output_type": "stream",
     "text": [
      "C:\\Users\\psyte\\AppData\\Local\\Temp\\ipykernel_72828\\2459079170.py:11: SettingWithCopyWarning:\n",
      "\n",
      "\n",
      "A value is trying to be set on a copy of a slice from a DataFrame.\n",
      "Try using .loc[row_indexer,col_indexer] = value instead\n",
      "\n",
      "See the caveats in the documentation: https://pandas.pydata.org/pandas-docs/stable/user_guide/indexing.html#returning-a-view-versus-a-copy\n",
      "\n"
     ]
    },
    {
     "data": {
      "text/html": [
       "<div>\n",
       "<style scoped>\n",
       "    .dataframe tbody tr th:only-of-type {\n",
       "        vertical-align: middle;\n",
       "    }\n",
       "\n",
       "    .dataframe tbody tr th {\n",
       "        vertical-align: top;\n",
       "    }\n",
       "\n",
       "    .dataframe thead th {\n",
       "        text-align: right;\n",
       "    }\n",
       "</style>\n",
       "<table border=\"1\" class=\"dataframe\">\n",
       "  <thead>\n",
       "    <tr style=\"text-align: right;\">\n",
       "      <th></th>\n",
       "      <th>Site</th>\n",
       "      <th>Entradas</th>\n",
       "      <th>Velocidade</th>\n",
       "      <th>Tipo de Torneio</th>\n",
       "      <th>Data</th>\n",
       "      <th>Buy-in USD</th>\n",
       "      <th>Profit USD</th>\n",
       "      <th>Ano</th>\n",
       "      <th>Field</th>\n",
       "      <th>Buy-in Group</th>\n",
       "    </tr>\n",
       "  </thead>\n",
       "  <tbody>\n",
       "    <tr>\n",
       "      <th>358564</th>\n",
       "      <td>GGNetwork</td>\n",
       "      <td>592</td>\n",
       "      <td>Normal</td>\n",
       "      <td>Satellite</td>\n",
       "      <td>2023-01-01</td>\n",
       "      <td>55.0</td>\n",
       "      <td>-55.00</td>\n",
       "      <td>2023</td>\n",
       "      <td>pequeno</td>\n",
       "      <td>muito alto</td>\n",
       "    </tr>\n",
       "    <tr>\n",
       "      <th>358565</th>\n",
       "      <td>GGNetwork</td>\n",
       "      <td>78</td>\n",
       "      <td>Super Turbo</td>\n",
       "      <td>Regular</td>\n",
       "      <td>2023-01-01</td>\n",
       "      <td>50.0</td>\n",
       "      <td>-50.00</td>\n",
       "      <td>2023</td>\n",
       "      <td>micro</td>\n",
       "      <td>alto</td>\n",
       "    </tr>\n",
       "    <tr>\n",
       "      <th>358566</th>\n",
       "      <td>PokerStars</td>\n",
       "      <td>163</td>\n",
       "      <td>Turbo</td>\n",
       "      <td>Regular</td>\n",
       "      <td>2023-01-01</td>\n",
       "      <td>5.5</td>\n",
       "      <td>-5.50</td>\n",
       "      <td>2023</td>\n",
       "      <td>micro</td>\n",
       "      <td>muito baixo</td>\n",
       "    </tr>\n",
       "    <tr>\n",
       "      <th>358567</th>\n",
       "      <td>888Poker</td>\n",
       "      <td>39</td>\n",
       "      <td>Normal</td>\n",
       "      <td>Bounty</td>\n",
       "      <td>2023-01-01</td>\n",
       "      <td>109.0</td>\n",
       "      <td>-109.00</td>\n",
       "      <td>2023</td>\n",
       "      <td>micro</td>\n",
       "      <td>muito alto</td>\n",
       "    </tr>\n",
       "    <tr>\n",
       "      <th>358568</th>\n",
       "      <td>PartyPoker</td>\n",
       "      <td>32</td>\n",
       "      <td>Normal</td>\n",
       "      <td>Bounty</td>\n",
       "      <td>2023-01-01</td>\n",
       "      <td>109.0</td>\n",
       "      <td>112.15</td>\n",
       "      <td>2023</td>\n",
       "      <td>micro</td>\n",
       "      <td>muito alto</td>\n",
       "    </tr>\n",
       "    <tr>\n",
       "      <th>...</th>\n",
       "      <td>...</td>\n",
       "      <td>...</td>\n",
       "      <td>...</td>\n",
       "      <td>...</td>\n",
       "      <td>...</td>\n",
       "      <td>...</td>\n",
       "      <td>...</td>\n",
       "      <td>...</td>\n",
       "      <td>...</td>\n",
       "      <td>...</td>\n",
       "    </tr>\n",
       "    <tr>\n",
       "      <th>477121</th>\n",
       "      <td>PokerStars</td>\n",
       "      <td>166</td>\n",
       "      <td>Turbo</td>\n",
       "      <td>Bounty</td>\n",
       "      <td>2024-05-08</td>\n",
       "      <td>27.0</td>\n",
       "      <td>60.78</td>\n",
       "      <td>2024</td>\n",
       "      <td>micro</td>\n",
       "      <td>médio-alto</td>\n",
       "    </tr>\n",
       "    <tr>\n",
       "      <th>477122</th>\n",
       "      <td>WPN</td>\n",
       "      <td>667</td>\n",
       "      <td>Normal</td>\n",
       "      <td>Bounty</td>\n",
       "      <td>2024-05-08</td>\n",
       "      <td>66.0</td>\n",
       "      <td>-41.71</td>\n",
       "      <td>2024</td>\n",
       "      <td>médio</td>\n",
       "      <td>muito alto</td>\n",
       "    </tr>\n",
       "    <tr>\n",
       "      <th>477123</th>\n",
       "      <td>PokerStars</td>\n",
       "      <td>914</td>\n",
       "      <td>Normal</td>\n",
       "      <td>Bounty</td>\n",
       "      <td>2024-05-08</td>\n",
       "      <td>16.5</td>\n",
       "      <td>-16.50</td>\n",
       "      <td>2024</td>\n",
       "      <td>grande</td>\n",
       "      <td>médio-baixo</td>\n",
       "    </tr>\n",
       "    <tr>\n",
       "      <th>477124</th>\n",
       "      <td>PokerStars</td>\n",
       "      <td>914</td>\n",
       "      <td>Normal</td>\n",
       "      <td>Bounty</td>\n",
       "      <td>2024-05-08</td>\n",
       "      <td>16.5</td>\n",
       "      <td>-16.50</td>\n",
       "      <td>2024</td>\n",
       "      <td>grande</td>\n",
       "      <td>médio-baixo</td>\n",
       "    </tr>\n",
       "    <tr>\n",
       "      <th>477125</th>\n",
       "      <td>PokerStars</td>\n",
       "      <td>126</td>\n",
       "      <td>Normal</td>\n",
       "      <td>Regular</td>\n",
       "      <td>2024-05-09</td>\n",
       "      <td>27.0</td>\n",
       "      <td>-27.00</td>\n",
       "      <td>2024</td>\n",
       "      <td>micro</td>\n",
       "      <td>médio-alto</td>\n",
       "    </tr>\n",
       "  </tbody>\n",
       "</table>\n",
       "<p>118562 rows × 10 columns</p>\n",
       "</div>"
      ],
      "text/plain": [
       "              Site  Entradas   Velocidade Tipo de Torneio       Data  \\\n",
       "358564   GGNetwork       592       Normal       Satellite 2023-01-01   \n",
       "358565   GGNetwork        78  Super Turbo         Regular 2023-01-01   \n",
       "358566  PokerStars       163        Turbo         Regular 2023-01-01   \n",
       "358567    888Poker        39       Normal          Bounty 2023-01-01   \n",
       "358568  PartyPoker        32       Normal          Bounty 2023-01-01   \n",
       "...            ...       ...          ...             ...        ...   \n",
       "477121  PokerStars       166        Turbo          Bounty 2024-05-08   \n",
       "477122         WPN       667       Normal          Bounty 2024-05-08   \n",
       "477123  PokerStars       914       Normal          Bounty 2024-05-08   \n",
       "477124  PokerStars       914       Normal          Bounty 2024-05-08   \n",
       "477125  PokerStars       126       Normal         Regular 2024-05-09   \n",
       "\n",
       "        Buy-in USD  Profit USD   Ano    Field Buy-in Group  \n",
       "358564        55.0      -55.00  2023  pequeno   muito alto  \n",
       "358565        50.0      -50.00  2023    micro         alto  \n",
       "358566         5.5       -5.50  2023    micro  muito baixo  \n",
       "358567       109.0     -109.00  2023    micro   muito alto  \n",
       "358568       109.0      112.15  2023    micro   muito alto  \n",
       "...            ...         ...   ...      ...          ...  \n",
       "477121        27.0       60.78  2024    micro   médio-alto  \n",
       "477122        66.0      -41.71  2024    médio   muito alto  \n",
       "477123        16.5      -16.50  2024   grande  médio-baixo  \n",
       "477124        16.5      -16.50  2024   grande  médio-baixo  \n",
       "477125        27.0      -27.00  2024    micro   médio-alto  \n",
       "\n",
       "[118562 rows x 10 columns]"
      ]
     },
     "execution_count": 238,
     "metadata": {},
     "output_type": "execute_result"
    }
   ],
   "source": [
    "\n",
    "# Divida os dados em quantis\n",
    "quantiles = df1_filtrado['Buy-in USD'].quantile([0, 1/6, 2/6, 3/6, 4/6, 5/6, 1])\n",
    "\n",
    "# Crie os intervalos com base nos quantis\n",
    "bins = [quantiles.iloc[i] for i in range(len(quantiles))]\n",
    "\n",
    "# Crie os rótulos para os grupos\n",
    "labels = ['muito baixo', 'baixo', 'médio-baixo', 'médio-alto', 'alto', 'muito alto']\n",
    "\n",
    "# Use o método cut para criar os grupos e atribuir os rótulos\n",
    "df1_filtrado['Buy-in Group'] = pd.cut(df1_filtrado['Buy-in USD'], bins=bins, labels=labels, right=False)\n",
    "\n",
    "# Veja como ficou\n",
    "df1_filtrado"
   ]
  },
  {
   "cell_type": "code",
   "execution_count": 239,
   "metadata": {},
   "outputs": [],
   "source": [
    "# Filtrar linhas onde o valor da coluna \"Tipo de Torneio\" não seja \"Satellite\"\n",
    "df= df[df['Tipo de Torneio'] != 'Satellite']"
   ]
  },
  {
   "cell_type": "code",
   "execution_count": 240,
   "metadata": {},
   "outputs": [
    {
     "name": "stdout",
     "output_type": "stream",
     "text": [
      "Número de tipos de torneio únicos: 2\n"
     ]
    }
   ],
   "source": [
    "# Extraindo valores únicos e contando-os\n",
    "dd = df['Tipo de Torneio'].unique()\n",
    "numero_de_valores_unicos = len(dd)\n",
    "\n",
    "# Imprimindo o resultado\n",
    "print(f\"Número de tipos de torneio únicos:\", numero_de_valores_unicos)\n",
    "\n"
   ]
  },
  {
   "cell_type": "code",
   "execution_count": 241,
   "metadata": {},
   "outputs": [
    {
     "data": {
      "text/html": [
       "<div>\n",
       "<style scoped>\n",
       "    .dataframe tbody tr th:only-of-type {\n",
       "        vertical-align: middle;\n",
       "    }\n",
       "\n",
       "    .dataframe tbody tr th {\n",
       "        vertical-align: top;\n",
       "    }\n",
       "\n",
       "    .dataframe thead th {\n",
       "        text-align: right;\n",
       "    }\n",
       "</style>\n",
       "<table border=\"1\" class=\"dataframe\">\n",
       "  <thead>\n",
       "    <tr style=\"text-align: right;\">\n",
       "      <th></th>\n",
       "      <th>Site</th>\n",
       "      <th>Nickname</th>\n",
       "      <th>Entradas</th>\n",
       "      <th>Velocidade</th>\n",
       "      <th>Posição</th>\n",
       "      <th>Tipo de Torneio</th>\n",
       "      <th>Moeda</th>\n",
       "      <th>Rebuys</th>\n",
       "      <th>Duração</th>\n",
       "      <th>Players Per Table</th>\n",
       "      <th>...</th>\n",
       "      <th>Buy-in USD</th>\n",
       "      <th>Rake USD</th>\n",
       "      <th>Stake USD</th>\n",
       "      <th>Profit USD</th>\n",
       "      <th>Intervalo de Buy-in</th>\n",
       "      <th>Intervalo de Field</th>\n",
       "      <th>Ano</th>\n",
       "      <th>Mês</th>\n",
       "      <th>Tipo de Duraçao</th>\n",
       "      <th>Field</th>\n",
       "    </tr>\n",
       "  </thead>\n",
       "  <tbody>\n",
       "    <tr>\n",
       "      <th>0</th>\n",
       "      <td>PokerStars</td>\n",
       "      <td>saviocesar</td>\n",
       "      <td>752</td>\n",
       "      <td>Normal</td>\n",
       "      <td>220</td>\n",
       "      <td>Regular</td>\n",
       "      <td>USD</td>\n",
       "      <td>0.0</td>\n",
       "      <td>299</td>\n",
       "      <td>NaN</td>\n",
       "      <td>...</td>\n",
       "      <td>0.00</td>\n",
       "      <td>0.00</td>\n",
       "      <td>0.00</td>\n",
       "      <td>0.00</td>\n",
       "      <td>nan</td>\n",
       "      <td>Field médio</td>\n",
       "      <td>2007</td>\n",
       "      <td>Junho</td>\n",
       "      <td>Média</td>\n",
       "      <td>médio</td>\n",
       "    </tr>\n",
       "    <tr>\n",
       "      <th>1</th>\n",
       "      <td>PokerStars</td>\n",
       "      <td>saviocesar</td>\n",
       "      <td>18</td>\n",
       "      <td>Turbo</td>\n",
       "      <td>1</td>\n",
       "      <td>Regular</td>\n",
       "      <td>USD</td>\n",
       "      <td>0.0</td>\n",
       "      <td>0</td>\n",
       "      <td>NaN</td>\n",
       "      <td>...</td>\n",
       "      <td>1.75</td>\n",
       "      <td>0.25</td>\n",
       "      <td>1.50</td>\n",
       "      <td>9.05</td>\n",
       "      <td>0.0; 10.0</td>\n",
       "      <td>Field pequeno</td>\n",
       "      <td>2007</td>\n",
       "      <td>Setembro</td>\n",
       "      <td>Curta</td>\n",
       "      <td>micro</td>\n",
       "    </tr>\n",
       "    <tr>\n",
       "      <th>2</th>\n",
       "      <td>PokerStars</td>\n",
       "      <td>saviocesar</td>\n",
       "      <td>18</td>\n",
       "      <td>Turbo</td>\n",
       "      <td>14</td>\n",
       "      <td>Regular</td>\n",
       "      <td>USD</td>\n",
       "      <td>0.0</td>\n",
       "      <td>0</td>\n",
       "      <td>NaN</td>\n",
       "      <td>...</td>\n",
       "      <td>1.75</td>\n",
       "      <td>0.25</td>\n",
       "      <td>1.50</td>\n",
       "      <td>-1.75</td>\n",
       "      <td>0.0; 10.0</td>\n",
       "      <td>Field pequeno</td>\n",
       "      <td>2007</td>\n",
       "      <td>Setembro</td>\n",
       "      <td>Curta</td>\n",
       "      <td>micro</td>\n",
       "    </tr>\n",
       "    <tr>\n",
       "      <th>3</th>\n",
       "      <td>PokerStars</td>\n",
       "      <td>saviocesar</td>\n",
       "      <td>18</td>\n",
       "      <td>Turbo</td>\n",
       "      <td>1</td>\n",
       "      <td>Regular</td>\n",
       "      <td>USD</td>\n",
       "      <td>0.0</td>\n",
       "      <td>0</td>\n",
       "      <td>NaN</td>\n",
       "      <td>...</td>\n",
       "      <td>1.75</td>\n",
       "      <td>0.25</td>\n",
       "      <td>1.50</td>\n",
       "      <td>9.05</td>\n",
       "      <td>0.0; 10.0</td>\n",
       "      <td>Field pequeno</td>\n",
       "      <td>2007</td>\n",
       "      <td>Setembro</td>\n",
       "      <td>Curta</td>\n",
       "      <td>micro</td>\n",
       "    </tr>\n",
       "    <tr>\n",
       "      <th>4</th>\n",
       "      <td>PokerStars</td>\n",
       "      <td>saviocesar</td>\n",
       "      <td>18</td>\n",
       "      <td>Turbo</td>\n",
       "      <td>4</td>\n",
       "      <td>Regular</td>\n",
       "      <td>USD</td>\n",
       "      <td>0.0</td>\n",
       "      <td>0</td>\n",
       "      <td>NaN</td>\n",
       "      <td>...</td>\n",
       "      <td>1.75</td>\n",
       "      <td>0.25</td>\n",
       "      <td>1.50</td>\n",
       "      <td>0.95</td>\n",
       "      <td>0.0; 10.0</td>\n",
       "      <td>Field pequeno</td>\n",
       "      <td>2007</td>\n",
       "      <td>Setembro</td>\n",
       "      <td>Curta</td>\n",
       "      <td>micro</td>\n",
       "    </tr>\n",
       "    <tr>\n",
       "      <th>...</th>\n",
       "      <td>...</td>\n",
       "      <td>...</td>\n",
       "      <td>...</td>\n",
       "      <td>...</td>\n",
       "      <td>...</td>\n",
       "      <td>...</td>\n",
       "      <td>...</td>\n",
       "      <td>...</td>\n",
       "      <td>...</td>\n",
       "      <td>...</td>\n",
       "      <td>...</td>\n",
       "      <td>...</td>\n",
       "      <td>...</td>\n",
       "      <td>...</td>\n",
       "      <td>...</td>\n",
       "      <td>...</td>\n",
       "      <td>...</td>\n",
       "      <td>...</td>\n",
       "      <td>...</td>\n",
       "      <td>...</td>\n",
       "      <td>...</td>\n",
       "    </tr>\n",
       "    <tr>\n",
       "      <th>477121</th>\n",
       "      <td>PokerStars</td>\n",
       "      <td>Dudu 1054</td>\n",
       "      <td>166</td>\n",
       "      <td>Turbo</td>\n",
       "      <td>9</td>\n",
       "      <td>Bounty</td>\n",
       "      <td>USD</td>\n",
       "      <td>0.0</td>\n",
       "      <td>175</td>\n",
       "      <td>8.0</td>\n",
       "      <td>...</td>\n",
       "      <td>27.00</td>\n",
       "      <td>2.45</td>\n",
       "      <td>24.55</td>\n",
       "      <td>60.78</td>\n",
       "      <td>20.0; 30.0</td>\n",
       "      <td>Field pequeno</td>\n",
       "      <td>2024</td>\n",
       "      <td>Maio</td>\n",
       "      <td>Curta</td>\n",
       "      <td>micro</td>\n",
       "    </tr>\n",
       "    <tr>\n",
       "      <th>477122</th>\n",
       "      <td>WPN</td>\n",
       "      <td>ForgeTTs</td>\n",
       "      <td>667</td>\n",
       "      <td>Normal</td>\n",
       "      <td>119</td>\n",
       "      <td>Bounty</td>\n",
       "      <td>USD</td>\n",
       "      <td>1.0</td>\n",
       "      <td>602</td>\n",
       "      <td>8.0</td>\n",
       "      <td>...</td>\n",
       "      <td>66.00</td>\n",
       "      <td>6.00</td>\n",
       "      <td>60.00</td>\n",
       "      <td>-41.71</td>\n",
       "      <td>56.0; 80.0</td>\n",
       "      <td>Field médio</td>\n",
       "      <td>2024</td>\n",
       "      <td>Maio</td>\n",
       "      <td>Longa</td>\n",
       "      <td>médio</td>\n",
       "    </tr>\n",
       "    <tr>\n",
       "      <th>477123</th>\n",
       "      <td>PokerStars</td>\n",
       "      <td>Dudu 1054</td>\n",
       "      <td>914</td>\n",
       "      <td>Normal</td>\n",
       "      <td>904</td>\n",
       "      <td>Bounty</td>\n",
       "      <td>USD</td>\n",
       "      <td>0.0</td>\n",
       "      <td>432</td>\n",
       "      <td>8.0</td>\n",
       "      <td>...</td>\n",
       "      <td>16.50</td>\n",
       "      <td>1.80</td>\n",
       "      <td>14.70</td>\n",
       "      <td>-16.50</td>\n",
       "      <td>10.0; 20.0</td>\n",
       "      <td>Field médio</td>\n",
       "      <td>2024</td>\n",
       "      <td>Maio</td>\n",
       "      <td>Média Longa</td>\n",
       "      <td>grande</td>\n",
       "    </tr>\n",
       "    <tr>\n",
       "      <th>477124</th>\n",
       "      <td>PokerStars</td>\n",
       "      <td>Dudu 1054</td>\n",
       "      <td>914</td>\n",
       "      <td>Normal</td>\n",
       "      <td>445</td>\n",
       "      <td>Bounty</td>\n",
       "      <td>USD</td>\n",
       "      <td>0.0</td>\n",
       "      <td>432</td>\n",
       "      <td>8.0</td>\n",
       "      <td>...</td>\n",
       "      <td>16.50</td>\n",
       "      <td>1.80</td>\n",
       "      <td>14.70</td>\n",
       "      <td>-16.50</td>\n",
       "      <td>10.0; 20.0</td>\n",
       "      <td>Field médio</td>\n",
       "      <td>2024</td>\n",
       "      <td>Maio</td>\n",
       "      <td>Média Longa</td>\n",
       "      <td>grande</td>\n",
       "    </tr>\n",
       "    <tr>\n",
       "      <th>477125</th>\n",
       "      <td>PokerStars</td>\n",
       "      <td>Dudu 1054</td>\n",
       "      <td>126</td>\n",
       "      <td>Normal</td>\n",
       "      <td>29</td>\n",
       "      <td>Regular</td>\n",
       "      <td>USD</td>\n",
       "      <td>0.0</td>\n",
       "      <td>365</td>\n",
       "      <td>8.0</td>\n",
       "      <td>...</td>\n",
       "      <td>27.00</td>\n",
       "      <td>2.45</td>\n",
       "      <td>24.55</td>\n",
       "      <td>-27.00</td>\n",
       "      <td>20.0; 30.0</td>\n",
       "      <td>Field pequeno</td>\n",
       "      <td>2024</td>\n",
       "      <td>Maio</td>\n",
       "      <td>Média</td>\n",
       "      <td>micro</td>\n",
       "    </tr>\n",
       "  </tbody>\n",
       "</table>\n",
       "<p>455663 rows × 28 columns</p>\n",
       "</div>"
      ],
      "text/plain": [
       "              Site    Nickname  Entradas Velocidade  Posição Tipo de Torneio  \\\n",
       "0       PokerStars  saviocesar       752     Normal      220         Regular   \n",
       "1       PokerStars  saviocesar        18      Turbo        1         Regular   \n",
       "2       PokerStars  saviocesar        18      Turbo       14         Regular   \n",
       "3       PokerStars  saviocesar        18      Turbo        1         Regular   \n",
       "4       PokerStars  saviocesar        18      Turbo        4         Regular   \n",
       "...            ...         ...       ...        ...      ...             ...   \n",
       "477121  PokerStars   Dudu 1054       166      Turbo        9          Bounty   \n",
       "477122         WPN    ForgeTTs       667     Normal      119          Bounty   \n",
       "477123  PokerStars   Dudu 1054       914     Normal      904          Bounty   \n",
       "477124  PokerStars   Dudu 1054       914     Normal      445          Bounty   \n",
       "477125  PokerStars   Dudu 1054       126     Normal       29         Regular   \n",
       "\n",
       "       Moeda  Rebuys  Duração  Players Per Table  ... Buy-in USD Rake USD  \\\n",
       "0        USD     0.0      299                NaN  ...       0.00     0.00   \n",
       "1        USD     0.0        0                NaN  ...       1.75     0.25   \n",
       "2        USD     0.0        0                NaN  ...       1.75     0.25   \n",
       "3        USD     0.0        0                NaN  ...       1.75     0.25   \n",
       "4        USD     0.0        0                NaN  ...       1.75     0.25   \n",
       "...      ...     ...      ...                ...  ...        ...      ...   \n",
       "477121   USD     0.0      175                8.0  ...      27.00     2.45   \n",
       "477122   USD     1.0      602                8.0  ...      66.00     6.00   \n",
       "477123   USD     0.0      432                8.0  ...      16.50     1.80   \n",
       "477124   USD     0.0      432                8.0  ...      16.50     1.80   \n",
       "477125   USD     0.0      365                8.0  ...      27.00     2.45   \n",
       "\n",
       "       Stake USD Profit USD Intervalo de Buy-in Intervalo de Field   Ano  \\\n",
       "0           0.00       0.00                 nan        Field médio  2007   \n",
       "1           1.50       9.05           0.0; 10.0      Field pequeno  2007   \n",
       "2           1.50      -1.75           0.0; 10.0      Field pequeno  2007   \n",
       "3           1.50       9.05           0.0; 10.0      Field pequeno  2007   \n",
       "4           1.50       0.95           0.0; 10.0      Field pequeno  2007   \n",
       "...          ...        ...                 ...                ...   ...   \n",
       "477121     24.55      60.78          20.0; 30.0      Field pequeno  2024   \n",
       "477122     60.00     -41.71          56.0; 80.0        Field médio  2024   \n",
       "477123     14.70     -16.50          10.0; 20.0        Field médio  2024   \n",
       "477124     14.70     -16.50          10.0; 20.0        Field médio  2024   \n",
       "477125     24.55     -27.00          20.0; 30.0      Field pequeno  2024   \n",
       "\n",
       "             Mês  Tipo de Duraçao   Field  \n",
       "0          Junho            Média   médio  \n",
       "1       Setembro            Curta   micro  \n",
       "2       Setembro            Curta   micro  \n",
       "3       Setembro            Curta   micro  \n",
       "4       Setembro            Curta   micro  \n",
       "...          ...              ...     ...  \n",
       "477121      Maio            Curta   micro  \n",
       "477122      Maio            Longa   médio  \n",
       "477123      Maio      Média Longa  grande  \n",
       "477124      Maio      Média Longa  grande  \n",
       "477125      Maio            Média   micro  \n",
       "\n",
       "[455663 rows x 28 columns]"
      ]
     },
     "execution_count": 241,
     "metadata": {},
     "output_type": "execute_result"
    }
   ],
   "source": [
    "df"
   ]
  },
  {
   "cell_type": "code",
   "execution_count": 242,
   "metadata": {},
   "outputs": [
    {
     "name": "stderr",
     "output_type": "stream",
     "text": [
      "C:\\Users\\psyte\\AppData\\Local\\Temp\\ipykernel_72828\\732694477.py:13: SettingWithCopyWarning:\n",
      "\n",
      "\n",
      "A value is trying to be set on a copy of a slice from a DataFrame.\n",
      "Try using .loc[row_indexer,col_indexer] = value instead\n",
      "\n",
      "See the caveats in the documentation: https://pandas.pydata.org/pandas-docs/stable/user_guide/indexing.html#returning-a-view-versus-a-copy\n",
      "\n",
      "C:\\Users\\psyte\\AppData\\Local\\Temp\\ipykernel_72828\\732694477.py:16: FutureWarning:\n",
      "\n",
      "The default of observed=False is deprecated and will be changed to True in a future version of pandas. Pass observed=False to retain current behavior or observed=True to adopt the future default and silence this warning.\n",
      "\n",
      "C:\\Users\\psyte\\AppData\\Local\\Temp\\ipykernel_72828\\732694477.py:19: FutureWarning:\n",
      "\n",
      "The default of observed=False is deprecated and will be changed to True in a future version of pandas. Pass observed=False to retain current behavior or observed=True to adopt the future default and silence this warning.\n",
      "\n"
     ]
    },
    {
     "data": {
      "application/vnd.plotly.v1+json": {
       "config": {
        "plotlyServerURL": "https://plot.ly"
       },
       "data": [
        {
         "alignmentgroup": "True",
         "hovertemplate": "Tipo de Torneio=Bounty<br>Intervalo de Entradas=%{x}<br>Quantidade=%{y}<extra></extra>",
         "legendgroup": "Bounty",
         "marker": {
          "color": "#636efa",
          "pattern": {
           "shape": ""
          }
         },
         "name": "Bounty",
         "offsetgroup": "Bounty",
         "orientation": "v",
         "showlegend": true,
         "textposition": "inside",
         "texttemplate": "%{y}",
         "type": "bar",
         "x": [
          "0-300",
          "300-600",
          "600-900",
          "900 ou mais"
         ],
         "xaxis": "x",
         "y": [
          45616,
          31980,
          22459,
          134066
         ],
         "yaxis": "y"
        },
        {
         "alignmentgroup": "True",
         "hovertemplate": "Tipo de Torneio=Regular<br>Intervalo de Entradas=%{x}<br>Quantidade=%{y}<extra></extra>",
         "legendgroup": "Regular",
         "marker": {
          "color": "#EF553B",
          "pattern": {
           "shape": ""
          }
         },
         "name": "Regular",
         "offsetgroup": "Regular",
         "orientation": "v",
         "showlegend": true,
         "textposition": "inside",
         "texttemplate": "%{y}",
         "type": "bar",
         "x": [
          "0-300",
          "300-600",
          "600-900",
          "900 ou mais"
         ],
         "xaxis": "x",
         "y": [
          75887,
          33630,
          20163,
          91862
         ],
         "yaxis": "y"
        }
       ],
       "layout": {
        "barmode": "relative",
        "legend": {
         "title": {
          "text": "Tipo de Torneio"
         },
         "tracegroupgap": 0
        },
        "template": {
         "data": {
          "bar": [
           {
            "error_x": {
             "color": "#2a3f5f"
            },
            "error_y": {
             "color": "#2a3f5f"
            },
            "marker": {
             "line": {
              "color": "#E5ECF6",
              "width": 0.5
             },
             "pattern": {
              "fillmode": "overlay",
              "size": 10,
              "solidity": 0.2
             }
            },
            "type": "bar"
           }
          ],
          "barpolar": [
           {
            "marker": {
             "line": {
              "color": "#E5ECF6",
              "width": 0.5
             },
             "pattern": {
              "fillmode": "overlay",
              "size": 10,
              "solidity": 0.2
             }
            },
            "type": "barpolar"
           }
          ],
          "carpet": [
           {
            "aaxis": {
             "endlinecolor": "#2a3f5f",
             "gridcolor": "white",
             "linecolor": "white",
             "minorgridcolor": "white",
             "startlinecolor": "#2a3f5f"
            },
            "baxis": {
             "endlinecolor": "#2a3f5f",
             "gridcolor": "white",
             "linecolor": "white",
             "minorgridcolor": "white",
             "startlinecolor": "#2a3f5f"
            },
            "type": "carpet"
           }
          ],
          "choropleth": [
           {
            "colorbar": {
             "outlinewidth": 0,
             "ticks": ""
            },
            "type": "choropleth"
           }
          ],
          "contour": [
           {
            "colorbar": {
             "outlinewidth": 0,
             "ticks": ""
            },
            "colorscale": [
             [
              0,
              "#0d0887"
             ],
             [
              0.1111111111111111,
              "#46039f"
             ],
             [
              0.2222222222222222,
              "#7201a8"
             ],
             [
              0.3333333333333333,
              "#9c179e"
             ],
             [
              0.4444444444444444,
              "#bd3786"
             ],
             [
              0.5555555555555556,
              "#d8576b"
             ],
             [
              0.6666666666666666,
              "#ed7953"
             ],
             [
              0.7777777777777778,
              "#fb9f3a"
             ],
             [
              0.8888888888888888,
              "#fdca26"
             ],
             [
              1,
              "#f0f921"
             ]
            ],
            "type": "contour"
           }
          ],
          "contourcarpet": [
           {
            "colorbar": {
             "outlinewidth": 0,
             "ticks": ""
            },
            "type": "contourcarpet"
           }
          ],
          "heatmap": [
           {
            "colorbar": {
             "outlinewidth": 0,
             "ticks": ""
            },
            "colorscale": [
             [
              0,
              "#0d0887"
             ],
             [
              0.1111111111111111,
              "#46039f"
             ],
             [
              0.2222222222222222,
              "#7201a8"
             ],
             [
              0.3333333333333333,
              "#9c179e"
             ],
             [
              0.4444444444444444,
              "#bd3786"
             ],
             [
              0.5555555555555556,
              "#d8576b"
             ],
             [
              0.6666666666666666,
              "#ed7953"
             ],
             [
              0.7777777777777778,
              "#fb9f3a"
             ],
             [
              0.8888888888888888,
              "#fdca26"
             ],
             [
              1,
              "#f0f921"
             ]
            ],
            "type": "heatmap"
           }
          ],
          "heatmapgl": [
           {
            "colorbar": {
             "outlinewidth": 0,
             "ticks": ""
            },
            "colorscale": [
             [
              0,
              "#0d0887"
             ],
             [
              0.1111111111111111,
              "#46039f"
             ],
             [
              0.2222222222222222,
              "#7201a8"
             ],
             [
              0.3333333333333333,
              "#9c179e"
             ],
             [
              0.4444444444444444,
              "#bd3786"
             ],
             [
              0.5555555555555556,
              "#d8576b"
             ],
             [
              0.6666666666666666,
              "#ed7953"
             ],
             [
              0.7777777777777778,
              "#fb9f3a"
             ],
             [
              0.8888888888888888,
              "#fdca26"
             ],
             [
              1,
              "#f0f921"
             ]
            ],
            "type": "heatmapgl"
           }
          ],
          "histogram": [
           {
            "marker": {
             "pattern": {
              "fillmode": "overlay",
              "size": 10,
              "solidity": 0.2
             }
            },
            "type": "histogram"
           }
          ],
          "histogram2d": [
           {
            "colorbar": {
             "outlinewidth": 0,
             "ticks": ""
            },
            "colorscale": [
             [
              0,
              "#0d0887"
             ],
             [
              0.1111111111111111,
              "#46039f"
             ],
             [
              0.2222222222222222,
              "#7201a8"
             ],
             [
              0.3333333333333333,
              "#9c179e"
             ],
             [
              0.4444444444444444,
              "#bd3786"
             ],
             [
              0.5555555555555556,
              "#d8576b"
             ],
             [
              0.6666666666666666,
              "#ed7953"
             ],
             [
              0.7777777777777778,
              "#fb9f3a"
             ],
             [
              0.8888888888888888,
              "#fdca26"
             ],
             [
              1,
              "#f0f921"
             ]
            ],
            "type": "histogram2d"
           }
          ],
          "histogram2dcontour": [
           {
            "colorbar": {
             "outlinewidth": 0,
             "ticks": ""
            },
            "colorscale": [
             [
              0,
              "#0d0887"
             ],
             [
              0.1111111111111111,
              "#46039f"
             ],
             [
              0.2222222222222222,
              "#7201a8"
             ],
             [
              0.3333333333333333,
              "#9c179e"
             ],
             [
              0.4444444444444444,
              "#bd3786"
             ],
             [
              0.5555555555555556,
              "#d8576b"
             ],
             [
              0.6666666666666666,
              "#ed7953"
             ],
             [
              0.7777777777777778,
              "#fb9f3a"
             ],
             [
              0.8888888888888888,
              "#fdca26"
             ],
             [
              1,
              "#f0f921"
             ]
            ],
            "type": "histogram2dcontour"
           }
          ],
          "mesh3d": [
           {
            "colorbar": {
             "outlinewidth": 0,
             "ticks": ""
            },
            "type": "mesh3d"
           }
          ],
          "parcoords": [
           {
            "line": {
             "colorbar": {
              "outlinewidth": 0,
              "ticks": ""
             }
            },
            "type": "parcoords"
           }
          ],
          "pie": [
           {
            "automargin": true,
            "type": "pie"
           }
          ],
          "scatter": [
           {
            "fillpattern": {
             "fillmode": "overlay",
             "size": 10,
             "solidity": 0.2
            },
            "type": "scatter"
           }
          ],
          "scatter3d": [
           {
            "line": {
             "colorbar": {
              "outlinewidth": 0,
              "ticks": ""
             }
            },
            "marker": {
             "colorbar": {
              "outlinewidth": 0,
              "ticks": ""
             }
            },
            "type": "scatter3d"
           }
          ],
          "scattercarpet": [
           {
            "marker": {
             "colorbar": {
              "outlinewidth": 0,
              "ticks": ""
             }
            },
            "type": "scattercarpet"
           }
          ],
          "scattergeo": [
           {
            "marker": {
             "colorbar": {
              "outlinewidth": 0,
              "ticks": ""
             }
            },
            "type": "scattergeo"
           }
          ],
          "scattergl": [
           {
            "marker": {
             "colorbar": {
              "outlinewidth": 0,
              "ticks": ""
             }
            },
            "type": "scattergl"
           }
          ],
          "scattermapbox": [
           {
            "marker": {
             "colorbar": {
              "outlinewidth": 0,
              "ticks": ""
             }
            },
            "type": "scattermapbox"
           }
          ],
          "scatterpolar": [
           {
            "marker": {
             "colorbar": {
              "outlinewidth": 0,
              "ticks": ""
             }
            },
            "type": "scatterpolar"
           }
          ],
          "scatterpolargl": [
           {
            "marker": {
             "colorbar": {
              "outlinewidth": 0,
              "ticks": ""
             }
            },
            "type": "scatterpolargl"
           }
          ],
          "scatterternary": [
           {
            "marker": {
             "colorbar": {
              "outlinewidth": 0,
              "ticks": ""
             }
            },
            "type": "scatterternary"
           }
          ],
          "surface": [
           {
            "colorbar": {
             "outlinewidth": 0,
             "ticks": ""
            },
            "colorscale": [
             [
              0,
              "#0d0887"
             ],
             [
              0.1111111111111111,
              "#46039f"
             ],
             [
              0.2222222222222222,
              "#7201a8"
             ],
             [
              0.3333333333333333,
              "#9c179e"
             ],
             [
              0.4444444444444444,
              "#bd3786"
             ],
             [
              0.5555555555555556,
              "#d8576b"
             ],
             [
              0.6666666666666666,
              "#ed7953"
             ],
             [
              0.7777777777777778,
              "#fb9f3a"
             ],
             [
              0.8888888888888888,
              "#fdca26"
             ],
             [
              1,
              "#f0f921"
             ]
            ],
            "type": "surface"
           }
          ],
          "table": [
           {
            "cells": {
             "fill": {
              "color": "#EBF0F8"
             },
             "line": {
              "color": "white"
             }
            },
            "header": {
             "fill": {
              "color": "#C8D4E3"
             },
             "line": {
              "color": "white"
             }
            },
            "type": "table"
           }
          ]
         },
         "layout": {
          "annotationdefaults": {
           "arrowcolor": "#2a3f5f",
           "arrowhead": 0,
           "arrowwidth": 1
          },
          "autotypenumbers": "strict",
          "coloraxis": {
           "colorbar": {
            "outlinewidth": 0,
            "ticks": ""
           }
          },
          "colorscale": {
           "diverging": [
            [
             0,
             "#8e0152"
            ],
            [
             0.1,
             "#c51b7d"
            ],
            [
             0.2,
             "#de77ae"
            ],
            [
             0.3,
             "#f1b6da"
            ],
            [
             0.4,
             "#fde0ef"
            ],
            [
             0.5,
             "#f7f7f7"
            ],
            [
             0.6,
             "#e6f5d0"
            ],
            [
             0.7,
             "#b8e186"
            ],
            [
             0.8,
             "#7fbc41"
            ],
            [
             0.9,
             "#4d9221"
            ],
            [
             1,
             "#276419"
            ]
           ],
           "sequential": [
            [
             0,
             "#0d0887"
            ],
            [
             0.1111111111111111,
             "#46039f"
            ],
            [
             0.2222222222222222,
             "#7201a8"
            ],
            [
             0.3333333333333333,
             "#9c179e"
            ],
            [
             0.4444444444444444,
             "#bd3786"
            ],
            [
             0.5555555555555556,
             "#d8576b"
            ],
            [
             0.6666666666666666,
             "#ed7953"
            ],
            [
             0.7777777777777778,
             "#fb9f3a"
            ],
            [
             0.8888888888888888,
             "#fdca26"
            ],
            [
             1,
             "#f0f921"
            ]
           ],
           "sequentialminus": [
            [
             0,
             "#0d0887"
            ],
            [
             0.1111111111111111,
             "#46039f"
            ],
            [
             0.2222222222222222,
             "#7201a8"
            ],
            [
             0.3333333333333333,
             "#9c179e"
            ],
            [
             0.4444444444444444,
             "#bd3786"
            ],
            [
             0.5555555555555556,
             "#d8576b"
            ],
            [
             0.6666666666666666,
             "#ed7953"
            ],
            [
             0.7777777777777778,
             "#fb9f3a"
            ],
            [
             0.8888888888888888,
             "#fdca26"
            ],
            [
             1,
             "#f0f921"
            ]
           ]
          },
          "colorway": [
           "#636efa",
           "#EF553B",
           "#00cc96",
           "#ab63fa",
           "#FFA15A",
           "#19d3f3",
           "#FF6692",
           "#B6E880",
           "#FF97FF",
           "#FECB52"
          ],
          "font": {
           "color": "#2a3f5f"
          },
          "geo": {
           "bgcolor": "white",
           "lakecolor": "white",
           "landcolor": "#E5ECF6",
           "showlakes": true,
           "showland": true,
           "subunitcolor": "white"
          },
          "hoverlabel": {
           "align": "left"
          },
          "hovermode": "closest",
          "mapbox": {
           "style": "light"
          },
          "paper_bgcolor": "white",
          "plot_bgcolor": "#E5ECF6",
          "polar": {
           "angularaxis": {
            "gridcolor": "white",
            "linecolor": "white",
            "ticks": ""
           },
           "bgcolor": "#E5ECF6",
           "radialaxis": {
            "gridcolor": "white",
            "linecolor": "white",
            "ticks": ""
           }
          },
          "scene": {
           "xaxis": {
            "backgroundcolor": "#E5ECF6",
            "gridcolor": "white",
            "gridwidth": 2,
            "linecolor": "white",
            "showbackground": true,
            "ticks": "",
            "zerolinecolor": "white"
           },
           "yaxis": {
            "backgroundcolor": "#E5ECF6",
            "gridcolor": "white",
            "gridwidth": 2,
            "linecolor": "white",
            "showbackground": true,
            "ticks": "",
            "zerolinecolor": "white"
           },
           "zaxis": {
            "backgroundcolor": "#E5ECF6",
            "gridcolor": "white",
            "gridwidth": 2,
            "linecolor": "white",
            "showbackground": true,
            "ticks": "",
            "zerolinecolor": "white"
           }
          },
          "shapedefaults": {
           "line": {
            "color": "#2a3f5f"
           }
          },
          "ternary": {
           "aaxis": {
            "gridcolor": "white",
            "linecolor": "white",
            "ticks": ""
           },
           "baxis": {
            "gridcolor": "white",
            "linecolor": "white",
            "ticks": ""
           },
           "bgcolor": "#E5ECF6",
           "caxis": {
            "gridcolor": "white",
            "linecolor": "white",
            "ticks": ""
           }
          },
          "title": {
           "x": 0.05
          },
          "xaxis": {
           "automargin": true,
           "gridcolor": "white",
           "linecolor": "white",
           "ticks": "",
           "title": {
            "standoff": 15
           },
           "zerolinecolor": "white",
           "zerolinewidth": 2
          },
          "yaxis": {
           "automargin": true,
           "gridcolor": "white",
           "linecolor": "white",
           "ticks": "",
           "title": {
            "standoff": 15
           },
           "zerolinecolor": "white",
           "zerolinewidth": 2
          }
         }
        },
        "title": {
         "text": "Quantidade de Torneios por Intervalo de Field e Tipo de Torneio (30.775 mil torneios) Torneios de 2024"
        },
        "xaxis": {
         "anchor": "y",
         "categoryarray": [
          "0-300",
          "300-600",
          "600-900",
          "900 ou mais"
         ],
         "categoryorder": "array",
         "domain": [
          0,
          1
         ],
         "title": {
          "text": "Intervalo de Entradas"
         }
        },
        "yaxis": {
         "anchor": "x",
         "domain": [
          0,
          1
         ],
         "title": {
          "text": "Quantidade"
         }
        }
       }
      }
     },
     "metadata": {},
     "output_type": "display_data"
    }
   ],
   "source": [
    "import pandas as pd\n",
    "import plotly.express as px\n",
    "\n",
    "# Supondo que seu DataFrame seja 'df'\n",
    "\n",
    "# Criar os intervalos para dividir os dados\n",
    "bins = [0, 300, 600, 900, float('inf')]\n",
    "\n",
    "# Criar os rótulos para os grupos\n",
    "labels = ['0-300', '300-600', '600-900', '900 ou mais']\n",
    "\n",
    "# Adicionar uma nova coluna ao DataFrame com os rótulos dos intervalos\n",
    "df['Intervalo'] = pd.cut(df['Entradas'], bins=bins, labels=labels, right=False)\n",
    "\n",
    "# Calcular a quantidade total de torneios em cada intervalo e tipo de torneio\n",
    "total_torneios_por_intervalo_tipo = df.groupby(['Intervalo', 'Tipo de Torneio']).size().reset_index(name='Total')\n",
    "\n",
    "# Calcular as porcentagens de cada tipo de torneio em cada intervalo\n",
    "total_torneios_por_intervalo = df.groupby('Intervalo').size().reset_index(name='Total')\n",
    "total_torneios_por_intervalo_tipo = pd.merge(total_torneios_por_intervalo_tipo, total_torneios_por_intervalo, on='Intervalo')\n",
    "total_torneios_por_intervalo_tipo['Porcentagem'] = total_torneios_por_intervalo_tipo['Total_x'] / total_torneios_por_intervalo_tipo['Total_y']\n",
    "\n",
    "# Criar o gráfico de barras com segmentação por Tipo de Torneio\n",
    "fig = px.bar(total_torneios_por_intervalo_tipo, x='Intervalo', y='Total_x', color='Tipo de Torneio', \n",
    "             labels={'Total_x': 'Quantidade', 'Intervalo': 'Intervalo de Entradas', 'Tipo de Torneio': 'Tipo de Torneio'},\n",
    "             title='Quantidade de Torneios por Intervalo de Field e Tipo de Torneio (30.775 mil torneios) Torneios de 2024',\n",
    "             category_orders={'Intervalo': labels})\n",
    "\n",
    "\n",
    "\n",
    "# Adicionar as porcentagens dentro das barras\n",
    "fig.update_traces(texttemplate='%{y}', textposition='inside')\n",
    "\n",
    "# Atualizar o layout do gráfico\n",
    "fig.update_layout(xaxis_title='Intervalo de Entradas',\n",
    "                  yaxis_title='Quantidade')\n",
    "\n",
    "# Mostrar o gráfico\n",
    "fig.show()\n",
    "\n"
   ]
  },
  {
   "cell_type": "code",
   "execution_count": 322,
   "metadata": {},
   "outputs": [
    {
     "name": "stderr",
     "output_type": "stream",
     "text": [
      "C:\\Users\\psyte\\AppData\\Local\\Temp\\ipykernel_72828\\3129229163.py:10: SettingWithCopyWarning:\n",
      "\n",
      "\n",
      "A value is trying to be set on a copy of a slice from a DataFrame.\n",
      "Try using .loc[row_indexer,col_indexer] = value instead\n",
      "\n",
      "See the caveats in the documentation: https://pandas.pydata.org/pandas-docs/stable/user_guide/indexing.html#returning-a-view-versus-a-copy\n",
      "\n",
      "C:\\Users\\psyte\\AppData\\Local\\Temp\\ipykernel_72828\\3129229163.py:13: FutureWarning:\n",
      "\n",
      "The default of observed=False is deprecated and will be changed to True in a future version of pandas. Pass observed=False to retain current behavior or observed=True to adopt the future default and silence this warning.\n",
      "\n",
      "C:\\Users\\psyte\\AppData\\Local\\Temp\\ipykernel_72828\\3129229163.py:16: FutureWarning:\n",
      "\n",
      "The default of observed=False is deprecated and will be changed to True in a future version of pandas. Pass observed=False to retain current behavior or observed=True to adopt the future default and silence this warning.\n",
      "\n"
     ]
    },
    {
     "data": {
      "application/vnd.plotly.v1+json": {
       "config": {
        "plotlyServerURL": "https://plot.ly"
       },
       "data": [
        {
         "marker": {
          "color": "blue"
         },
         "name": "Bounty",
         "text": [
          "20393",
          "13587",
          "7385",
          "36042"
         ],
         "type": "bar",
         "x": [
          "0-300",
          "300-600",
          "600-900",
          "900 ou mais"
         ],
         "y": [
          20393,
          13587,
          7385,
          36042
         ]
        },
        {
         "marker": {
          "color": "red"
         },
         "name": "Regular",
         "text": [
          "12480",
          "8571",
          "4775",
          "12189"
         ],
         "type": "bar",
         "x": [
          "0-300",
          "300-600",
          "600-900",
          "900 ou mais"
         ],
         "y": [
          12480,
          8571,
          4775,
          12189
         ]
        }
       ],
       "layout": {
        "barmode": "group",
        "template": {
         "data": {
          "bar": [
           {
            "error_x": {
             "color": "#2a3f5f"
            },
            "error_y": {
             "color": "#2a3f5f"
            },
            "marker": {
             "line": {
              "color": "#E5ECF6",
              "width": 0.5
             },
             "pattern": {
              "fillmode": "overlay",
              "size": 10,
              "solidity": 0.2
             }
            },
            "type": "bar"
           }
          ],
          "barpolar": [
           {
            "marker": {
             "line": {
              "color": "#E5ECF6",
              "width": 0.5
             },
             "pattern": {
              "fillmode": "overlay",
              "size": 10,
              "solidity": 0.2
             }
            },
            "type": "barpolar"
           }
          ],
          "carpet": [
           {
            "aaxis": {
             "endlinecolor": "#2a3f5f",
             "gridcolor": "white",
             "linecolor": "white",
             "minorgridcolor": "white",
             "startlinecolor": "#2a3f5f"
            },
            "baxis": {
             "endlinecolor": "#2a3f5f",
             "gridcolor": "white",
             "linecolor": "white",
             "minorgridcolor": "white",
             "startlinecolor": "#2a3f5f"
            },
            "type": "carpet"
           }
          ],
          "choropleth": [
           {
            "colorbar": {
             "outlinewidth": 0,
             "ticks": ""
            },
            "type": "choropleth"
           }
          ],
          "contour": [
           {
            "colorbar": {
             "outlinewidth": 0,
             "ticks": ""
            },
            "colorscale": [
             [
              0,
              "#0d0887"
             ],
             [
              0.1111111111111111,
              "#46039f"
             ],
             [
              0.2222222222222222,
              "#7201a8"
             ],
             [
              0.3333333333333333,
              "#9c179e"
             ],
             [
              0.4444444444444444,
              "#bd3786"
             ],
             [
              0.5555555555555556,
              "#d8576b"
             ],
             [
              0.6666666666666666,
              "#ed7953"
             ],
             [
              0.7777777777777778,
              "#fb9f3a"
             ],
             [
              0.8888888888888888,
              "#fdca26"
             ],
             [
              1,
              "#f0f921"
             ]
            ],
            "type": "contour"
           }
          ],
          "contourcarpet": [
           {
            "colorbar": {
             "outlinewidth": 0,
             "ticks": ""
            },
            "type": "contourcarpet"
           }
          ],
          "heatmap": [
           {
            "colorbar": {
             "outlinewidth": 0,
             "ticks": ""
            },
            "colorscale": [
             [
              0,
              "#0d0887"
             ],
             [
              0.1111111111111111,
              "#46039f"
             ],
             [
              0.2222222222222222,
              "#7201a8"
             ],
             [
              0.3333333333333333,
              "#9c179e"
             ],
             [
              0.4444444444444444,
              "#bd3786"
             ],
             [
              0.5555555555555556,
              "#d8576b"
             ],
             [
              0.6666666666666666,
              "#ed7953"
             ],
             [
              0.7777777777777778,
              "#fb9f3a"
             ],
             [
              0.8888888888888888,
              "#fdca26"
             ],
             [
              1,
              "#f0f921"
             ]
            ],
            "type": "heatmap"
           }
          ],
          "heatmapgl": [
           {
            "colorbar": {
             "outlinewidth": 0,
             "ticks": ""
            },
            "colorscale": [
             [
              0,
              "#0d0887"
             ],
             [
              0.1111111111111111,
              "#46039f"
             ],
             [
              0.2222222222222222,
              "#7201a8"
             ],
             [
              0.3333333333333333,
              "#9c179e"
             ],
             [
              0.4444444444444444,
              "#bd3786"
             ],
             [
              0.5555555555555556,
              "#d8576b"
             ],
             [
              0.6666666666666666,
              "#ed7953"
             ],
             [
              0.7777777777777778,
              "#fb9f3a"
             ],
             [
              0.8888888888888888,
              "#fdca26"
             ],
             [
              1,
              "#f0f921"
             ]
            ],
            "type": "heatmapgl"
           }
          ],
          "histogram": [
           {
            "marker": {
             "pattern": {
              "fillmode": "overlay",
              "size": 10,
              "solidity": 0.2
             }
            },
            "type": "histogram"
           }
          ],
          "histogram2d": [
           {
            "colorbar": {
             "outlinewidth": 0,
             "ticks": ""
            },
            "colorscale": [
             [
              0,
              "#0d0887"
             ],
             [
              0.1111111111111111,
              "#46039f"
             ],
             [
              0.2222222222222222,
              "#7201a8"
             ],
             [
              0.3333333333333333,
              "#9c179e"
             ],
             [
              0.4444444444444444,
              "#bd3786"
             ],
             [
              0.5555555555555556,
              "#d8576b"
             ],
             [
              0.6666666666666666,
              "#ed7953"
             ],
             [
              0.7777777777777778,
              "#fb9f3a"
             ],
             [
              0.8888888888888888,
              "#fdca26"
             ],
             [
              1,
              "#f0f921"
             ]
            ],
            "type": "histogram2d"
           }
          ],
          "histogram2dcontour": [
           {
            "colorbar": {
             "outlinewidth": 0,
             "ticks": ""
            },
            "colorscale": [
             [
              0,
              "#0d0887"
             ],
             [
              0.1111111111111111,
              "#46039f"
             ],
             [
              0.2222222222222222,
              "#7201a8"
             ],
             [
              0.3333333333333333,
              "#9c179e"
             ],
             [
              0.4444444444444444,
              "#bd3786"
             ],
             [
              0.5555555555555556,
              "#d8576b"
             ],
             [
              0.6666666666666666,
              "#ed7953"
             ],
             [
              0.7777777777777778,
              "#fb9f3a"
             ],
             [
              0.8888888888888888,
              "#fdca26"
             ],
             [
              1,
              "#f0f921"
             ]
            ],
            "type": "histogram2dcontour"
           }
          ],
          "mesh3d": [
           {
            "colorbar": {
             "outlinewidth": 0,
             "ticks": ""
            },
            "type": "mesh3d"
           }
          ],
          "parcoords": [
           {
            "line": {
             "colorbar": {
              "outlinewidth": 0,
              "ticks": ""
             }
            },
            "type": "parcoords"
           }
          ],
          "pie": [
           {
            "automargin": true,
            "type": "pie"
           }
          ],
          "scatter": [
           {
            "fillpattern": {
             "fillmode": "overlay",
             "size": 10,
             "solidity": 0.2
            },
            "type": "scatter"
           }
          ],
          "scatter3d": [
           {
            "line": {
             "colorbar": {
              "outlinewidth": 0,
              "ticks": ""
             }
            },
            "marker": {
             "colorbar": {
              "outlinewidth": 0,
              "ticks": ""
             }
            },
            "type": "scatter3d"
           }
          ],
          "scattercarpet": [
           {
            "marker": {
             "colorbar": {
              "outlinewidth": 0,
              "ticks": ""
             }
            },
            "type": "scattercarpet"
           }
          ],
          "scattergeo": [
           {
            "marker": {
             "colorbar": {
              "outlinewidth": 0,
              "ticks": ""
             }
            },
            "type": "scattergeo"
           }
          ],
          "scattergl": [
           {
            "marker": {
             "colorbar": {
              "outlinewidth": 0,
              "ticks": ""
             }
            },
            "type": "scattergl"
           }
          ],
          "scattermapbox": [
           {
            "marker": {
             "colorbar": {
              "outlinewidth": 0,
              "ticks": ""
             }
            },
            "type": "scattermapbox"
           }
          ],
          "scatterpolar": [
           {
            "marker": {
             "colorbar": {
              "outlinewidth": 0,
              "ticks": ""
             }
            },
            "type": "scatterpolar"
           }
          ],
          "scatterpolargl": [
           {
            "marker": {
             "colorbar": {
              "outlinewidth": 0,
              "ticks": ""
             }
            },
            "type": "scatterpolargl"
           }
          ],
          "scatterternary": [
           {
            "marker": {
             "colorbar": {
              "outlinewidth": 0,
              "ticks": ""
             }
            },
            "type": "scatterternary"
           }
          ],
          "surface": [
           {
            "colorbar": {
             "outlinewidth": 0,
             "ticks": ""
            },
            "colorscale": [
             [
              0,
              "#0d0887"
             ],
             [
              0.1111111111111111,
              "#46039f"
             ],
             [
              0.2222222222222222,
              "#7201a8"
             ],
             [
              0.3333333333333333,
              "#9c179e"
             ],
             [
              0.4444444444444444,
              "#bd3786"
             ],
             [
              0.5555555555555556,
              "#d8576b"
             ],
             [
              0.6666666666666666,
              "#ed7953"
             ],
             [
              0.7777777777777778,
              "#fb9f3a"
             ],
             [
              0.8888888888888888,
              "#fdca26"
             ],
             [
              1,
              "#f0f921"
             ]
            ],
            "type": "surface"
           }
          ],
          "table": [
           {
            "cells": {
             "fill": {
              "color": "#EBF0F8"
             },
             "line": {
              "color": "white"
             }
            },
            "header": {
             "fill": {
              "color": "#C8D4E3"
             },
             "line": {
              "color": "white"
             }
            },
            "type": "table"
           }
          ]
         },
         "layout": {
          "annotationdefaults": {
           "arrowcolor": "#2a3f5f",
           "arrowhead": 0,
           "arrowwidth": 1
          },
          "autotypenumbers": "strict",
          "coloraxis": {
           "colorbar": {
            "outlinewidth": 0,
            "ticks": ""
           }
          },
          "colorscale": {
           "diverging": [
            [
             0,
             "#8e0152"
            ],
            [
             0.1,
             "#c51b7d"
            ],
            [
             0.2,
             "#de77ae"
            ],
            [
             0.3,
             "#f1b6da"
            ],
            [
             0.4,
             "#fde0ef"
            ],
            [
             0.5,
             "#f7f7f7"
            ],
            [
             0.6,
             "#e6f5d0"
            ],
            [
             0.7,
             "#b8e186"
            ],
            [
             0.8,
             "#7fbc41"
            ],
            [
             0.9,
             "#4d9221"
            ],
            [
             1,
             "#276419"
            ]
           ],
           "sequential": [
            [
             0,
             "#0d0887"
            ],
            [
             0.1111111111111111,
             "#46039f"
            ],
            [
             0.2222222222222222,
             "#7201a8"
            ],
            [
             0.3333333333333333,
             "#9c179e"
            ],
            [
             0.4444444444444444,
             "#bd3786"
            ],
            [
             0.5555555555555556,
             "#d8576b"
            ],
            [
             0.6666666666666666,
             "#ed7953"
            ],
            [
             0.7777777777777778,
             "#fb9f3a"
            ],
            [
             0.8888888888888888,
             "#fdca26"
            ],
            [
             1,
             "#f0f921"
            ]
           ],
           "sequentialminus": [
            [
             0,
             "#0d0887"
            ],
            [
             0.1111111111111111,
             "#46039f"
            ],
            [
             0.2222222222222222,
             "#7201a8"
            ],
            [
             0.3333333333333333,
             "#9c179e"
            ],
            [
             0.4444444444444444,
             "#bd3786"
            ],
            [
             0.5555555555555556,
             "#d8576b"
            ],
            [
             0.6666666666666666,
             "#ed7953"
            ],
            [
             0.7777777777777778,
             "#fb9f3a"
            ],
            [
             0.8888888888888888,
             "#fdca26"
            ],
            [
             1,
             "#f0f921"
            ]
           ]
          },
          "colorway": [
           "#636efa",
           "#EF553B",
           "#00cc96",
           "#ab63fa",
           "#FFA15A",
           "#19d3f3",
           "#FF6692",
           "#B6E880",
           "#FF97FF",
           "#FECB52"
          ],
          "font": {
           "color": "#2a3f5f"
          },
          "geo": {
           "bgcolor": "white",
           "lakecolor": "white",
           "landcolor": "#E5ECF6",
           "showlakes": true,
           "showland": true,
           "subunitcolor": "white"
          },
          "hoverlabel": {
           "align": "left"
          },
          "hovermode": "closest",
          "mapbox": {
           "style": "light"
          },
          "paper_bgcolor": "white",
          "plot_bgcolor": "#E5ECF6",
          "polar": {
           "angularaxis": {
            "gridcolor": "white",
            "linecolor": "white",
            "ticks": ""
           },
           "bgcolor": "#E5ECF6",
           "radialaxis": {
            "gridcolor": "white",
            "linecolor": "white",
            "ticks": ""
           }
          },
          "scene": {
           "xaxis": {
            "backgroundcolor": "#E5ECF6",
            "gridcolor": "white",
            "gridwidth": 2,
            "linecolor": "white",
            "showbackground": true,
            "ticks": "",
            "zerolinecolor": "white"
           },
           "yaxis": {
            "backgroundcolor": "#E5ECF6",
            "gridcolor": "white",
            "gridwidth": 2,
            "linecolor": "white",
            "showbackground": true,
            "ticks": "",
            "zerolinecolor": "white"
           },
           "zaxis": {
            "backgroundcolor": "#E5ECF6",
            "gridcolor": "white",
            "gridwidth": 2,
            "linecolor": "white",
            "showbackground": true,
            "ticks": "",
            "zerolinecolor": "white"
           }
          },
          "shapedefaults": {
           "line": {
            "color": "#2a3f5f"
           }
          },
          "ternary": {
           "aaxis": {
            "gridcolor": "white",
            "linecolor": "white",
            "ticks": ""
           },
           "baxis": {
            "gridcolor": "white",
            "linecolor": "white",
            "ticks": ""
           },
           "bgcolor": "#E5ECF6",
           "caxis": {
            "gridcolor": "white",
            "linecolor": "white",
            "ticks": ""
           }
          },
          "title": {
           "x": 0.05
          },
          "xaxis": {
           "automargin": true,
           "gridcolor": "white",
           "linecolor": "white",
           "ticks": "",
           "title": {
            "standoff": 15
           },
           "zerolinecolor": "white",
           "zerolinewidth": 2
          },
          "yaxis": {
           "automargin": true,
           "gridcolor": "white",
           "linecolor": "white",
           "ticks": "",
           "title": {
            "standoff": 15
           },
           "zerolinecolor": "white",
           "zerolinewidth": 2
          }
         }
        },
        "title": {
         "text": "Quantidade de Torneios por Intervalo de Field e Tipo de Torneio (118.562 mil torneios) Torneios de 2024"
        },
        "xaxis": {
         "title": {
          "text": "Intervalo de Entradas"
         }
        },
        "yaxis": {
         "title": {
          "text": "Quantidade"
         }
        }
       }
      }
     },
     "metadata": {},
     "output_type": "display_data"
    }
   ],
   "source": [
    "import plotly.graph_objects as go\n",
    "\n",
    "# Definindo os intervalos para dividir os dados\n",
    "bins = [0, 300, 600, 900, float('inf')]\n",
    "\n",
    "# Definindo os rótulos para os grupos\n",
    "labels = ['0-300', '300-600', '600-900', '900 ou mais']\n",
    "\n",
    "# Adicionando uma nova coluna ao DataFrame com os rótulos dos intervalos\n",
    "df77['Intervalo'] = pd.cut(df77['Entradas'], bins=bins, labels=labels, right=False)\n",
    "\n",
    "# Calculando a quantidade total de torneios em cada intervalo e tipo de torneio\n",
    "total_torneios_por_intervalo_tipo = df77.groupby(['Intervalo', 'Tipo de Torneio']).size().reset_index(name='Total')\n",
    "\n",
    "# Calculando as porcentagens de cada tipo de torneio em cada intervalo\n",
    "total_torneios_por_intervalo = df77.groupby('Intervalo').size().reset_index(name='Total')\n",
    "total_torneios_por_intervalo_tipo = pd.merge(total_torneios_por_intervalo_tipo, total_torneios_por_intervalo, on='Intervalo')\n",
    "total_torneios_por_intervalo_tipo['Porcentagem'] = total_torneios_por_intervalo_tipo['Total_x'] / total_torneios_por_intervalo_tipo['Total_y']\n",
    "\n",
    "# Definindo os rótulos para as barras (serão compartilhados por ambos os conjuntos)\n",
    "rotulos = labels\n",
    "\n",
    "# Criando as listas de valores para cada tipo de torneio\n",
    "valores_por_tipo = {}\n",
    "for tipo_torneio in total_torneios_por_intervalo_tipo['Tipo de Torneio'].unique():\n",
    "    valores_por_tipo[tipo_torneio] = total_torneios_por_intervalo_tipo[total_torneios_por_intervalo_tipo['Tipo de Torneio'] == tipo_torneio]['Total_x'].tolist()\n",
    "\n",
    "    \n",
    "    \n",
    "    \n",
    "    \n",
    "# Criando as barras para cada tipo de torneio\n",
    "barras = []\n",
    "cores = ['blue', 'red']  # Cores alternadas para os tipos de torneio\n",
    "for tipo_torneio, cor in zip(valores_por_tipo.keys(), cores):\n",
    "    barras.append(go.Bar(\n",
    "        x=rotulos,\n",
    "        y=valores_por_tipo[tipo_torneio],\n",
    "        text=valores_por_tipo[tipo_torneio],  # Adicionando os valores como texto nas barras\n",
    "        name=tipo_torneio,\n",
    "        marker_color=cor  # Aplicando a cor alternada\n",
    "    ))\n",
    "\n",
    "# Criando a figura\n",
    "fig = go.Figure()\n",
    "\n",
    "# Adicionando as barras à figura\n",
    "for barra in barras:\n",
    "    fig.add_trace(barra)\n",
    "\n",
    "\n",
    "# Atualizando o layout do gráfico\n",
    "fig.update_layout(\n",
    "    xaxis_title='Intervalo de Entradas',\n",
    "    yaxis_title='Quantidade',\n",
    "    title='Quantidade de Torneios por Intervalo de Field e Tipo de Torneio (118.562 mil torneios) Torneios de 2024',\n",
    "    barmode='group'  # Agrupando as barras\n",
    ")\n",
    "\n",
    "# Exibindo o gráfico\n",
    "fig.show()\n"
   ]
  },
  {
   "cell_type": "code",
   "execution_count": 321,
   "metadata": {},
   "outputs": [
    {
     "data": {
      "text/plain": [
       "(118562, 29)"
      ]
     },
     "execution_count": 321,
     "metadata": {},
     "output_type": "execute_result"
    }
   ],
   "source": [
    "df77.shape"
   ]
  },
  {
   "cell_type": "code",
   "execution_count": 245,
   "metadata": {},
   "outputs": [
    {
     "name": "stderr",
     "output_type": "stream",
     "text": [
      "C:\\Users\\psyte\\AppData\\Local\\Temp\\ipykernel_72828\\2269907396.py:11: SettingWithCopyWarning:\n",
      "\n",
      "\n",
      "A value is trying to be set on a copy of a slice from a DataFrame.\n",
      "Try using .loc[row_indexer,col_indexer] = value instead\n",
      "\n",
      "See the caveats in the documentation: https://pandas.pydata.org/pandas-docs/stable/user_guide/indexing.html#returning-a-view-versus-a-copy\n",
      "\n"
     ]
    },
    {
     "data": {
      "text/html": [
       "<div>\n",
       "<style scoped>\n",
       "    .dataframe tbody tr th:only-of-type {\n",
       "        vertical-align: middle;\n",
       "    }\n",
       "\n",
       "    .dataframe tbody tr th {\n",
       "        vertical-align: top;\n",
       "    }\n",
       "\n",
       "    .dataframe thead th {\n",
       "        text-align: right;\n",
       "    }\n",
       "</style>\n",
       "<table border=\"1\" class=\"dataframe\">\n",
       "  <thead>\n",
       "    <tr style=\"text-align: right;\">\n",
       "      <th></th>\n",
       "      <th>Site</th>\n",
       "      <th>Nickname</th>\n",
       "      <th>Entradas</th>\n",
       "      <th>Velocidade</th>\n",
       "      <th>Posição</th>\n",
       "      <th>Tipo de Torneio</th>\n",
       "      <th>Moeda</th>\n",
       "      <th>Rebuys</th>\n",
       "      <th>Duração</th>\n",
       "      <th>Players Per Table</th>\n",
       "      <th>...</th>\n",
       "      <th>Buy-in USD</th>\n",
       "      <th>Rake USD</th>\n",
       "      <th>Stake USD</th>\n",
       "      <th>Profit USD</th>\n",
       "      <th>Intervalo de Buy-in</th>\n",
       "      <th>Intervalo de Field</th>\n",
       "      <th>Ano</th>\n",
       "      <th>Mês</th>\n",
       "      <th>Tipo de Duraçao</th>\n",
       "      <th>Buy-in Group</th>\n",
       "    </tr>\n",
       "  </thead>\n",
       "  <tbody>\n",
       "    <tr>\n",
       "      <th>445462</th>\n",
       "      <td>GGNetwork</td>\n",
       "      <td>JohnnyStar8</td>\n",
       "      <td>55</td>\n",
       "      <td>Normal</td>\n",
       "      <td>0</td>\n",
       "      <td>Regular</td>\n",
       "      <td>USD</td>\n",
       "      <td>0.0</td>\n",
       "      <td>386</td>\n",
       "      <td>8.0</td>\n",
       "      <td>...</td>\n",
       "      <td>88.0</td>\n",
       "      <td>7.04</td>\n",
       "      <td>80.96</td>\n",
       "      <td>-88.00</td>\n",
       "      <td>80.0; 116.0</td>\n",
       "      <td>Field pequeno</td>\n",
       "      <td>2024</td>\n",
       "      <td>Janeiro</td>\n",
       "      <td>Média</td>\n",
       "      <td>muito alto</td>\n",
       "    </tr>\n",
       "    <tr>\n",
       "      <th>445463</th>\n",
       "      <td>PokerStars</td>\n",
       "      <td>Bernardo807</td>\n",
       "      <td>753</td>\n",
       "      <td>Normal</td>\n",
       "      <td>401</td>\n",
       "      <td>Bounty</td>\n",
       "      <td>USD</td>\n",
       "      <td>0.0</td>\n",
       "      <td>407</td>\n",
       "      <td>8.0</td>\n",
       "      <td>...</td>\n",
       "      <td>44.0</td>\n",
       "      <td>4.00</td>\n",
       "      <td>40.00</td>\n",
       "      <td>-44.00</td>\n",
       "      <td>30.0; 56.0</td>\n",
       "      <td>Field médio</td>\n",
       "      <td>2024</td>\n",
       "      <td>Janeiro</td>\n",
       "      <td>Média Longa</td>\n",
       "      <td>alto</td>\n",
       "    </tr>\n",
       "    <tr>\n",
       "      <th>445464</th>\n",
       "      <td>GGNetwork</td>\n",
       "      <td>JohnnyStar8</td>\n",
       "      <td>296</td>\n",
       "      <td>Normal</td>\n",
       "      <td>0</td>\n",
       "      <td>Bounty</td>\n",
       "      <td>USD</td>\n",
       "      <td>0.0</td>\n",
       "      <td>474</td>\n",
       "      <td>8.0</td>\n",
       "      <td>...</td>\n",
       "      <td>44.0</td>\n",
       "      <td>2.80</td>\n",
       "      <td>41.20</td>\n",
       "      <td>-44.00</td>\n",
       "      <td>30.0; 56.0</td>\n",
       "      <td>Field pequeno</td>\n",
       "      <td>2024</td>\n",
       "      <td>Janeiro</td>\n",
       "      <td>Média Longa</td>\n",
       "      <td>alto</td>\n",
       "    </tr>\n",
       "    <tr>\n",
       "      <th>445465</th>\n",
       "      <td>PartyPoker</td>\n",
       "      <td>Isildur8</td>\n",
       "      <td>352</td>\n",
       "      <td>Normal</td>\n",
       "      <td>115</td>\n",
       "      <td>Bounty</td>\n",
       "      <td>USD</td>\n",
       "      <td>0.0</td>\n",
       "      <td>397</td>\n",
       "      <td>9.0</td>\n",
       "      <td>...</td>\n",
       "      <td>55.0</td>\n",
       "      <td>5.00</td>\n",
       "      <td>50.00</td>\n",
       "      <td>-55.00</td>\n",
       "      <td>30.0; 56.0</td>\n",
       "      <td>Field médio</td>\n",
       "      <td>2024</td>\n",
       "      <td>Janeiro</td>\n",
       "      <td>Média</td>\n",
       "      <td>muito alto</td>\n",
       "    </tr>\n",
       "    <tr>\n",
       "      <th>445466</th>\n",
       "      <td>PartyPoker</td>\n",
       "      <td>Isildur8</td>\n",
       "      <td>390</td>\n",
       "      <td>Normal</td>\n",
       "      <td>159</td>\n",
       "      <td>Bounty</td>\n",
       "      <td>USD</td>\n",
       "      <td>0.0</td>\n",
       "      <td>363</td>\n",
       "      <td>9.0</td>\n",
       "      <td>...</td>\n",
       "      <td>33.0</td>\n",
       "      <td>3.00</td>\n",
       "      <td>30.00</td>\n",
       "      <td>-33.00</td>\n",
       "      <td>30.0; 56.0</td>\n",
       "      <td>Field médio</td>\n",
       "      <td>2024</td>\n",
       "      <td>Janeiro</td>\n",
       "      <td>Média</td>\n",
       "      <td>alto</td>\n",
       "    </tr>\n",
       "    <tr>\n",
       "      <th>...</th>\n",
       "      <td>...</td>\n",
       "      <td>...</td>\n",
       "      <td>...</td>\n",
       "      <td>...</td>\n",
       "      <td>...</td>\n",
       "      <td>...</td>\n",
       "      <td>...</td>\n",
       "      <td>...</td>\n",
       "      <td>...</td>\n",
       "      <td>...</td>\n",
       "      <td>...</td>\n",
       "      <td>...</td>\n",
       "      <td>...</td>\n",
       "      <td>...</td>\n",
       "      <td>...</td>\n",
       "      <td>...</td>\n",
       "      <td>...</td>\n",
       "      <td>...</td>\n",
       "      <td>...</td>\n",
       "      <td>...</td>\n",
       "      <td>...</td>\n",
       "    </tr>\n",
       "    <tr>\n",
       "      <th>477121</th>\n",
       "      <td>PokerStars</td>\n",
       "      <td>Dudu 1054</td>\n",
       "      <td>166</td>\n",
       "      <td>Turbo</td>\n",
       "      <td>9</td>\n",
       "      <td>Bounty</td>\n",
       "      <td>USD</td>\n",
       "      <td>0.0</td>\n",
       "      <td>175</td>\n",
       "      <td>8.0</td>\n",
       "      <td>...</td>\n",
       "      <td>27.0</td>\n",
       "      <td>2.45</td>\n",
       "      <td>24.55</td>\n",
       "      <td>60.78</td>\n",
       "      <td>20.0; 30.0</td>\n",
       "      <td>Field pequeno</td>\n",
       "      <td>2024</td>\n",
       "      <td>Maio</td>\n",
       "      <td>Curta</td>\n",
       "      <td>médio-alto</td>\n",
       "    </tr>\n",
       "    <tr>\n",
       "      <th>477122</th>\n",
       "      <td>WPN</td>\n",
       "      <td>ForgeTTs</td>\n",
       "      <td>667</td>\n",
       "      <td>Normal</td>\n",
       "      <td>119</td>\n",
       "      <td>Bounty</td>\n",
       "      <td>USD</td>\n",
       "      <td>1.0</td>\n",
       "      <td>602</td>\n",
       "      <td>8.0</td>\n",
       "      <td>...</td>\n",
       "      <td>66.0</td>\n",
       "      <td>6.00</td>\n",
       "      <td>60.00</td>\n",
       "      <td>-41.71</td>\n",
       "      <td>56.0; 80.0</td>\n",
       "      <td>Field médio</td>\n",
       "      <td>2024</td>\n",
       "      <td>Maio</td>\n",
       "      <td>Longa</td>\n",
       "      <td>muito alto</td>\n",
       "    </tr>\n",
       "    <tr>\n",
       "      <th>477123</th>\n",
       "      <td>PokerStars</td>\n",
       "      <td>Dudu 1054</td>\n",
       "      <td>914</td>\n",
       "      <td>Normal</td>\n",
       "      <td>904</td>\n",
       "      <td>Bounty</td>\n",
       "      <td>USD</td>\n",
       "      <td>0.0</td>\n",
       "      <td>432</td>\n",
       "      <td>8.0</td>\n",
       "      <td>...</td>\n",
       "      <td>16.5</td>\n",
       "      <td>1.80</td>\n",
       "      <td>14.70</td>\n",
       "      <td>-16.50</td>\n",
       "      <td>10.0; 20.0</td>\n",
       "      <td>Field médio</td>\n",
       "      <td>2024</td>\n",
       "      <td>Maio</td>\n",
       "      <td>Média Longa</td>\n",
       "      <td>médio-baixo</td>\n",
       "    </tr>\n",
       "    <tr>\n",
       "      <th>477124</th>\n",
       "      <td>PokerStars</td>\n",
       "      <td>Dudu 1054</td>\n",
       "      <td>914</td>\n",
       "      <td>Normal</td>\n",
       "      <td>445</td>\n",
       "      <td>Bounty</td>\n",
       "      <td>USD</td>\n",
       "      <td>0.0</td>\n",
       "      <td>432</td>\n",
       "      <td>8.0</td>\n",
       "      <td>...</td>\n",
       "      <td>16.5</td>\n",
       "      <td>1.80</td>\n",
       "      <td>14.70</td>\n",
       "      <td>-16.50</td>\n",
       "      <td>10.0; 20.0</td>\n",
       "      <td>Field médio</td>\n",
       "      <td>2024</td>\n",
       "      <td>Maio</td>\n",
       "      <td>Média Longa</td>\n",
       "      <td>médio-baixo</td>\n",
       "    </tr>\n",
       "    <tr>\n",
       "      <th>477125</th>\n",
       "      <td>PokerStars</td>\n",
       "      <td>Dudu 1054</td>\n",
       "      <td>126</td>\n",
       "      <td>Normal</td>\n",
       "      <td>29</td>\n",
       "      <td>Regular</td>\n",
       "      <td>USD</td>\n",
       "      <td>0.0</td>\n",
       "      <td>365</td>\n",
       "      <td>8.0</td>\n",
       "      <td>...</td>\n",
       "      <td>27.0</td>\n",
       "      <td>2.45</td>\n",
       "      <td>24.55</td>\n",
       "      <td>-27.00</td>\n",
       "      <td>20.0; 30.0</td>\n",
       "      <td>Field pequeno</td>\n",
       "      <td>2024</td>\n",
       "      <td>Maio</td>\n",
       "      <td>Média</td>\n",
       "      <td>médio-alto</td>\n",
       "    </tr>\n",
       "  </tbody>\n",
       "</table>\n",
       "<p>31664 rows × 28 columns</p>\n",
       "</div>"
      ],
      "text/plain": [
       "              Site     Nickname  Entradas Velocidade  Posição Tipo de Torneio  \\\n",
       "445462   GGNetwork  JohnnyStar8        55     Normal        0         Regular   \n",
       "445463  PokerStars  Bernardo807       753     Normal      401          Bounty   \n",
       "445464   GGNetwork  JohnnyStar8       296     Normal        0          Bounty   \n",
       "445465  PartyPoker     Isildur8       352     Normal      115          Bounty   \n",
       "445466  PartyPoker     Isildur8       390     Normal      159          Bounty   \n",
       "...            ...          ...       ...        ...      ...             ...   \n",
       "477121  PokerStars    Dudu 1054       166      Turbo        9          Bounty   \n",
       "477122         WPN     ForgeTTs       667     Normal      119          Bounty   \n",
       "477123  PokerStars    Dudu 1054       914     Normal      904          Bounty   \n",
       "477124  PokerStars    Dudu 1054       914     Normal      445          Bounty   \n",
       "477125  PokerStars    Dudu 1054       126     Normal       29         Regular   \n",
       "\n",
       "       Moeda  Rebuys  Duração  Players Per Table  ... Buy-in USD Rake USD  \\\n",
       "445462   USD     0.0      386                8.0  ...       88.0     7.04   \n",
       "445463   USD     0.0      407                8.0  ...       44.0     4.00   \n",
       "445464   USD     0.0      474                8.0  ...       44.0     2.80   \n",
       "445465   USD     0.0      397                9.0  ...       55.0     5.00   \n",
       "445466   USD     0.0      363                9.0  ...       33.0     3.00   \n",
       "...      ...     ...      ...                ...  ...        ...      ...   \n",
       "477121   USD     0.0      175                8.0  ...       27.0     2.45   \n",
       "477122   USD     1.0      602                8.0  ...       66.0     6.00   \n",
       "477123   USD     0.0      432                8.0  ...       16.5     1.80   \n",
       "477124   USD     0.0      432                8.0  ...       16.5     1.80   \n",
       "477125   USD     0.0      365                8.0  ...       27.0     2.45   \n",
       "\n",
       "       Stake USD Profit USD Intervalo de Buy-in Intervalo de Field   Ano  \\\n",
       "445462     80.96     -88.00         80.0; 116.0      Field pequeno  2024   \n",
       "445463     40.00     -44.00          30.0; 56.0        Field médio  2024   \n",
       "445464     41.20     -44.00          30.0; 56.0      Field pequeno  2024   \n",
       "445465     50.00     -55.00          30.0; 56.0        Field médio  2024   \n",
       "445466     30.00     -33.00          30.0; 56.0        Field médio  2024   \n",
       "...          ...        ...                 ...                ...   ...   \n",
       "477121     24.55      60.78          20.0; 30.0      Field pequeno  2024   \n",
       "477122     60.00     -41.71          56.0; 80.0        Field médio  2024   \n",
       "477123     14.70     -16.50          10.0; 20.0        Field médio  2024   \n",
       "477124     14.70     -16.50          10.0; 20.0        Field médio  2024   \n",
       "477125     24.55     -27.00          20.0; 30.0      Field pequeno  2024   \n",
       "\n",
       "            Mês  Tipo de Duraçao  Buy-in Group  \n",
       "445462  Janeiro            Média    muito alto  \n",
       "445463  Janeiro      Média Longa          alto  \n",
       "445464  Janeiro      Média Longa          alto  \n",
       "445465  Janeiro            Média    muito alto  \n",
       "445466  Janeiro            Média          alto  \n",
       "...         ...              ...           ...  \n",
       "477121     Maio            Curta    médio-alto  \n",
       "477122     Maio            Longa    muito alto  \n",
       "477123     Maio      Média Longa   médio-baixo  \n",
       "477124     Maio      Média Longa   médio-baixo  \n",
       "477125     Maio            Média    médio-alto  \n",
       "\n",
       "[31664 rows x 28 columns]"
      ]
     },
     "execution_count": 245,
     "metadata": {},
     "output_type": "execute_result"
    }
   ],
   "source": [
    "\n",
    "# Divida os dados em quantis\n",
    "quantiles = df10['Buy-in USD'].quantile([0, 1/6, 2/6, 3/6, 4/6, 5/6, 1])\n",
    "\n",
    "# Crie os intervalos com base nos quantis\n",
    "bins = [quantiles.iloc[i] for i in range(len(quantiles))]\n",
    "\n",
    "# Crie os rótulos para os grupos\n",
    "labels = ['muito baixo', 'baixo', 'médio-baixo', 'médio-alto', 'alto', 'muito alto']\n",
    "\n",
    "# Use o método cut para criar os grupos e atribuir os rótulos\n",
    "df10['Buy-in Group'] = pd.cut(df10['Buy-in USD'], bins=bins, labels=labels, right=False)\n",
    "\n",
    "# Veja como ficou\n",
    "df10"
   ]
  },
  {
   "cell_type": "code",
   "execution_count": 246,
   "metadata": {},
   "outputs": [
    {
     "name": "stderr",
     "output_type": "stream",
     "text": [
      "C:\\Users\\psyte\\AppData\\Local\\Temp\\ipykernel_72828\\2235257594.py:11: SettingWithCopyWarning:\n",
      "\n",
      "\n",
      "A value is trying to be set on a copy of a slice from a DataFrame.\n",
      "Try using .loc[row_indexer,col_indexer] = value instead\n",
      "\n",
      "See the caveats in the documentation: https://pandas.pydata.org/pandas-docs/stable/user_guide/indexing.html#returning-a-view-versus-a-copy\n",
      "\n"
     ]
    },
    {
     "data": {
      "text/html": [
       "<div>\n",
       "<style scoped>\n",
       "    .dataframe tbody tr th:only-of-type {\n",
       "        vertical-align: middle;\n",
       "    }\n",
       "\n",
       "    .dataframe tbody tr th {\n",
       "        vertical-align: top;\n",
       "    }\n",
       "\n",
       "    .dataframe thead th {\n",
       "        text-align: right;\n",
       "    }\n",
       "</style>\n",
       "<table border=\"1\" class=\"dataframe\">\n",
       "  <thead>\n",
       "    <tr style=\"text-align: right;\">\n",
       "      <th></th>\n",
       "      <th>Site</th>\n",
       "      <th>Nickname</th>\n",
       "      <th>Entradas</th>\n",
       "      <th>Velocidade</th>\n",
       "      <th>Posição</th>\n",
       "      <th>Tipo de Torneio</th>\n",
       "      <th>Moeda</th>\n",
       "      <th>Rebuys</th>\n",
       "      <th>Duração</th>\n",
       "      <th>Players Per Table</th>\n",
       "      <th>...</th>\n",
       "      <th>Buy-in USD</th>\n",
       "      <th>Rake USD</th>\n",
       "      <th>Stake USD</th>\n",
       "      <th>Profit USD</th>\n",
       "      <th>Intervalo de Buy-in</th>\n",
       "      <th>Intervalo de Field</th>\n",
       "      <th>Ano</th>\n",
       "      <th>Mês</th>\n",
       "      <th>Tipo de Duraçao</th>\n",
       "      <th>Buy-in Group</th>\n",
       "    </tr>\n",
       "  </thead>\n",
       "  <tbody>\n",
       "    <tr>\n",
       "      <th>358564</th>\n",
       "      <td>GGNetwork</td>\n",
       "      <td>JohnnyStar8</td>\n",
       "      <td>592</td>\n",
       "      <td>Normal</td>\n",
       "      <td>305</td>\n",
       "      <td>Satellite</td>\n",
       "      <td>USD</td>\n",
       "      <td>0.0</td>\n",
       "      <td>153</td>\n",
       "      <td>8.0</td>\n",
       "      <td>...</td>\n",
       "      <td>55.0</td>\n",
       "      <td>4.40</td>\n",
       "      <td>50.60</td>\n",
       "      <td>-55.00</td>\n",
       "      <td>30.0; 56.0</td>\n",
       "      <td>Field médio</td>\n",
       "      <td>2023</td>\n",
       "      <td>Janeiro</td>\n",
       "      <td>Curta</td>\n",
       "      <td>muito alto</td>\n",
       "    </tr>\n",
       "    <tr>\n",
       "      <th>358565</th>\n",
       "      <td>GGNetwork</td>\n",
       "      <td>JohnnyStar8</td>\n",
       "      <td>78</td>\n",
       "      <td>Super Turbo</td>\n",
       "      <td>32</td>\n",
       "      <td>Regular</td>\n",
       "      <td>USD</td>\n",
       "      <td>0.0</td>\n",
       "      <td>114</td>\n",
       "      <td>6.0</td>\n",
       "      <td>...</td>\n",
       "      <td>50.0</td>\n",
       "      <td>4.00</td>\n",
       "      <td>46.00</td>\n",
       "      <td>-50.00</td>\n",
       "      <td>30.0; 56.0</td>\n",
       "      <td>Field pequeno</td>\n",
       "      <td>2023</td>\n",
       "      <td>Janeiro</td>\n",
       "      <td>Curta</td>\n",
       "      <td>alto</td>\n",
       "    </tr>\n",
       "    <tr>\n",
       "      <th>358566</th>\n",
       "      <td>PokerStars</td>\n",
       "      <td>bahhfreitas</td>\n",
       "      <td>163</td>\n",
       "      <td>Turbo</td>\n",
       "      <td>90</td>\n",
       "      <td>Regular</td>\n",
       "      <td>USD</td>\n",
       "      <td>0.0</td>\n",
       "      <td>167</td>\n",
       "      <td>9.0</td>\n",
       "      <td>...</td>\n",
       "      <td>5.5</td>\n",
       "      <td>0.60</td>\n",
       "      <td>4.90</td>\n",
       "      <td>-5.50</td>\n",
       "      <td>0.0; 10.0</td>\n",
       "      <td>Field pequeno</td>\n",
       "      <td>2023</td>\n",
       "      <td>Janeiro</td>\n",
       "      <td>Curta</td>\n",
       "      <td>muito baixo</td>\n",
       "    </tr>\n",
       "    <tr>\n",
       "      <th>358567</th>\n",
       "      <td>888Poker</td>\n",
       "      <td>Bernardo807</td>\n",
       "      <td>39</td>\n",
       "      <td>Normal</td>\n",
       "      <td>15</td>\n",
       "      <td>Bounty</td>\n",
       "      <td>USD</td>\n",
       "      <td>0.0</td>\n",
       "      <td>217</td>\n",
       "      <td>9.0</td>\n",
       "      <td>...</td>\n",
       "      <td>109.0</td>\n",
       "      <td>9.00</td>\n",
       "      <td>100.00</td>\n",
       "      <td>-109.00</td>\n",
       "      <td>80.0; 116.0</td>\n",
       "      <td>Field pequeno</td>\n",
       "      <td>2023</td>\n",
       "      <td>Janeiro</td>\n",
       "      <td>Média</td>\n",
       "      <td>muito alto</td>\n",
       "    </tr>\n",
       "    <tr>\n",
       "      <th>358568</th>\n",
       "      <td>PartyPoker</td>\n",
       "      <td>CrazyRooster</td>\n",
       "      <td>32</td>\n",
       "      <td>Normal</td>\n",
       "      <td>4</td>\n",
       "      <td>Bounty</td>\n",
       "      <td>USD</td>\n",
       "      <td>0.0</td>\n",
       "      <td>157</td>\n",
       "      <td>9.0</td>\n",
       "      <td>...</td>\n",
       "      <td>109.0</td>\n",
       "      <td>9.00</td>\n",
       "      <td>100.00</td>\n",
       "      <td>112.15</td>\n",
       "      <td>80.0; 116.0</td>\n",
       "      <td>Field pequeno</td>\n",
       "      <td>2023</td>\n",
       "      <td>Janeiro</td>\n",
       "      <td>Curta</td>\n",
       "      <td>muito alto</td>\n",
       "    </tr>\n",
       "    <tr>\n",
       "      <th>...</th>\n",
       "      <td>...</td>\n",
       "      <td>...</td>\n",
       "      <td>...</td>\n",
       "      <td>...</td>\n",
       "      <td>...</td>\n",
       "      <td>...</td>\n",
       "      <td>...</td>\n",
       "      <td>...</td>\n",
       "      <td>...</td>\n",
       "      <td>...</td>\n",
       "      <td>...</td>\n",
       "      <td>...</td>\n",
       "      <td>...</td>\n",
       "      <td>...</td>\n",
       "      <td>...</td>\n",
       "      <td>...</td>\n",
       "      <td>...</td>\n",
       "      <td>...</td>\n",
       "      <td>...</td>\n",
       "      <td>...</td>\n",
       "      <td>...</td>\n",
       "    </tr>\n",
       "    <tr>\n",
       "      <th>477121</th>\n",
       "      <td>PokerStars</td>\n",
       "      <td>Dudu 1054</td>\n",
       "      <td>166</td>\n",
       "      <td>Turbo</td>\n",
       "      <td>9</td>\n",
       "      <td>Bounty</td>\n",
       "      <td>USD</td>\n",
       "      <td>0.0</td>\n",
       "      <td>175</td>\n",
       "      <td>8.0</td>\n",
       "      <td>...</td>\n",
       "      <td>27.0</td>\n",
       "      <td>2.45</td>\n",
       "      <td>24.55</td>\n",
       "      <td>60.78</td>\n",
       "      <td>20.0; 30.0</td>\n",
       "      <td>Field pequeno</td>\n",
       "      <td>2024</td>\n",
       "      <td>Maio</td>\n",
       "      <td>Curta</td>\n",
       "      <td>médio-alto</td>\n",
       "    </tr>\n",
       "    <tr>\n",
       "      <th>477122</th>\n",
       "      <td>WPN</td>\n",
       "      <td>ForgeTTs</td>\n",
       "      <td>667</td>\n",
       "      <td>Normal</td>\n",
       "      <td>119</td>\n",
       "      <td>Bounty</td>\n",
       "      <td>USD</td>\n",
       "      <td>1.0</td>\n",
       "      <td>602</td>\n",
       "      <td>8.0</td>\n",
       "      <td>...</td>\n",
       "      <td>66.0</td>\n",
       "      <td>6.00</td>\n",
       "      <td>60.00</td>\n",
       "      <td>-41.71</td>\n",
       "      <td>56.0; 80.0</td>\n",
       "      <td>Field médio</td>\n",
       "      <td>2024</td>\n",
       "      <td>Maio</td>\n",
       "      <td>Longa</td>\n",
       "      <td>muito alto</td>\n",
       "    </tr>\n",
       "    <tr>\n",
       "      <th>477123</th>\n",
       "      <td>PokerStars</td>\n",
       "      <td>Dudu 1054</td>\n",
       "      <td>914</td>\n",
       "      <td>Normal</td>\n",
       "      <td>904</td>\n",
       "      <td>Bounty</td>\n",
       "      <td>USD</td>\n",
       "      <td>0.0</td>\n",
       "      <td>432</td>\n",
       "      <td>8.0</td>\n",
       "      <td>...</td>\n",
       "      <td>16.5</td>\n",
       "      <td>1.80</td>\n",
       "      <td>14.70</td>\n",
       "      <td>-16.50</td>\n",
       "      <td>10.0; 20.0</td>\n",
       "      <td>Field médio</td>\n",
       "      <td>2024</td>\n",
       "      <td>Maio</td>\n",
       "      <td>Média Longa</td>\n",
       "      <td>médio-baixo</td>\n",
       "    </tr>\n",
       "    <tr>\n",
       "      <th>477124</th>\n",
       "      <td>PokerStars</td>\n",
       "      <td>Dudu 1054</td>\n",
       "      <td>914</td>\n",
       "      <td>Normal</td>\n",
       "      <td>445</td>\n",
       "      <td>Bounty</td>\n",
       "      <td>USD</td>\n",
       "      <td>0.0</td>\n",
       "      <td>432</td>\n",
       "      <td>8.0</td>\n",
       "      <td>...</td>\n",
       "      <td>16.5</td>\n",
       "      <td>1.80</td>\n",
       "      <td>14.70</td>\n",
       "      <td>-16.50</td>\n",
       "      <td>10.0; 20.0</td>\n",
       "      <td>Field médio</td>\n",
       "      <td>2024</td>\n",
       "      <td>Maio</td>\n",
       "      <td>Média Longa</td>\n",
       "      <td>médio-baixo</td>\n",
       "    </tr>\n",
       "    <tr>\n",
       "      <th>477125</th>\n",
       "      <td>PokerStars</td>\n",
       "      <td>Dudu 1054</td>\n",
       "      <td>126</td>\n",
       "      <td>Normal</td>\n",
       "      <td>29</td>\n",
       "      <td>Regular</td>\n",
       "      <td>USD</td>\n",
       "      <td>0.0</td>\n",
       "      <td>365</td>\n",
       "      <td>8.0</td>\n",
       "      <td>...</td>\n",
       "      <td>27.0</td>\n",
       "      <td>2.45</td>\n",
       "      <td>24.55</td>\n",
       "      <td>-27.00</td>\n",
       "      <td>20.0; 30.0</td>\n",
       "      <td>Field pequeno</td>\n",
       "      <td>2024</td>\n",
       "      <td>Maio</td>\n",
       "      <td>Média</td>\n",
       "      <td>médio-alto</td>\n",
       "    </tr>\n",
       "  </tbody>\n",
       "</table>\n",
       "<p>118562 rows × 28 columns</p>\n",
       "</div>"
      ],
      "text/plain": [
       "              Site      Nickname  Entradas   Velocidade  Posição  \\\n",
       "358564   GGNetwork   JohnnyStar8       592       Normal      305   \n",
       "358565   GGNetwork   JohnnyStar8        78  Super Turbo       32   \n",
       "358566  PokerStars   bahhfreitas       163        Turbo       90   \n",
       "358567    888Poker   Bernardo807        39       Normal       15   \n",
       "358568  PartyPoker  CrazyRooster        32       Normal        4   \n",
       "...            ...           ...       ...          ...      ...   \n",
       "477121  PokerStars     Dudu 1054       166        Turbo        9   \n",
       "477122         WPN      ForgeTTs       667       Normal      119   \n",
       "477123  PokerStars     Dudu 1054       914       Normal      904   \n",
       "477124  PokerStars     Dudu 1054       914       Normal      445   \n",
       "477125  PokerStars     Dudu 1054       126       Normal       29   \n",
       "\n",
       "       Tipo de Torneio Moeda  Rebuys  Duração  Players Per Table  ...  \\\n",
       "358564       Satellite   USD     0.0      153                8.0  ...   \n",
       "358565         Regular   USD     0.0      114                6.0  ...   \n",
       "358566         Regular   USD     0.0      167                9.0  ...   \n",
       "358567          Bounty   USD     0.0      217                9.0  ...   \n",
       "358568          Bounty   USD     0.0      157                9.0  ...   \n",
       "...                ...   ...     ...      ...                ...  ...   \n",
       "477121          Bounty   USD     0.0      175                8.0  ...   \n",
       "477122          Bounty   USD     1.0      602                8.0  ...   \n",
       "477123          Bounty   USD     0.0      432                8.0  ...   \n",
       "477124          Bounty   USD     0.0      432                8.0  ...   \n",
       "477125         Regular   USD     0.0      365                8.0  ...   \n",
       "\n",
       "       Buy-in USD Rake USD Stake USD Profit USD Intervalo de Buy-in  \\\n",
       "358564       55.0     4.40     50.60     -55.00          30.0; 56.0   \n",
       "358565       50.0     4.00     46.00     -50.00          30.0; 56.0   \n",
       "358566        5.5     0.60      4.90      -5.50           0.0; 10.0   \n",
       "358567      109.0     9.00    100.00    -109.00         80.0; 116.0   \n",
       "358568      109.0     9.00    100.00     112.15         80.0; 116.0   \n",
       "...           ...      ...       ...        ...                 ...   \n",
       "477121       27.0     2.45     24.55      60.78          20.0; 30.0   \n",
       "477122       66.0     6.00     60.00     -41.71          56.0; 80.0   \n",
       "477123       16.5     1.80     14.70     -16.50          10.0; 20.0   \n",
       "477124       16.5     1.80     14.70     -16.50          10.0; 20.0   \n",
       "477125       27.0     2.45     24.55     -27.00          20.0; 30.0   \n",
       "\n",
       "       Intervalo de Field   Ano      Mês  Tipo de Duraçao  Buy-in Group  \n",
       "358564        Field médio  2023  Janeiro            Curta    muito alto  \n",
       "358565      Field pequeno  2023  Janeiro            Curta          alto  \n",
       "358566      Field pequeno  2023  Janeiro            Curta   muito baixo  \n",
       "358567      Field pequeno  2023  Janeiro            Média    muito alto  \n",
       "358568      Field pequeno  2023  Janeiro            Curta    muito alto  \n",
       "...                   ...   ...      ...              ...           ...  \n",
       "477121      Field pequeno  2024     Maio            Curta    médio-alto  \n",
       "477122        Field médio  2024     Maio            Longa    muito alto  \n",
       "477123        Field médio  2024     Maio      Média Longa   médio-baixo  \n",
       "477124        Field médio  2024     Maio      Média Longa   médio-baixo  \n",
       "477125      Field pequeno  2024     Maio            Média    médio-alto  \n",
       "\n",
       "[118562 rows x 28 columns]"
      ]
     },
     "execution_count": 246,
     "metadata": {},
     "output_type": "execute_result"
    }
   ],
   "source": [
    "\n",
    "# Divida os dados em quantis\n",
    "quantiles = df77['Buy-in USD'].quantile([0, 1/6, 2/6, 3/6, 4/6, 5/6, 1])\n",
    "\n",
    "# Crie os intervalos com base nos quantis\n",
    "bins = [quantiles.iloc[i] for i in range(len(quantiles))]\n",
    "\n",
    "# Crie os rótulos para os grupos\n",
    "labels = ['muito baixo', 'baixo', 'médio-baixo', 'médio-alto', 'alto', 'muito alto']\n",
    "\n",
    "# Use o método cut para criar os grupos e atribuir os rótulos\n",
    "df77['Buy-in Group'] = pd.cut(df77['Buy-in USD'], bins=bins, labels=labels, right=False)\n",
    "\n",
    "# Veja como ficou\n",
    "df77"
   ]
  },
  {
   "cell_type": "code",
   "execution_count": 253,
   "metadata": {},
   "outputs": [
    {
     "name": "stderr",
     "output_type": "stream",
     "text": [
      "C:\\Users\\psyte\\AppData\\Local\\Temp\\ipykernel_72828\\2283979288.py:4: FutureWarning:\n",
      "\n",
      "The default of observed=False is deprecated and will be changed to True in a future version of pandas. Pass observed=False to retain current behavior or observed=True to adopt the future default and silence this warning.\n",
      "\n",
      "C:\\Users\\psyte\\AppData\\Local\\Temp\\ipykernel_72828\\2283979288.py:7: FutureWarning:\n",
      "\n",
      "The default of observed=False is deprecated and will be changed to True in a future version of pandas. Pass observed=False to retain current behavior or observed=True to adopt the future default and silence this warning.\n",
      "\n"
     ]
    },
    {
     "data": {
      "application/vnd.plotly.v1+json": {
       "config": {
        "plotlyServerURL": "https://plot.ly"
       },
       "data": [
        {
         "marker": {
          "color": "#7D3C98"
         },
         "name": "Bounty",
         "text": [
          "9659",
          "12597",
          "12047",
          "8367",
          "15373",
          "19363"
         ],
         "type": "bar",
         "x": [
          "muito alto",
          "alto",
          "muito baixo",
          "médio-alto",
          "médio-baixo",
          "baixo",
          null
         ],
         "y": [
          9659,
          12597,
          12047,
          8367,
          15373,
          19363
         ]
        },
        {
         "marker": {
          "color": "#F7DC6F"
         },
         "name": "Regular",
         "text": [
          "8402",
          "7792",
          "7231",
          "2766",
          "4294",
          "7530"
         ],
         "type": "bar",
         "x": [
          "muito alto",
          "alto",
          "muito baixo",
          "médio-alto",
          "médio-baixo",
          "baixo",
          null
         ],
         "y": [
          8402,
          7792,
          7231,
          2766,
          4294,
          7530
         ]
        }
       ],
       "layout": {
        "barmode": "group",
        "template": {
         "data": {
          "bar": [
           {
            "error_x": {
             "color": "#2a3f5f"
            },
            "error_y": {
             "color": "#2a3f5f"
            },
            "marker": {
             "line": {
              "color": "#E5ECF6",
              "width": 0.5
             },
             "pattern": {
              "fillmode": "overlay",
              "size": 10,
              "solidity": 0.2
             }
            },
            "type": "bar"
           }
          ],
          "barpolar": [
           {
            "marker": {
             "line": {
              "color": "#E5ECF6",
              "width": 0.5
             },
             "pattern": {
              "fillmode": "overlay",
              "size": 10,
              "solidity": 0.2
             }
            },
            "type": "barpolar"
           }
          ],
          "carpet": [
           {
            "aaxis": {
             "endlinecolor": "#2a3f5f",
             "gridcolor": "white",
             "linecolor": "white",
             "minorgridcolor": "white",
             "startlinecolor": "#2a3f5f"
            },
            "baxis": {
             "endlinecolor": "#2a3f5f",
             "gridcolor": "white",
             "linecolor": "white",
             "minorgridcolor": "white",
             "startlinecolor": "#2a3f5f"
            },
            "type": "carpet"
           }
          ],
          "choropleth": [
           {
            "colorbar": {
             "outlinewidth": 0,
             "ticks": ""
            },
            "type": "choropleth"
           }
          ],
          "contour": [
           {
            "colorbar": {
             "outlinewidth": 0,
             "ticks": ""
            },
            "colorscale": [
             [
              0,
              "#0d0887"
             ],
             [
              0.1111111111111111,
              "#46039f"
             ],
             [
              0.2222222222222222,
              "#7201a8"
             ],
             [
              0.3333333333333333,
              "#9c179e"
             ],
             [
              0.4444444444444444,
              "#bd3786"
             ],
             [
              0.5555555555555556,
              "#d8576b"
             ],
             [
              0.6666666666666666,
              "#ed7953"
             ],
             [
              0.7777777777777778,
              "#fb9f3a"
             ],
             [
              0.8888888888888888,
              "#fdca26"
             ],
             [
              1,
              "#f0f921"
             ]
            ],
            "type": "contour"
           }
          ],
          "contourcarpet": [
           {
            "colorbar": {
             "outlinewidth": 0,
             "ticks": ""
            },
            "type": "contourcarpet"
           }
          ],
          "heatmap": [
           {
            "colorbar": {
             "outlinewidth": 0,
             "ticks": ""
            },
            "colorscale": [
             [
              0,
              "#0d0887"
             ],
             [
              0.1111111111111111,
              "#46039f"
             ],
             [
              0.2222222222222222,
              "#7201a8"
             ],
             [
              0.3333333333333333,
              "#9c179e"
             ],
             [
              0.4444444444444444,
              "#bd3786"
             ],
             [
              0.5555555555555556,
              "#d8576b"
             ],
             [
              0.6666666666666666,
              "#ed7953"
             ],
             [
              0.7777777777777778,
              "#fb9f3a"
             ],
             [
              0.8888888888888888,
              "#fdca26"
             ],
             [
              1,
              "#f0f921"
             ]
            ],
            "type": "heatmap"
           }
          ],
          "heatmapgl": [
           {
            "colorbar": {
             "outlinewidth": 0,
             "ticks": ""
            },
            "colorscale": [
             [
              0,
              "#0d0887"
             ],
             [
              0.1111111111111111,
              "#46039f"
             ],
             [
              0.2222222222222222,
              "#7201a8"
             ],
             [
              0.3333333333333333,
              "#9c179e"
             ],
             [
              0.4444444444444444,
              "#bd3786"
             ],
             [
              0.5555555555555556,
              "#d8576b"
             ],
             [
              0.6666666666666666,
              "#ed7953"
             ],
             [
              0.7777777777777778,
              "#fb9f3a"
             ],
             [
              0.8888888888888888,
              "#fdca26"
             ],
             [
              1,
              "#f0f921"
             ]
            ],
            "type": "heatmapgl"
           }
          ],
          "histogram": [
           {
            "marker": {
             "pattern": {
              "fillmode": "overlay",
              "size": 10,
              "solidity": 0.2
             }
            },
            "type": "histogram"
           }
          ],
          "histogram2d": [
           {
            "colorbar": {
             "outlinewidth": 0,
             "ticks": ""
            },
            "colorscale": [
             [
              0,
              "#0d0887"
             ],
             [
              0.1111111111111111,
              "#46039f"
             ],
             [
              0.2222222222222222,
              "#7201a8"
             ],
             [
              0.3333333333333333,
              "#9c179e"
             ],
             [
              0.4444444444444444,
              "#bd3786"
             ],
             [
              0.5555555555555556,
              "#d8576b"
             ],
             [
              0.6666666666666666,
              "#ed7953"
             ],
             [
              0.7777777777777778,
              "#fb9f3a"
             ],
             [
              0.8888888888888888,
              "#fdca26"
             ],
             [
              1,
              "#f0f921"
             ]
            ],
            "type": "histogram2d"
           }
          ],
          "histogram2dcontour": [
           {
            "colorbar": {
             "outlinewidth": 0,
             "ticks": ""
            },
            "colorscale": [
             [
              0,
              "#0d0887"
             ],
             [
              0.1111111111111111,
              "#46039f"
             ],
             [
              0.2222222222222222,
              "#7201a8"
             ],
             [
              0.3333333333333333,
              "#9c179e"
             ],
             [
              0.4444444444444444,
              "#bd3786"
             ],
             [
              0.5555555555555556,
              "#d8576b"
             ],
             [
              0.6666666666666666,
              "#ed7953"
             ],
             [
              0.7777777777777778,
              "#fb9f3a"
             ],
             [
              0.8888888888888888,
              "#fdca26"
             ],
             [
              1,
              "#f0f921"
             ]
            ],
            "type": "histogram2dcontour"
           }
          ],
          "mesh3d": [
           {
            "colorbar": {
             "outlinewidth": 0,
             "ticks": ""
            },
            "type": "mesh3d"
           }
          ],
          "parcoords": [
           {
            "line": {
             "colorbar": {
              "outlinewidth": 0,
              "ticks": ""
             }
            },
            "type": "parcoords"
           }
          ],
          "pie": [
           {
            "automargin": true,
            "type": "pie"
           }
          ],
          "scatter": [
           {
            "fillpattern": {
             "fillmode": "overlay",
             "size": 10,
             "solidity": 0.2
            },
            "type": "scatter"
           }
          ],
          "scatter3d": [
           {
            "line": {
             "colorbar": {
              "outlinewidth": 0,
              "ticks": ""
             }
            },
            "marker": {
             "colorbar": {
              "outlinewidth": 0,
              "ticks": ""
             }
            },
            "type": "scatter3d"
           }
          ],
          "scattercarpet": [
           {
            "marker": {
             "colorbar": {
              "outlinewidth": 0,
              "ticks": ""
             }
            },
            "type": "scattercarpet"
           }
          ],
          "scattergeo": [
           {
            "marker": {
             "colorbar": {
              "outlinewidth": 0,
              "ticks": ""
             }
            },
            "type": "scattergeo"
           }
          ],
          "scattergl": [
           {
            "marker": {
             "colorbar": {
              "outlinewidth": 0,
              "ticks": ""
             }
            },
            "type": "scattergl"
           }
          ],
          "scattermapbox": [
           {
            "marker": {
             "colorbar": {
              "outlinewidth": 0,
              "ticks": ""
             }
            },
            "type": "scattermapbox"
           }
          ],
          "scatterpolar": [
           {
            "marker": {
             "colorbar": {
              "outlinewidth": 0,
              "ticks": ""
             }
            },
            "type": "scatterpolar"
           }
          ],
          "scatterpolargl": [
           {
            "marker": {
             "colorbar": {
              "outlinewidth": 0,
              "ticks": ""
             }
            },
            "type": "scatterpolargl"
           }
          ],
          "scatterternary": [
           {
            "marker": {
             "colorbar": {
              "outlinewidth": 0,
              "ticks": ""
             }
            },
            "type": "scatterternary"
           }
          ],
          "surface": [
           {
            "colorbar": {
             "outlinewidth": 0,
             "ticks": ""
            },
            "colorscale": [
             [
              0,
              "#0d0887"
             ],
             [
              0.1111111111111111,
              "#46039f"
             ],
             [
              0.2222222222222222,
              "#7201a8"
             ],
             [
              0.3333333333333333,
              "#9c179e"
             ],
             [
              0.4444444444444444,
              "#bd3786"
             ],
             [
              0.5555555555555556,
              "#d8576b"
             ],
             [
              0.6666666666666666,
              "#ed7953"
             ],
             [
              0.7777777777777778,
              "#fb9f3a"
             ],
             [
              0.8888888888888888,
              "#fdca26"
             ],
             [
              1,
              "#f0f921"
             ]
            ],
            "type": "surface"
           }
          ],
          "table": [
           {
            "cells": {
             "fill": {
              "color": "#EBF0F8"
             },
             "line": {
              "color": "white"
             }
            },
            "header": {
             "fill": {
              "color": "#C8D4E3"
             },
             "line": {
              "color": "white"
             }
            },
            "type": "table"
           }
          ]
         },
         "layout": {
          "annotationdefaults": {
           "arrowcolor": "#2a3f5f",
           "arrowhead": 0,
           "arrowwidth": 1
          },
          "autotypenumbers": "strict",
          "coloraxis": {
           "colorbar": {
            "outlinewidth": 0,
            "ticks": ""
           }
          },
          "colorscale": {
           "diverging": [
            [
             0,
             "#8e0152"
            ],
            [
             0.1,
             "#c51b7d"
            ],
            [
             0.2,
             "#de77ae"
            ],
            [
             0.3,
             "#f1b6da"
            ],
            [
             0.4,
             "#fde0ef"
            ],
            [
             0.5,
             "#f7f7f7"
            ],
            [
             0.6,
             "#e6f5d0"
            ],
            [
             0.7,
             "#b8e186"
            ],
            [
             0.8,
             "#7fbc41"
            ],
            [
             0.9,
             "#4d9221"
            ],
            [
             1,
             "#276419"
            ]
           ],
           "sequential": [
            [
             0,
             "#0d0887"
            ],
            [
             0.1111111111111111,
             "#46039f"
            ],
            [
             0.2222222222222222,
             "#7201a8"
            ],
            [
             0.3333333333333333,
             "#9c179e"
            ],
            [
             0.4444444444444444,
             "#bd3786"
            ],
            [
             0.5555555555555556,
             "#d8576b"
            ],
            [
             0.6666666666666666,
             "#ed7953"
            ],
            [
             0.7777777777777778,
             "#fb9f3a"
            ],
            [
             0.8888888888888888,
             "#fdca26"
            ],
            [
             1,
             "#f0f921"
            ]
           ],
           "sequentialminus": [
            [
             0,
             "#0d0887"
            ],
            [
             0.1111111111111111,
             "#46039f"
            ],
            [
             0.2222222222222222,
             "#7201a8"
            ],
            [
             0.3333333333333333,
             "#9c179e"
            ],
            [
             0.4444444444444444,
             "#bd3786"
            ],
            [
             0.5555555555555556,
             "#d8576b"
            ],
            [
             0.6666666666666666,
             "#ed7953"
            ],
            [
             0.7777777777777778,
             "#fb9f3a"
            ],
            [
             0.8888888888888888,
             "#fdca26"
            ],
            [
             1,
             "#f0f921"
            ]
           ]
          },
          "colorway": [
           "#636efa",
           "#EF553B",
           "#00cc96",
           "#ab63fa",
           "#FFA15A",
           "#19d3f3",
           "#FF6692",
           "#B6E880",
           "#FF97FF",
           "#FECB52"
          ],
          "font": {
           "color": "#2a3f5f"
          },
          "geo": {
           "bgcolor": "white",
           "lakecolor": "white",
           "landcolor": "#E5ECF6",
           "showlakes": true,
           "showland": true,
           "subunitcolor": "white"
          },
          "hoverlabel": {
           "align": "left"
          },
          "hovermode": "closest",
          "mapbox": {
           "style": "light"
          },
          "paper_bgcolor": "white",
          "plot_bgcolor": "#E5ECF6",
          "polar": {
           "angularaxis": {
            "gridcolor": "white",
            "linecolor": "white",
            "ticks": ""
           },
           "bgcolor": "#E5ECF6",
           "radialaxis": {
            "gridcolor": "white",
            "linecolor": "white",
            "ticks": ""
           }
          },
          "scene": {
           "xaxis": {
            "backgroundcolor": "#E5ECF6",
            "gridcolor": "white",
            "gridwidth": 2,
            "linecolor": "white",
            "showbackground": true,
            "ticks": "",
            "zerolinecolor": "white"
           },
           "yaxis": {
            "backgroundcolor": "#E5ECF6",
            "gridcolor": "white",
            "gridwidth": 2,
            "linecolor": "white",
            "showbackground": true,
            "ticks": "",
            "zerolinecolor": "white"
           },
           "zaxis": {
            "backgroundcolor": "#E5ECF6",
            "gridcolor": "white",
            "gridwidth": 2,
            "linecolor": "white",
            "showbackground": true,
            "ticks": "",
            "zerolinecolor": "white"
           }
          },
          "shapedefaults": {
           "line": {
            "color": "#2a3f5f"
           }
          },
          "ternary": {
           "aaxis": {
            "gridcolor": "white",
            "linecolor": "white",
            "ticks": ""
           },
           "baxis": {
            "gridcolor": "white",
            "linecolor": "white",
            "ticks": ""
           },
           "bgcolor": "#E5ECF6",
           "caxis": {
            "gridcolor": "white",
            "linecolor": "white",
            "ticks": ""
           }
          },
          "title": {
           "x": 0.05
          },
          "xaxis": {
           "automargin": true,
           "gridcolor": "white",
           "linecolor": "white",
           "ticks": "",
           "title": {
            "standoff": 15
           },
           "zerolinecolor": "white",
           "zerolinewidth": 2
          },
          "yaxis": {
           "automargin": true,
           "gridcolor": "white",
           "linecolor": "white",
           "ticks": "",
           "title": {
            "standoff": 15
           },
           "zerolinecolor": "white",
           "zerolinewidth": 2
          }
         }
        },
        "title": {
         "text": "Quantidade de Torneios por Intervalo de Buy-in e Tipo de Torneio. Torneios de 2023 e 2024"
        },
        "xaxis": {
         "title": {
          "text": "Intervalo de Buy-in (USD)"
         }
        },
        "yaxis": {
         "title": {
          "text": "Quantidade"
         }
        }
       }
      }
     },
     "metadata": {},
     "output_type": "display_data"
    }
   ],
   "source": [
    "import plotly.graph_objects as go\n",
    "\n",
    "# Calculando a quantidade total de torneios em cada intervalo e tipo de torneio\n",
    "total_torneios_por_intervalo_tipo = df77.groupby(['Buy-in Group', 'Tipo de Torneio']).size().reset_index(name='Total')\n",
    "\n",
    "# Calculando as porcentagens de cada tipo de torneio em cada intervalo\n",
    "total_torneios_por_intervalo = df77.groupby('Buy-in Group').size().reset_index(name='Total')\n",
    "total_torneios_por_intervalo_tipo = pd.merge(total_torneios_por_intervalo_tipo, total_torneios_por_intervalo, on='Buy-in Group')\n",
    "total_torneios_por_intervalo_tipo['Porcentagem'] = total_torneios_por_intervalo_tipo['Total_x'] / total_torneios_por_intervalo_tipo['Total_y']\n",
    "\n",
    "# Definindo os rótulos para as barras (serão compartilhados por ambos os conjuntos)\n",
    "rotulos = df77['Buy-in Group'].unique()\n",
    "\n",
    "# Criando as listas de valores para cada tipo de torneio\n",
    "valores_por_tipo = {}\n",
    "for tipo_torneio in total_torneios_por_intervalo_tipo['Tipo de Torneio'].unique():\n",
    "    valores_por_tipo[tipo_torneio] = total_torneios_por_intervalo_tipo[total_torneios_por_intervalo_tipo['Tipo de Torneio'] == tipo_torneio]['Total_x'].tolist()\n",
    "\n",
    "# Criando as barras para cada tipo de torneio\n",
    "barras = []\n",
    "cores = ['#7D3C98', '#F7DC6F']  # Cores roxa e amarela\n",
    "for tipo_torneio, cor in zip(valores_por_tipo.keys(), cores):\n",
    "    barras.append(go.Bar(\n",
    "        x=rotulos,\n",
    "        y=valores_por_tipo[tipo_torneio],\n",
    "        text=valores_por_tipo[tipo_torneio],  # Adicionando os valores como texto nas barras\n",
    "        name=tipo_torneio,\n",
    "        marker_color=cor  # Aplicando a cor alternada\n",
    "    ))\n",
    "\n",
    "\n",
    "# Criando a figura\n",
    "fig = go.Figure()\n",
    "\n",
    "# Adicionando as barras à figura\n",
    "for barra in barras:\n",
    "    fig.add_trace(barra)\n",
    "\n",
    "\n",
    "# Atualizando o layout do gráfico\n",
    "fig.update_layout(\n",
    "    xaxis_title='Intervalo de Buy-in (USD)',\n",
    "    yaxis_title='Quantidade',\n",
    "    title='Quantidade de Torneios por Intervalo de Buy-in e Tipo de Torneio. Torneios de 2023 e 2024',\n",
    "    barmode='group'  # Agrupando as barras\n",
    ")\n",
    "\n",
    "# Exibindo o gráfico\n",
    "fig.show()"
   ]
  },
  {
   "cell_type": "code",
   "execution_count": 252,
   "metadata": {},
   "outputs": [
    {
     "name": "stderr",
     "output_type": "stream",
     "text": [
      "C:\\Users\\psyte\\AppData\\Local\\Temp\\ipykernel_72828\\1812734766.py:4: FutureWarning:\n",
      "\n",
      "The default of observed=False is deprecated and will be changed to True in a future version of pandas. Pass observed=False to retain current behavior or observed=True to adopt the future default and silence this warning.\n",
      "\n",
      "C:\\Users\\psyte\\AppData\\Local\\Temp\\ipykernel_72828\\1812734766.py:7: FutureWarning:\n",
      "\n",
      "The default of observed=False is deprecated and will be changed to True in a future version of pandas. Pass observed=False to retain current behavior or observed=True to adopt the future default and silence this warning.\n",
      "\n"
     ]
    },
    {
     "data": {
      "application/vnd.plotly.v1+json": {
       "config": {
        "plotlyServerURL": "https://plot.ly"
       },
       "data": [
        {
         "marker": {
          "color": "#7D3C98"
         },
         "name": "Bounty",
         "text": [
          "9659",
          "12597",
          "12047",
          "8367",
          "15373",
          "19363"
         ],
         "type": "bar",
         "x": [
          "muito alto",
          "alto",
          "muito baixo",
          "médio-alto",
          "médio-baixo",
          "baixo",
          null
         ],
         "y": [
          9659,
          12597,
          12047,
          8367,
          15373,
          19363
         ]
        },
        {
         "marker": {
          "color": "#F7DC6F"
         },
         "name": "Regular",
         "text": [
          "8402",
          "7792",
          "7231",
          "2766",
          "4294",
          "7530"
         ],
         "type": "bar",
         "x": [
          "muito alto",
          "alto",
          "muito baixo",
          "médio-alto",
          "médio-baixo",
          "baixo",
          null
         ],
         "y": [
          8402,
          7792,
          7231,
          2766,
          4294,
          7530
         ]
        }
       ],
       "layout": {
        "barmode": "group",
        "template": {
         "data": {
          "bar": [
           {
            "error_x": {
             "color": "#2a3f5f"
            },
            "error_y": {
             "color": "#2a3f5f"
            },
            "marker": {
             "line": {
              "color": "#E5ECF6",
              "width": 0.5
             },
             "pattern": {
              "fillmode": "overlay",
              "size": 10,
              "solidity": 0.2
             }
            },
            "type": "bar"
           }
          ],
          "barpolar": [
           {
            "marker": {
             "line": {
              "color": "#E5ECF6",
              "width": 0.5
             },
             "pattern": {
              "fillmode": "overlay",
              "size": 10,
              "solidity": 0.2
             }
            },
            "type": "barpolar"
           }
          ],
          "carpet": [
           {
            "aaxis": {
             "endlinecolor": "#2a3f5f",
             "gridcolor": "white",
             "linecolor": "white",
             "minorgridcolor": "white",
             "startlinecolor": "#2a3f5f"
            },
            "baxis": {
             "endlinecolor": "#2a3f5f",
             "gridcolor": "white",
             "linecolor": "white",
             "minorgridcolor": "white",
             "startlinecolor": "#2a3f5f"
            },
            "type": "carpet"
           }
          ],
          "choropleth": [
           {
            "colorbar": {
             "outlinewidth": 0,
             "ticks": ""
            },
            "type": "choropleth"
           }
          ],
          "contour": [
           {
            "colorbar": {
             "outlinewidth": 0,
             "ticks": ""
            },
            "colorscale": [
             [
              0,
              "#0d0887"
             ],
             [
              0.1111111111111111,
              "#46039f"
             ],
             [
              0.2222222222222222,
              "#7201a8"
             ],
             [
              0.3333333333333333,
              "#9c179e"
             ],
             [
              0.4444444444444444,
              "#bd3786"
             ],
             [
              0.5555555555555556,
              "#d8576b"
             ],
             [
              0.6666666666666666,
              "#ed7953"
             ],
             [
              0.7777777777777778,
              "#fb9f3a"
             ],
             [
              0.8888888888888888,
              "#fdca26"
             ],
             [
              1,
              "#f0f921"
             ]
            ],
            "type": "contour"
           }
          ],
          "contourcarpet": [
           {
            "colorbar": {
             "outlinewidth": 0,
             "ticks": ""
            },
            "type": "contourcarpet"
           }
          ],
          "heatmap": [
           {
            "colorbar": {
             "outlinewidth": 0,
             "ticks": ""
            },
            "colorscale": [
             [
              0,
              "#0d0887"
             ],
             [
              0.1111111111111111,
              "#46039f"
             ],
             [
              0.2222222222222222,
              "#7201a8"
             ],
             [
              0.3333333333333333,
              "#9c179e"
             ],
             [
              0.4444444444444444,
              "#bd3786"
             ],
             [
              0.5555555555555556,
              "#d8576b"
             ],
             [
              0.6666666666666666,
              "#ed7953"
             ],
             [
              0.7777777777777778,
              "#fb9f3a"
             ],
             [
              0.8888888888888888,
              "#fdca26"
             ],
             [
              1,
              "#f0f921"
             ]
            ],
            "type": "heatmap"
           }
          ],
          "heatmapgl": [
           {
            "colorbar": {
             "outlinewidth": 0,
             "ticks": ""
            },
            "colorscale": [
             [
              0,
              "#0d0887"
             ],
             [
              0.1111111111111111,
              "#46039f"
             ],
             [
              0.2222222222222222,
              "#7201a8"
             ],
             [
              0.3333333333333333,
              "#9c179e"
             ],
             [
              0.4444444444444444,
              "#bd3786"
             ],
             [
              0.5555555555555556,
              "#d8576b"
             ],
             [
              0.6666666666666666,
              "#ed7953"
             ],
             [
              0.7777777777777778,
              "#fb9f3a"
             ],
             [
              0.8888888888888888,
              "#fdca26"
             ],
             [
              1,
              "#f0f921"
             ]
            ],
            "type": "heatmapgl"
           }
          ],
          "histogram": [
           {
            "marker": {
             "pattern": {
              "fillmode": "overlay",
              "size": 10,
              "solidity": 0.2
             }
            },
            "type": "histogram"
           }
          ],
          "histogram2d": [
           {
            "colorbar": {
             "outlinewidth": 0,
             "ticks": ""
            },
            "colorscale": [
             [
              0,
              "#0d0887"
             ],
             [
              0.1111111111111111,
              "#46039f"
             ],
             [
              0.2222222222222222,
              "#7201a8"
             ],
             [
              0.3333333333333333,
              "#9c179e"
             ],
             [
              0.4444444444444444,
              "#bd3786"
             ],
             [
              0.5555555555555556,
              "#d8576b"
             ],
             [
              0.6666666666666666,
              "#ed7953"
             ],
             [
              0.7777777777777778,
              "#fb9f3a"
             ],
             [
              0.8888888888888888,
              "#fdca26"
             ],
             [
              1,
              "#f0f921"
             ]
            ],
            "type": "histogram2d"
           }
          ],
          "histogram2dcontour": [
           {
            "colorbar": {
             "outlinewidth": 0,
             "ticks": ""
            },
            "colorscale": [
             [
              0,
              "#0d0887"
             ],
             [
              0.1111111111111111,
              "#46039f"
             ],
             [
              0.2222222222222222,
              "#7201a8"
             ],
             [
              0.3333333333333333,
              "#9c179e"
             ],
             [
              0.4444444444444444,
              "#bd3786"
             ],
             [
              0.5555555555555556,
              "#d8576b"
             ],
             [
              0.6666666666666666,
              "#ed7953"
             ],
             [
              0.7777777777777778,
              "#fb9f3a"
             ],
             [
              0.8888888888888888,
              "#fdca26"
             ],
             [
              1,
              "#f0f921"
             ]
            ],
            "type": "histogram2dcontour"
           }
          ],
          "mesh3d": [
           {
            "colorbar": {
             "outlinewidth": 0,
             "ticks": ""
            },
            "type": "mesh3d"
           }
          ],
          "parcoords": [
           {
            "line": {
             "colorbar": {
              "outlinewidth": 0,
              "ticks": ""
             }
            },
            "type": "parcoords"
           }
          ],
          "pie": [
           {
            "automargin": true,
            "type": "pie"
           }
          ],
          "scatter": [
           {
            "fillpattern": {
             "fillmode": "overlay",
             "size": 10,
             "solidity": 0.2
            },
            "type": "scatter"
           }
          ],
          "scatter3d": [
           {
            "line": {
             "colorbar": {
              "outlinewidth": 0,
              "ticks": ""
             }
            },
            "marker": {
             "colorbar": {
              "outlinewidth": 0,
              "ticks": ""
             }
            },
            "type": "scatter3d"
           }
          ],
          "scattercarpet": [
           {
            "marker": {
             "colorbar": {
              "outlinewidth": 0,
              "ticks": ""
             }
            },
            "type": "scattercarpet"
           }
          ],
          "scattergeo": [
           {
            "marker": {
             "colorbar": {
              "outlinewidth": 0,
              "ticks": ""
             }
            },
            "type": "scattergeo"
           }
          ],
          "scattergl": [
           {
            "marker": {
             "colorbar": {
              "outlinewidth": 0,
              "ticks": ""
             }
            },
            "type": "scattergl"
           }
          ],
          "scattermapbox": [
           {
            "marker": {
             "colorbar": {
              "outlinewidth": 0,
              "ticks": ""
             }
            },
            "type": "scattermapbox"
           }
          ],
          "scatterpolar": [
           {
            "marker": {
             "colorbar": {
              "outlinewidth": 0,
              "ticks": ""
             }
            },
            "type": "scatterpolar"
           }
          ],
          "scatterpolargl": [
           {
            "marker": {
             "colorbar": {
              "outlinewidth": 0,
              "ticks": ""
             }
            },
            "type": "scatterpolargl"
           }
          ],
          "scatterternary": [
           {
            "marker": {
             "colorbar": {
              "outlinewidth": 0,
              "ticks": ""
             }
            },
            "type": "scatterternary"
           }
          ],
          "surface": [
           {
            "colorbar": {
             "outlinewidth": 0,
             "ticks": ""
            },
            "colorscale": [
             [
              0,
              "#0d0887"
             ],
             [
              0.1111111111111111,
              "#46039f"
             ],
             [
              0.2222222222222222,
              "#7201a8"
             ],
             [
              0.3333333333333333,
              "#9c179e"
             ],
             [
              0.4444444444444444,
              "#bd3786"
             ],
             [
              0.5555555555555556,
              "#d8576b"
             ],
             [
              0.6666666666666666,
              "#ed7953"
             ],
             [
              0.7777777777777778,
              "#fb9f3a"
             ],
             [
              0.8888888888888888,
              "#fdca26"
             ],
             [
              1,
              "#f0f921"
             ]
            ],
            "type": "surface"
           }
          ],
          "table": [
           {
            "cells": {
             "fill": {
              "color": "#EBF0F8"
             },
             "line": {
              "color": "white"
             }
            },
            "header": {
             "fill": {
              "color": "#C8D4E3"
             },
             "line": {
              "color": "white"
             }
            },
            "type": "table"
           }
          ]
         },
         "layout": {
          "annotationdefaults": {
           "arrowcolor": "#2a3f5f",
           "arrowhead": 0,
           "arrowwidth": 1
          },
          "autotypenumbers": "strict",
          "coloraxis": {
           "colorbar": {
            "outlinewidth": 0,
            "ticks": ""
           }
          },
          "colorscale": {
           "diverging": [
            [
             0,
             "#8e0152"
            ],
            [
             0.1,
             "#c51b7d"
            ],
            [
             0.2,
             "#de77ae"
            ],
            [
             0.3,
             "#f1b6da"
            ],
            [
             0.4,
             "#fde0ef"
            ],
            [
             0.5,
             "#f7f7f7"
            ],
            [
             0.6,
             "#e6f5d0"
            ],
            [
             0.7,
             "#b8e186"
            ],
            [
             0.8,
             "#7fbc41"
            ],
            [
             0.9,
             "#4d9221"
            ],
            [
             1,
             "#276419"
            ]
           ],
           "sequential": [
            [
             0,
             "#0d0887"
            ],
            [
             0.1111111111111111,
             "#46039f"
            ],
            [
             0.2222222222222222,
             "#7201a8"
            ],
            [
             0.3333333333333333,
             "#9c179e"
            ],
            [
             0.4444444444444444,
             "#bd3786"
            ],
            [
             0.5555555555555556,
             "#d8576b"
            ],
            [
             0.6666666666666666,
             "#ed7953"
            ],
            [
             0.7777777777777778,
             "#fb9f3a"
            ],
            [
             0.8888888888888888,
             "#fdca26"
            ],
            [
             1,
             "#f0f921"
            ]
           ],
           "sequentialminus": [
            [
             0,
             "#0d0887"
            ],
            [
             0.1111111111111111,
             "#46039f"
            ],
            [
             0.2222222222222222,
             "#7201a8"
            ],
            [
             0.3333333333333333,
             "#9c179e"
            ],
            [
             0.4444444444444444,
             "#bd3786"
            ],
            [
             0.5555555555555556,
             "#d8576b"
            ],
            [
             0.6666666666666666,
             "#ed7953"
            ],
            [
             0.7777777777777778,
             "#fb9f3a"
            ],
            [
             0.8888888888888888,
             "#fdca26"
            ],
            [
             1,
             "#f0f921"
            ]
           ]
          },
          "colorway": [
           "#636efa",
           "#EF553B",
           "#00cc96",
           "#ab63fa",
           "#FFA15A",
           "#19d3f3",
           "#FF6692",
           "#B6E880",
           "#FF97FF",
           "#FECB52"
          ],
          "font": {
           "color": "#2a3f5f"
          },
          "geo": {
           "bgcolor": "white",
           "lakecolor": "white",
           "landcolor": "#E5ECF6",
           "showlakes": true,
           "showland": true,
           "subunitcolor": "white"
          },
          "hoverlabel": {
           "align": "left"
          },
          "hovermode": "closest",
          "mapbox": {
           "style": "light"
          },
          "paper_bgcolor": "white",
          "plot_bgcolor": "#E5ECF6",
          "polar": {
           "angularaxis": {
            "gridcolor": "white",
            "linecolor": "white",
            "ticks": ""
           },
           "bgcolor": "#E5ECF6",
           "radialaxis": {
            "gridcolor": "white",
            "linecolor": "white",
            "ticks": ""
           }
          },
          "scene": {
           "xaxis": {
            "backgroundcolor": "#E5ECF6",
            "gridcolor": "white",
            "gridwidth": 2,
            "linecolor": "white",
            "showbackground": true,
            "ticks": "",
            "zerolinecolor": "white"
           },
           "yaxis": {
            "backgroundcolor": "#E5ECF6",
            "gridcolor": "white",
            "gridwidth": 2,
            "linecolor": "white",
            "showbackground": true,
            "ticks": "",
            "zerolinecolor": "white"
           },
           "zaxis": {
            "backgroundcolor": "#E5ECF6",
            "gridcolor": "white",
            "gridwidth": 2,
            "linecolor": "white",
            "showbackground": true,
            "ticks": "",
            "zerolinecolor": "white"
           }
          },
          "shapedefaults": {
           "line": {
            "color": "#2a3f5f"
           }
          },
          "ternary": {
           "aaxis": {
            "gridcolor": "white",
            "linecolor": "white",
            "ticks": ""
           },
           "baxis": {
            "gridcolor": "white",
            "linecolor": "white",
            "ticks": ""
           },
           "bgcolor": "#E5ECF6",
           "caxis": {
            "gridcolor": "white",
            "linecolor": "white",
            "ticks": ""
           }
          },
          "title": {
           "x": 0.05
          },
          "xaxis": {
           "automargin": true,
           "gridcolor": "white",
           "linecolor": "white",
           "ticks": "",
           "title": {
            "standoff": 15
           },
           "zerolinecolor": "white",
           "zerolinewidth": 2
          },
          "yaxis": {
           "automargin": true,
           "gridcolor": "white",
           "linecolor": "white",
           "ticks": "",
           "title": {
            "standoff": 15
           },
           "zerolinecolor": "white",
           "zerolinewidth": 2
          }
         }
        },
        "title": {
         "text": "Quantidade de Torneios por Intervalo de Buy-in e Tipo de Torneio. Torneios de 2023 e 2024"
        },
        "xaxis": {
         "title": {
          "text": "Intervalo de Buy-in (USD)"
         }
        },
        "yaxis": {
         "title": {
          "text": "Quantidade"
         }
        }
       }
      }
     },
     "metadata": {},
     "output_type": "display_data"
    }
   ],
   "source": [
    "import plotly.graph_objects as go\n",
    "\n",
    "# Calculando a quantidade total de torneios em cada intervalo e tipo de torneio\n",
    "total_torneios_por_intervalo_tipo = df77.groupby(['Buy-in Group', 'Tipo de Torneio']).size().reset_index(name='Total')\n",
    "\n",
    "# Calculando as porcentagens de cada tipo de torneio em cada intervalo\n",
    "total_torneios_por_intervalo = df77.groupby('Buy-in Group').size().reset_index(name='Total')\n",
    "total_torneios_por_intervalo_tipo = pd.merge(total_torneios_por_intervalo_tipo, total_torneios_por_intervalo, on='Buy-in Group')\n",
    "total_torneios_por_intervalo_tipo['Porcentagem'] = total_torneios_por_intervalo_tipo['Total_x'] / total_torneios_por_intervalo_tipo['Total_y']\n",
    "\n",
    "# Definindo os rótulos para as barras (serão compartilhados por ambos os conjuntos)\n",
    "rotulos = df77['Buy-in Group'].unique()\n",
    "\n",
    "# Criando as listas de valores para cada tipo de torneio\n",
    "valores_por_tipo = {}\n",
    "for tipo_torneio in total_torneios_por_intervalo_tipo['Tipo de Torneio'].unique():\n",
    "    valores_por_tipo[tipo_torneio] = total_torneios_por_intervalo_tipo[total_torneios_por_intervalo_tipo['Tipo de Torneio'] == tipo_torneio]['Total_x'].tolist()\n",
    "\n",
    "# Criando as barras para cada tipo de torneio\n",
    "barras = []\n",
    "cores = ['#7D3C98', '#F7DC6F']  # Cores roxa e amarela\n",
    "for tipo_torneio, cor in zip(valores_por_tipo.keys(), cores):\n",
    "    barras.append(go.Bar(\n",
    "        x=rotulos,\n",
    "        y=valores_por_tipo[tipo_torneio],\n",
    "        text=valores_por_tipo[tipo_torneio],  # Adicionando os valores como texto nas barras\n",
    "        name=tipo_torneio,\n",
    "        marker_color=cor  # Aplicando a cor alternada\n",
    "    ))\n",
    "\n",
    "# Criando a figura\n",
    "fig = go.Figure()\n",
    "\n",
    "# Adicionando as barras à figura\n",
    "for barra in barras:\n",
    "    fig.add_trace(barra)\n",
    "\n",
    "\n",
    "# Atualizando o layout do gráfico\n",
    "fig.update_layout(\n",
    "    xaxis_title='Intervalo de Buy-in (USD)',\n",
    "    yaxis_title='Quantidade',\n",
    "    title='Quantidade de Torneios por Intervalo de Buy-in e Tipo de Torneio. Torneios de 2023 e 2024',\n",
    "    barmode='group'  # Agrupando as barras\n",
    ")\n",
    "\n",
    "# Exibindo o gráfico\n",
    "fig.show()\n",
    "\n"
   ]
  },
  {
   "cell_type": "code",
   "execution_count": 264,
   "metadata": {},
   "outputs": [
    {
     "name": "stderr",
     "output_type": "stream",
     "text": [
      "C:\\Users\\psyte\\AppData\\Local\\Temp\\ipykernel_72828\\2465991519.py:10: SettingWithCopyWarning:\n",
      "\n",
      "\n",
      "A value is trying to be set on a copy of a slice from a DataFrame.\n",
      "Try using .loc[row_indexer,col_indexer] = value instead\n",
      "\n",
      "See the caveats in the documentation: https://pandas.pydata.org/pandas-docs/stable/user_guide/indexing.html#returning-a-view-versus-a-copy\n",
      "\n",
      "C:\\Users\\psyte\\AppData\\Local\\Temp\\ipykernel_72828\\2465991519.py:13: FutureWarning:\n",
      "\n",
      "The default of observed=False is deprecated and will be changed to True in a future version of pandas. Pass observed=False to retain current behavior or observed=True to adopt the future default and silence this warning.\n",
      "\n"
     ]
    },
    {
     "data": {
      "application/vnd.plotly.v1+json": {
       "config": {
        "plotlyServerURL": "https://plot.ly"
       },
       "data": [
        {
         "marker": {
          "color": "blue"
         },
         "name": "Tamanho de Field: muito baixo",
         "text": [
          "1010",
          "1000",
          "780",
          "2253"
         ],
         "type": "bar",
         "x": [
          "0-300",
          "300-600",
          "600-900",
          "900 ou mais"
         ],
         "y": [
          1010,
          1000,
          780,
          2253
         ]
        },
        {
         "marker": {
          "color": "red"
         },
         "name": "Tamanho de Field: baixo",
         "text": [
          "389",
          "451",
          "281",
          "1644"
         ],
         "type": "bar",
         "x": [
          "0-300",
          "300-600",
          "600-900",
          "900 ou mais"
         ],
         "y": [
          389,
          451,
          281,
          1644
         ]
        },
        {
         "marker": {
          "color": "green"
         },
         "name": "Tamanho de Field: médio-baixo",
         "text": [
          "1746",
          "702",
          "745",
          "3479"
         ],
         "type": "bar",
         "x": [
          "0-300",
          "300-600",
          "600-900",
          "900 ou mais"
         ],
         "y": [
          1746,
          702,
          745,
          3479
         ]
        },
        {
         "marker": {
          "color": "purple"
         },
         "name": "Tamanho de Field: médio-alto",
         "text": [
          "1398",
          "1343",
          "470",
          "2819"
         ],
         "type": "bar",
         "x": [
          "0-300",
          "300-600",
          "600-900",
          "900 ou mais"
         ],
         "y": [
          1398,
          1343,
          470,
          2819
         ]
        },
        {
         "marker": {
          "color": "black"
         },
         "name": "Tamanho de Field: alto",
         "text": [
          "1429",
          "779",
          "566",
          "1871"
         ],
         "type": "bar",
         "x": [
          "0-300",
          "300-600",
          "600-900",
          "900 ou mais"
         ],
         "y": [
          1429,
          779,
          566,
          1871
         ]
        },
        {
         "marker": {
          "color": "yellow"
         },
         "name": "Tamanho de Field: muito alto",
         "text": [
          "1873",
          "1295",
          "710",
          "2628"
         ],
         "type": "bar",
         "x": [
          "0-300",
          "300-600",
          "600-900",
          "900 ou mais"
         ],
         "y": [
          1873,
          1295,
          710,
          2628
         ]
        }
       ],
       "layout": {
        "barmode": "group",
        "template": {
         "data": {
          "bar": [
           {
            "error_x": {
             "color": "#2a3f5f"
            },
            "error_y": {
             "color": "#2a3f5f"
            },
            "marker": {
             "line": {
              "color": "#E5ECF6",
              "width": 0.5
             },
             "pattern": {
              "fillmode": "overlay",
              "size": 10,
              "solidity": 0.2
             }
            },
            "type": "bar"
           }
          ],
          "barpolar": [
           {
            "marker": {
             "line": {
              "color": "#E5ECF6",
              "width": 0.5
             },
             "pattern": {
              "fillmode": "overlay",
              "size": 10,
              "solidity": 0.2
             }
            },
            "type": "barpolar"
           }
          ],
          "carpet": [
           {
            "aaxis": {
             "endlinecolor": "#2a3f5f",
             "gridcolor": "white",
             "linecolor": "white",
             "minorgridcolor": "white",
             "startlinecolor": "#2a3f5f"
            },
            "baxis": {
             "endlinecolor": "#2a3f5f",
             "gridcolor": "white",
             "linecolor": "white",
             "minorgridcolor": "white",
             "startlinecolor": "#2a3f5f"
            },
            "type": "carpet"
           }
          ],
          "choropleth": [
           {
            "colorbar": {
             "outlinewidth": 0,
             "ticks": ""
            },
            "type": "choropleth"
           }
          ],
          "contour": [
           {
            "colorbar": {
             "outlinewidth": 0,
             "ticks": ""
            },
            "colorscale": [
             [
              0,
              "#0d0887"
             ],
             [
              0.1111111111111111,
              "#46039f"
             ],
             [
              0.2222222222222222,
              "#7201a8"
             ],
             [
              0.3333333333333333,
              "#9c179e"
             ],
             [
              0.4444444444444444,
              "#bd3786"
             ],
             [
              0.5555555555555556,
              "#d8576b"
             ],
             [
              0.6666666666666666,
              "#ed7953"
             ],
             [
              0.7777777777777778,
              "#fb9f3a"
             ],
             [
              0.8888888888888888,
              "#fdca26"
             ],
             [
              1,
              "#f0f921"
             ]
            ],
            "type": "contour"
           }
          ],
          "contourcarpet": [
           {
            "colorbar": {
             "outlinewidth": 0,
             "ticks": ""
            },
            "type": "contourcarpet"
           }
          ],
          "heatmap": [
           {
            "colorbar": {
             "outlinewidth": 0,
             "ticks": ""
            },
            "colorscale": [
             [
              0,
              "#0d0887"
             ],
             [
              0.1111111111111111,
              "#46039f"
             ],
             [
              0.2222222222222222,
              "#7201a8"
             ],
             [
              0.3333333333333333,
              "#9c179e"
             ],
             [
              0.4444444444444444,
              "#bd3786"
             ],
             [
              0.5555555555555556,
              "#d8576b"
             ],
             [
              0.6666666666666666,
              "#ed7953"
             ],
             [
              0.7777777777777778,
              "#fb9f3a"
             ],
             [
              0.8888888888888888,
              "#fdca26"
             ],
             [
              1,
              "#f0f921"
             ]
            ],
            "type": "heatmap"
           }
          ],
          "heatmapgl": [
           {
            "colorbar": {
             "outlinewidth": 0,
             "ticks": ""
            },
            "colorscale": [
             [
              0,
              "#0d0887"
             ],
             [
              0.1111111111111111,
              "#46039f"
             ],
             [
              0.2222222222222222,
              "#7201a8"
             ],
             [
              0.3333333333333333,
              "#9c179e"
             ],
             [
              0.4444444444444444,
              "#bd3786"
             ],
             [
              0.5555555555555556,
              "#d8576b"
             ],
             [
              0.6666666666666666,
              "#ed7953"
             ],
             [
              0.7777777777777778,
              "#fb9f3a"
             ],
             [
              0.8888888888888888,
              "#fdca26"
             ],
             [
              1,
              "#f0f921"
             ]
            ],
            "type": "heatmapgl"
           }
          ],
          "histogram": [
           {
            "marker": {
             "pattern": {
              "fillmode": "overlay",
              "size": 10,
              "solidity": 0.2
             }
            },
            "type": "histogram"
           }
          ],
          "histogram2d": [
           {
            "colorbar": {
             "outlinewidth": 0,
             "ticks": ""
            },
            "colorscale": [
             [
              0,
              "#0d0887"
             ],
             [
              0.1111111111111111,
              "#46039f"
             ],
             [
              0.2222222222222222,
              "#7201a8"
             ],
             [
              0.3333333333333333,
              "#9c179e"
             ],
             [
              0.4444444444444444,
              "#bd3786"
             ],
             [
              0.5555555555555556,
              "#d8576b"
             ],
             [
              0.6666666666666666,
              "#ed7953"
             ],
             [
              0.7777777777777778,
              "#fb9f3a"
             ],
             [
              0.8888888888888888,
              "#fdca26"
             ],
             [
              1,
              "#f0f921"
             ]
            ],
            "type": "histogram2d"
           }
          ],
          "histogram2dcontour": [
           {
            "colorbar": {
             "outlinewidth": 0,
             "ticks": ""
            },
            "colorscale": [
             [
              0,
              "#0d0887"
             ],
             [
              0.1111111111111111,
              "#46039f"
             ],
             [
              0.2222222222222222,
              "#7201a8"
             ],
             [
              0.3333333333333333,
              "#9c179e"
             ],
             [
              0.4444444444444444,
              "#bd3786"
             ],
             [
              0.5555555555555556,
              "#d8576b"
             ],
             [
              0.6666666666666666,
              "#ed7953"
             ],
             [
              0.7777777777777778,
              "#fb9f3a"
             ],
             [
              0.8888888888888888,
              "#fdca26"
             ],
             [
              1,
              "#f0f921"
             ]
            ],
            "type": "histogram2dcontour"
           }
          ],
          "mesh3d": [
           {
            "colorbar": {
             "outlinewidth": 0,
             "ticks": ""
            },
            "type": "mesh3d"
           }
          ],
          "parcoords": [
           {
            "line": {
             "colorbar": {
              "outlinewidth": 0,
              "ticks": ""
             }
            },
            "type": "parcoords"
           }
          ],
          "pie": [
           {
            "automargin": true,
            "type": "pie"
           }
          ],
          "scatter": [
           {
            "fillpattern": {
             "fillmode": "overlay",
             "size": 10,
             "solidity": 0.2
            },
            "type": "scatter"
           }
          ],
          "scatter3d": [
           {
            "line": {
             "colorbar": {
              "outlinewidth": 0,
              "ticks": ""
             }
            },
            "marker": {
             "colorbar": {
              "outlinewidth": 0,
              "ticks": ""
             }
            },
            "type": "scatter3d"
           }
          ],
          "scattercarpet": [
           {
            "marker": {
             "colorbar": {
              "outlinewidth": 0,
              "ticks": ""
             }
            },
            "type": "scattercarpet"
           }
          ],
          "scattergeo": [
           {
            "marker": {
             "colorbar": {
              "outlinewidth": 0,
              "ticks": ""
             }
            },
            "type": "scattergeo"
           }
          ],
          "scattergl": [
           {
            "marker": {
             "colorbar": {
              "outlinewidth": 0,
              "ticks": ""
             }
            },
            "type": "scattergl"
           }
          ],
          "scattermapbox": [
           {
            "marker": {
             "colorbar": {
              "outlinewidth": 0,
              "ticks": ""
             }
            },
            "type": "scattermapbox"
           }
          ],
          "scatterpolar": [
           {
            "marker": {
             "colorbar": {
              "outlinewidth": 0,
              "ticks": ""
             }
            },
            "type": "scatterpolar"
           }
          ],
          "scatterpolargl": [
           {
            "marker": {
             "colorbar": {
              "outlinewidth": 0,
              "ticks": ""
             }
            },
            "type": "scatterpolargl"
           }
          ],
          "scatterternary": [
           {
            "marker": {
             "colorbar": {
              "outlinewidth": 0,
              "ticks": ""
             }
            },
            "type": "scatterternary"
           }
          ],
          "surface": [
           {
            "colorbar": {
             "outlinewidth": 0,
             "ticks": ""
            },
            "colorscale": [
             [
              0,
              "#0d0887"
             ],
             [
              0.1111111111111111,
              "#46039f"
             ],
             [
              0.2222222222222222,
              "#7201a8"
             ],
             [
              0.3333333333333333,
              "#9c179e"
             ],
             [
              0.4444444444444444,
              "#bd3786"
             ],
             [
              0.5555555555555556,
              "#d8576b"
             ],
             [
              0.6666666666666666,
              "#ed7953"
             ],
             [
              0.7777777777777778,
              "#fb9f3a"
             ],
             [
              0.8888888888888888,
              "#fdca26"
             ],
             [
              1,
              "#f0f921"
             ]
            ],
            "type": "surface"
           }
          ],
          "table": [
           {
            "cells": {
             "fill": {
              "color": "#EBF0F8"
             },
             "line": {
              "color": "white"
             }
            },
            "header": {
             "fill": {
              "color": "#C8D4E3"
             },
             "line": {
              "color": "white"
             }
            },
            "type": "table"
           }
          ]
         },
         "layout": {
          "annotationdefaults": {
           "arrowcolor": "#2a3f5f",
           "arrowhead": 0,
           "arrowwidth": 1
          },
          "autotypenumbers": "strict",
          "coloraxis": {
           "colorbar": {
            "outlinewidth": 0,
            "ticks": ""
           }
          },
          "colorscale": {
           "diverging": [
            [
             0,
             "#8e0152"
            ],
            [
             0.1,
             "#c51b7d"
            ],
            [
             0.2,
             "#de77ae"
            ],
            [
             0.3,
             "#f1b6da"
            ],
            [
             0.4,
             "#fde0ef"
            ],
            [
             0.5,
             "#f7f7f7"
            ],
            [
             0.6,
             "#e6f5d0"
            ],
            [
             0.7,
             "#b8e186"
            ],
            [
             0.8,
             "#7fbc41"
            ],
            [
             0.9,
             "#4d9221"
            ],
            [
             1,
             "#276419"
            ]
           ],
           "sequential": [
            [
             0,
             "#0d0887"
            ],
            [
             0.1111111111111111,
             "#46039f"
            ],
            [
             0.2222222222222222,
             "#7201a8"
            ],
            [
             0.3333333333333333,
             "#9c179e"
            ],
            [
             0.4444444444444444,
             "#bd3786"
            ],
            [
             0.5555555555555556,
             "#d8576b"
            ],
            [
             0.6666666666666666,
             "#ed7953"
            ],
            [
             0.7777777777777778,
             "#fb9f3a"
            ],
            [
             0.8888888888888888,
             "#fdca26"
            ],
            [
             1,
             "#f0f921"
            ]
           ],
           "sequentialminus": [
            [
             0,
             "#0d0887"
            ],
            [
             0.1111111111111111,
             "#46039f"
            ],
            [
             0.2222222222222222,
             "#7201a8"
            ],
            [
             0.3333333333333333,
             "#9c179e"
            ],
            [
             0.4444444444444444,
             "#bd3786"
            ],
            [
             0.5555555555555556,
             "#d8576b"
            ],
            [
             0.6666666666666666,
             "#ed7953"
            ],
            [
             0.7777777777777778,
             "#fb9f3a"
            ],
            [
             0.8888888888888888,
             "#fdca26"
            ],
            [
             1,
             "#f0f921"
            ]
           ]
          },
          "colorway": [
           "#636efa",
           "#EF553B",
           "#00cc96",
           "#ab63fa",
           "#FFA15A",
           "#19d3f3",
           "#FF6692",
           "#B6E880",
           "#FF97FF",
           "#FECB52"
          ],
          "font": {
           "color": "#2a3f5f"
          },
          "geo": {
           "bgcolor": "white",
           "lakecolor": "white",
           "landcolor": "#E5ECF6",
           "showlakes": true,
           "showland": true,
           "subunitcolor": "white"
          },
          "hoverlabel": {
           "align": "left"
          },
          "hovermode": "closest",
          "mapbox": {
           "style": "light"
          },
          "paper_bgcolor": "white",
          "plot_bgcolor": "#E5ECF6",
          "polar": {
           "angularaxis": {
            "gridcolor": "white",
            "linecolor": "white",
            "ticks": ""
           },
           "bgcolor": "#E5ECF6",
           "radialaxis": {
            "gridcolor": "white",
            "linecolor": "white",
            "ticks": ""
           }
          },
          "scene": {
           "xaxis": {
            "backgroundcolor": "#E5ECF6",
            "gridcolor": "white",
            "gridwidth": 2,
            "linecolor": "white",
            "showbackground": true,
            "ticks": "",
            "zerolinecolor": "white"
           },
           "yaxis": {
            "backgroundcolor": "#E5ECF6",
            "gridcolor": "white",
            "gridwidth": 2,
            "linecolor": "white",
            "showbackground": true,
            "ticks": "",
            "zerolinecolor": "white"
           },
           "zaxis": {
            "backgroundcolor": "#E5ECF6",
            "gridcolor": "white",
            "gridwidth": 2,
            "linecolor": "white",
            "showbackground": true,
            "ticks": "",
            "zerolinecolor": "white"
           }
          },
          "shapedefaults": {
           "line": {
            "color": "#2a3f5f"
           }
          },
          "ternary": {
           "aaxis": {
            "gridcolor": "white",
            "linecolor": "white",
            "ticks": ""
           },
           "baxis": {
            "gridcolor": "white",
            "linecolor": "white",
            "ticks": ""
           },
           "bgcolor": "#E5ECF6",
           "caxis": {
            "gridcolor": "white",
            "linecolor": "white",
            "ticks": ""
           }
          },
          "title": {
           "x": 0.05
          },
          "xaxis": {
           "automargin": true,
           "gridcolor": "white",
           "linecolor": "white",
           "ticks": "",
           "title": {
            "standoff": 15
           },
           "zerolinecolor": "white",
           "zerolinewidth": 2
          },
          "yaxis": {
           "automargin": true,
           "gridcolor": "white",
           "linecolor": "white",
           "ticks": "",
           "title": {
            "standoff": 15
           },
           "zerolinecolor": "white",
           "zerolinewidth": 2
          }
         }
        },
        "title": {
         "text": "Distribuição de Buy-in por Tamanho de field. Torneios de 2024"
        },
        "xaxis": {
         "title": {
          "text": "Intervalo de Buy-in (USD)"
         }
        },
        "yaxis": {
         "title": {
          "text": "Quantidade"
         }
        }
       }
      }
     },
     "metadata": {},
     "output_type": "display_data"
    }
   ],
   "source": [
    "import plotly.graph_objects as go\n",
    "\n",
    "# Definindo os intervalos para dividir os dados\n",
    "bins = [0, 300, 600, 900, float('inf')]\n",
    "\n",
    "# Definindo os rótulos para os grupos\n",
    "labels = ['0-300', '300-600', '600-900', '900 ou mais']\n",
    "\n",
    "# Adicionando uma nova coluna ao DataFrame com os rótulos dos intervalos\n",
    "df10['Intervalo'] = pd.cut(df10['Entradas'], bins=bins, labels=labels, right=False)\n",
    "\n",
    "# Calculando a quantidade total de torneios em cada intervalo e tipo de torneio\n",
    "total_torneios_por_intervalo_tipo = df10.groupby(['Intervalo', 'Buy-in Group']).size().reset_index(name='Total')\n",
    "\n",
    "# Criando as listas de valores para cada tamanho de field\n",
    "valores_por_field = {}\n",
    "for field_size in total_torneios_por_intervalo_tipo['Buy-in Group'].unique():\n",
    "    valores_por_field[field_size] = total_torneios_por_intervalo_tipo[total_torneios_por_intervalo_tipo['Buy-in Group'] == field_size]['Total'].tolist()\n",
    "\n",
    "# Criando as barras para cada tamanho de field\n",
    "barras = []\n",
    "cores = ['blue', 'red', 'green', 'purple', 'black', 'yellow']  # Cores para os tamanhos de field\n",
    "for field_size, cor in zip(valores_por_field.keys(), cores):\n",
    "    barras.append(go.Bar(\n",
    "        x=labels,\n",
    "        y=valores_por_field[field_size],\n",
    "        text=valores_por_field[field_size],  # Adicionando os valores como texto nas barras\n",
    "        name=f'Tamanho de Field: {field_size}',\n",
    "        marker_color=cor  # Aplicando a cor alternada\n",
    "    ))\n",
    "\n",
    "# Criando a figura\n",
    "fig = go.Figure()\n",
    "\n",
    "# Adicionando as barras à figura\n",
    "for barra in barras:\n",
    "    fig.add_trace(barra)\n",
    "\n",
    "\n",
    "# Atualizando o layout do gráfico\n",
    "fig.update_layout(\n",
    "    xaxis_title='Intervalo de Buy-in (USD)',\n",
    "    yaxis_title='Quantidade',\n",
    "    title='Distribuição de Buy-in por Tamanho de field. Torneios de 2024',\n",
    "    barmode='group'  # Agrupando as barras\n",
    ")\n",
    "\n",
    "# Exibindo o gráfico\n",
    "fig.show()\n",
    "\n"
   ]
  },
  {
   "cell_type": "code",
   "execution_count": 263,
   "metadata": {},
   "outputs": [
    {
     "name": "stderr",
     "output_type": "stream",
     "text": [
      "C:\\Users\\psyte\\AppData\\Local\\Temp\\ipykernel_72828\\2341654141.py:10: SettingWithCopyWarning:\n",
      "\n",
      "\n",
      "A value is trying to be set on a copy of a slice from a DataFrame.\n",
      "Try using .loc[row_indexer,col_indexer] = value instead\n",
      "\n",
      "See the caveats in the documentation: https://pandas.pydata.org/pandas-docs/stable/user_guide/indexing.html#returning-a-view-versus-a-copy\n",
      "\n",
      "C:\\Users\\psyte\\AppData\\Local\\Temp\\ipykernel_72828\\2341654141.py:13: FutureWarning:\n",
      "\n",
      "The default of observed=False is deprecated and will be changed to True in a future version of pandas. Pass observed=False to retain current behavior or observed=True to adopt the future default and silence this warning.\n",
      "\n"
     ]
    },
    {
     "data": {
      "application/vnd.plotly.v1+json": {
       "config": {
        "plotlyServerURL": "https://plot.ly"
       },
       "data": [
        {
         "marker": {
          "color": "blue"
         },
         "name": "Tamanho de Field: muito baixo",
         "text": [
          "5906",
          "4118",
          "2316",
          "6227"
         ],
         "type": "bar",
         "x": [
          "0-300",
          "300-600",
          "600-900",
          "900 ou mais"
         ],
         "y": [
          5906,
          4118,
          2316,
          6227
         ]
        },
        {
         "marker": {
          "color": "red"
         },
         "name": "Tamanho de Field: baixo",
         "text": [
          "5046",
          "2819",
          "2387",
          "10626"
         ],
         "type": "bar",
         "x": [
          "0-300",
          "300-600",
          "600-900",
          "900 ou mais"
         ],
         "y": [
          5046,
          2819,
          2387,
          10626
         ]
        },
        {
         "marker": {
          "color": "green"
         },
         "name": "Tamanho de Field: médio-baixo",
         "text": [
          "6858",
          "4842",
          "2036",
          "5964"
         ],
         "type": "bar",
         "x": [
          "0-300",
          "300-600",
          "600-900",
          "900 ou mais"
         ],
         "y": [
          6858,
          4842,
          2036,
          5964
         ]
        },
        {
         "marker": {
          "color": "purple"
         },
         "name": "Tamanho de Field: médio-alto",
         "text": [
          "1746",
          "1928",
          "695",
          "6910"
         ],
         "type": "bar",
         "x": [
          "0-300",
          "300-600",
          "600-900",
          "900 ou mais"
         ],
         "y": [
          1746,
          1928,
          695,
          6910
         ]
        },
        {
         "marker": {
          "color": "black"
         },
         "name": "Tamanho de Field: alto",
         "text": [
          "6273",
          "3663",
          "2081",
          "8436"
         ],
         "type": "bar",
         "x": [
          "0-300",
          "300-600",
          "600-900",
          "900 ou mais"
         ],
         "y": [
          6273,
          3663,
          2081,
          8436
         ]
        },
        {
         "marker": {
          "color": "yellow"
         },
         "name": "Tamanho de Field: muito alto",
         "text": [
          "9279",
          "5158",
          "2859",
          "10388"
         ],
         "type": "bar",
         "x": [
          "0-300",
          "300-600",
          "600-900",
          "900 ou mais"
         ],
         "y": [
          9279,
          5158,
          2859,
          10388
         ]
        }
       ],
       "layout": {
        "barmode": "group",
        "template": {
         "data": {
          "bar": [
           {
            "error_x": {
             "color": "#2a3f5f"
            },
            "error_y": {
             "color": "#2a3f5f"
            },
            "marker": {
             "line": {
              "color": "#E5ECF6",
              "width": 0.5
             },
             "pattern": {
              "fillmode": "overlay",
              "size": 10,
              "solidity": 0.2
             }
            },
            "type": "bar"
           }
          ],
          "barpolar": [
           {
            "marker": {
             "line": {
              "color": "#E5ECF6",
              "width": 0.5
             },
             "pattern": {
              "fillmode": "overlay",
              "size": 10,
              "solidity": 0.2
             }
            },
            "type": "barpolar"
           }
          ],
          "carpet": [
           {
            "aaxis": {
             "endlinecolor": "#2a3f5f",
             "gridcolor": "white",
             "linecolor": "white",
             "minorgridcolor": "white",
             "startlinecolor": "#2a3f5f"
            },
            "baxis": {
             "endlinecolor": "#2a3f5f",
             "gridcolor": "white",
             "linecolor": "white",
             "minorgridcolor": "white",
             "startlinecolor": "#2a3f5f"
            },
            "type": "carpet"
           }
          ],
          "choropleth": [
           {
            "colorbar": {
             "outlinewidth": 0,
             "ticks": ""
            },
            "type": "choropleth"
           }
          ],
          "contour": [
           {
            "colorbar": {
             "outlinewidth": 0,
             "ticks": ""
            },
            "colorscale": [
             [
              0,
              "#0d0887"
             ],
             [
              0.1111111111111111,
              "#46039f"
             ],
             [
              0.2222222222222222,
              "#7201a8"
             ],
             [
              0.3333333333333333,
              "#9c179e"
             ],
             [
              0.4444444444444444,
              "#bd3786"
             ],
             [
              0.5555555555555556,
              "#d8576b"
             ],
             [
              0.6666666666666666,
              "#ed7953"
             ],
             [
              0.7777777777777778,
              "#fb9f3a"
             ],
             [
              0.8888888888888888,
              "#fdca26"
             ],
             [
              1,
              "#f0f921"
             ]
            ],
            "type": "contour"
           }
          ],
          "contourcarpet": [
           {
            "colorbar": {
             "outlinewidth": 0,
             "ticks": ""
            },
            "type": "contourcarpet"
           }
          ],
          "heatmap": [
           {
            "colorbar": {
             "outlinewidth": 0,
             "ticks": ""
            },
            "colorscale": [
             [
              0,
              "#0d0887"
             ],
             [
              0.1111111111111111,
              "#46039f"
             ],
             [
              0.2222222222222222,
              "#7201a8"
             ],
             [
              0.3333333333333333,
              "#9c179e"
             ],
             [
              0.4444444444444444,
              "#bd3786"
             ],
             [
              0.5555555555555556,
              "#d8576b"
             ],
             [
              0.6666666666666666,
              "#ed7953"
             ],
             [
              0.7777777777777778,
              "#fb9f3a"
             ],
             [
              0.8888888888888888,
              "#fdca26"
             ],
             [
              1,
              "#f0f921"
             ]
            ],
            "type": "heatmap"
           }
          ],
          "heatmapgl": [
           {
            "colorbar": {
             "outlinewidth": 0,
             "ticks": ""
            },
            "colorscale": [
             [
              0,
              "#0d0887"
             ],
             [
              0.1111111111111111,
              "#46039f"
             ],
             [
              0.2222222222222222,
              "#7201a8"
             ],
             [
              0.3333333333333333,
              "#9c179e"
             ],
             [
              0.4444444444444444,
              "#bd3786"
             ],
             [
              0.5555555555555556,
              "#d8576b"
             ],
             [
              0.6666666666666666,
              "#ed7953"
             ],
             [
              0.7777777777777778,
              "#fb9f3a"
             ],
             [
              0.8888888888888888,
              "#fdca26"
             ],
             [
              1,
              "#f0f921"
             ]
            ],
            "type": "heatmapgl"
           }
          ],
          "histogram": [
           {
            "marker": {
             "pattern": {
              "fillmode": "overlay",
              "size": 10,
              "solidity": 0.2
             }
            },
            "type": "histogram"
           }
          ],
          "histogram2d": [
           {
            "colorbar": {
             "outlinewidth": 0,
             "ticks": ""
            },
            "colorscale": [
             [
              0,
              "#0d0887"
             ],
             [
              0.1111111111111111,
              "#46039f"
             ],
             [
              0.2222222222222222,
              "#7201a8"
             ],
             [
              0.3333333333333333,
              "#9c179e"
             ],
             [
              0.4444444444444444,
              "#bd3786"
             ],
             [
              0.5555555555555556,
              "#d8576b"
             ],
             [
              0.6666666666666666,
              "#ed7953"
             ],
             [
              0.7777777777777778,
              "#fb9f3a"
             ],
             [
              0.8888888888888888,
              "#fdca26"
             ],
             [
              1,
              "#f0f921"
             ]
            ],
            "type": "histogram2d"
           }
          ],
          "histogram2dcontour": [
           {
            "colorbar": {
             "outlinewidth": 0,
             "ticks": ""
            },
            "colorscale": [
             [
              0,
              "#0d0887"
             ],
             [
              0.1111111111111111,
              "#46039f"
             ],
             [
              0.2222222222222222,
              "#7201a8"
             ],
             [
              0.3333333333333333,
              "#9c179e"
             ],
             [
              0.4444444444444444,
              "#bd3786"
             ],
             [
              0.5555555555555556,
              "#d8576b"
             ],
             [
              0.6666666666666666,
              "#ed7953"
             ],
             [
              0.7777777777777778,
              "#fb9f3a"
             ],
             [
              0.8888888888888888,
              "#fdca26"
             ],
             [
              1,
              "#f0f921"
             ]
            ],
            "type": "histogram2dcontour"
           }
          ],
          "mesh3d": [
           {
            "colorbar": {
             "outlinewidth": 0,
             "ticks": ""
            },
            "type": "mesh3d"
           }
          ],
          "parcoords": [
           {
            "line": {
             "colorbar": {
              "outlinewidth": 0,
              "ticks": ""
             }
            },
            "type": "parcoords"
           }
          ],
          "pie": [
           {
            "automargin": true,
            "type": "pie"
           }
          ],
          "scatter": [
           {
            "fillpattern": {
             "fillmode": "overlay",
             "size": 10,
             "solidity": 0.2
            },
            "type": "scatter"
           }
          ],
          "scatter3d": [
           {
            "line": {
             "colorbar": {
              "outlinewidth": 0,
              "ticks": ""
             }
            },
            "marker": {
             "colorbar": {
              "outlinewidth": 0,
              "ticks": ""
             }
            },
            "type": "scatter3d"
           }
          ],
          "scattercarpet": [
           {
            "marker": {
             "colorbar": {
              "outlinewidth": 0,
              "ticks": ""
             }
            },
            "type": "scattercarpet"
           }
          ],
          "scattergeo": [
           {
            "marker": {
             "colorbar": {
              "outlinewidth": 0,
              "ticks": ""
             }
            },
            "type": "scattergeo"
           }
          ],
          "scattergl": [
           {
            "marker": {
             "colorbar": {
              "outlinewidth": 0,
              "ticks": ""
             }
            },
            "type": "scattergl"
           }
          ],
          "scattermapbox": [
           {
            "marker": {
             "colorbar": {
              "outlinewidth": 0,
              "ticks": ""
             }
            },
            "type": "scattermapbox"
           }
          ],
          "scatterpolar": [
           {
            "marker": {
             "colorbar": {
              "outlinewidth": 0,
              "ticks": ""
             }
            },
            "type": "scatterpolar"
           }
          ],
          "scatterpolargl": [
           {
            "marker": {
             "colorbar": {
              "outlinewidth": 0,
              "ticks": ""
             }
            },
            "type": "scatterpolargl"
           }
          ],
          "scatterternary": [
           {
            "marker": {
             "colorbar": {
              "outlinewidth": 0,
              "ticks": ""
             }
            },
            "type": "scatterternary"
           }
          ],
          "surface": [
           {
            "colorbar": {
             "outlinewidth": 0,
             "ticks": ""
            },
            "colorscale": [
             [
              0,
              "#0d0887"
             ],
             [
              0.1111111111111111,
              "#46039f"
             ],
             [
              0.2222222222222222,
              "#7201a8"
             ],
             [
              0.3333333333333333,
              "#9c179e"
             ],
             [
              0.4444444444444444,
              "#bd3786"
             ],
             [
              0.5555555555555556,
              "#d8576b"
             ],
             [
              0.6666666666666666,
              "#ed7953"
             ],
             [
              0.7777777777777778,
              "#fb9f3a"
             ],
             [
              0.8888888888888888,
              "#fdca26"
             ],
             [
              1,
              "#f0f921"
             ]
            ],
            "type": "surface"
           }
          ],
          "table": [
           {
            "cells": {
             "fill": {
              "color": "#EBF0F8"
             },
             "line": {
              "color": "white"
             }
            },
            "header": {
             "fill": {
              "color": "#C8D4E3"
             },
             "line": {
              "color": "white"
             }
            },
            "type": "table"
           }
          ]
         },
         "layout": {
          "annotationdefaults": {
           "arrowcolor": "#2a3f5f",
           "arrowhead": 0,
           "arrowwidth": 1
          },
          "autotypenumbers": "strict",
          "coloraxis": {
           "colorbar": {
            "outlinewidth": 0,
            "ticks": ""
           }
          },
          "colorscale": {
           "diverging": [
            [
             0,
             "#8e0152"
            ],
            [
             0.1,
             "#c51b7d"
            ],
            [
             0.2,
             "#de77ae"
            ],
            [
             0.3,
             "#f1b6da"
            ],
            [
             0.4,
             "#fde0ef"
            ],
            [
             0.5,
             "#f7f7f7"
            ],
            [
             0.6,
             "#e6f5d0"
            ],
            [
             0.7,
             "#b8e186"
            ],
            [
             0.8,
             "#7fbc41"
            ],
            [
             0.9,
             "#4d9221"
            ],
            [
             1,
             "#276419"
            ]
           ],
           "sequential": [
            [
             0,
             "#0d0887"
            ],
            [
             0.1111111111111111,
             "#46039f"
            ],
            [
             0.2222222222222222,
             "#7201a8"
            ],
            [
             0.3333333333333333,
             "#9c179e"
            ],
            [
             0.4444444444444444,
             "#bd3786"
            ],
            [
             0.5555555555555556,
             "#d8576b"
            ],
            [
             0.6666666666666666,
             "#ed7953"
            ],
            [
             0.7777777777777778,
             "#fb9f3a"
            ],
            [
             0.8888888888888888,
             "#fdca26"
            ],
            [
             1,
             "#f0f921"
            ]
           ],
           "sequentialminus": [
            [
             0,
             "#0d0887"
            ],
            [
             0.1111111111111111,
             "#46039f"
            ],
            [
             0.2222222222222222,
             "#7201a8"
            ],
            [
             0.3333333333333333,
             "#9c179e"
            ],
            [
             0.4444444444444444,
             "#bd3786"
            ],
            [
             0.5555555555555556,
             "#d8576b"
            ],
            [
             0.6666666666666666,
             "#ed7953"
            ],
            [
             0.7777777777777778,
             "#fb9f3a"
            ],
            [
             0.8888888888888888,
             "#fdca26"
            ],
            [
             1,
             "#f0f921"
            ]
           ]
          },
          "colorway": [
           "#636efa",
           "#EF553B",
           "#00cc96",
           "#ab63fa",
           "#FFA15A",
           "#19d3f3",
           "#FF6692",
           "#B6E880",
           "#FF97FF",
           "#FECB52"
          ],
          "font": {
           "color": "#2a3f5f"
          },
          "geo": {
           "bgcolor": "white",
           "lakecolor": "white",
           "landcolor": "#E5ECF6",
           "showlakes": true,
           "showland": true,
           "subunitcolor": "white"
          },
          "hoverlabel": {
           "align": "left"
          },
          "hovermode": "closest",
          "mapbox": {
           "style": "light"
          },
          "paper_bgcolor": "white",
          "plot_bgcolor": "#E5ECF6",
          "polar": {
           "angularaxis": {
            "gridcolor": "white",
            "linecolor": "white",
            "ticks": ""
           },
           "bgcolor": "#E5ECF6",
           "radialaxis": {
            "gridcolor": "white",
            "linecolor": "white",
            "ticks": ""
           }
          },
          "scene": {
           "xaxis": {
            "backgroundcolor": "#E5ECF6",
            "gridcolor": "white",
            "gridwidth": 2,
            "linecolor": "white",
            "showbackground": true,
            "ticks": "",
            "zerolinecolor": "white"
           },
           "yaxis": {
            "backgroundcolor": "#E5ECF6",
            "gridcolor": "white",
            "gridwidth": 2,
            "linecolor": "white",
            "showbackground": true,
            "ticks": "",
            "zerolinecolor": "white"
           },
           "zaxis": {
            "backgroundcolor": "#E5ECF6",
            "gridcolor": "white",
            "gridwidth": 2,
            "linecolor": "white",
            "showbackground": true,
            "ticks": "",
            "zerolinecolor": "white"
           }
          },
          "shapedefaults": {
           "line": {
            "color": "#2a3f5f"
           }
          },
          "ternary": {
           "aaxis": {
            "gridcolor": "white",
            "linecolor": "white",
            "ticks": ""
           },
           "baxis": {
            "gridcolor": "white",
            "linecolor": "white",
            "ticks": ""
           },
           "bgcolor": "#E5ECF6",
           "caxis": {
            "gridcolor": "white",
            "linecolor": "white",
            "ticks": ""
           }
          },
          "title": {
           "x": 0.05
          },
          "xaxis": {
           "automargin": true,
           "gridcolor": "white",
           "linecolor": "white",
           "ticks": "",
           "title": {
            "standoff": 15
           },
           "zerolinecolor": "white",
           "zerolinewidth": 2
          },
          "yaxis": {
           "automargin": true,
           "gridcolor": "white",
           "linecolor": "white",
           "ticks": "",
           "title": {
            "standoff": 15
           },
           "zerolinecolor": "white",
           "zerolinewidth": 2
          }
         }
        },
        "title": {
         "text": "Distribuição de Buy-in por Tamanho de field. Torneios de 2023 e 2024"
        },
        "xaxis": {
         "title": {
          "text": "Intervalo de Buy-in (USD)"
         }
        },
        "yaxis": {
         "title": {
          "text": "Quantidade"
         }
        }
       }
      }
     },
     "metadata": {},
     "output_type": "display_data"
    }
   ],
   "source": [
    "import plotly.graph_objects as go\n",
    "\n",
    "# Definindo os intervalos para dividir os dados\n",
    "bins = [0, 300, 600, 900, float('inf')]\n",
    "\n",
    "# Definindo os rótulos para os grupos\n",
    "labels = ['0-300', '300-600', '600-900', '900 ou mais']\n",
    "\n",
    "# Adicionando uma nova coluna ao DataFrame com os rótulos dos intervalos\n",
    "df77['Intervalo'] = pd.cut(df77['Entradas'], bins=bins, labels=labels, right=False)\n",
    "\n",
    "# Calculando a quantidade total de torneios em cada intervalo e tipo de torneio\n",
    "total_torneios_por_intervalo_tipo = df77.groupby(['Intervalo', 'Buy-in Group']).size().reset_index(name='Total')\n",
    "\n",
    "# Criando as listas de valores para cada tamanho de field\n",
    "valores_por_field = {}\n",
    "for field_size in total_torneios_por_intervalo_tipo['Buy-in Group'].unique():\n",
    "    valores_por_field[field_size] = total_torneios_por_intervalo_tipo[total_torneios_por_intervalo_tipo['Buy-in Group'] == field_size]['Total'].tolist()\n",
    "\n",
    "# Criando as barras para cada tamanho de field\n",
    "barras = []\n",
    "cores = ['blue', 'red', 'green', 'purple', 'black', 'yellow']  # Cores para os tamanhos de field\n",
    "for field_size, cor in zip(valores_por_field.keys(), cores):\n",
    "    barras.append(go.Bar(\n",
    "        x=labels,\n",
    "        y=valores_por_field[field_size],\n",
    "        text=valores_por_field[field_size],  # Adicionando os valores como texto nas barras\n",
    "        name=f'Tamanho de Field: {field_size}',\n",
    "        marker_color=cor  # Aplicando a cor alternada\n",
    "    ))\n",
    "\n",
    "# Criando a figura\n",
    "fig = go.Figure()\n",
    "\n",
    "# Adicionando as barras à figura\n",
    "for barra in barras:\n",
    "    fig.add_trace(barra)\n",
    "\n",
    "\n",
    "# Atualizando o layout do gráfico\n",
    "fig.update_layout(\n",
    "    xaxis_title='Intervalo de Buy-in (USD)',\n",
    "    yaxis_title='Quantidade',\n",
    "    title='Distribuição de Buy-in por Tamanho de field. Torneios de 2023 e 2024',\n",
    "    barmode='group'  # Agrupando as barras\n",
    ")\n",
    "\n",
    "# Exibindo o gráfico\n",
    "fig.show()\n"
   ]
  },
  {
   "cell_type": "code",
   "execution_count": 277,
   "metadata": {},
   "outputs": [
    {
     "data": {
      "application/vnd.plotly.v1+json": {
       "config": {
        "plotlyServerURL": "https://plot.ly"
       },
       "data": [
        {
         "marker": {
          "color": [
           "#4E79A7",
           "#A0CBE8",
           "#FFBE7D",
           "#59A14F",
           "#8CD17D",
           "#B6992D",
           "#F1CE63",
           "#499894",
           "#86BCB6"
          ]
         },
         "text": [
          5043,
          2765,
          6672,
          6030,
          4645,
          6506
         ],
         "type": "bar",
         "x": [
          "muito baixo",
          "baixo",
          "médio-baixo",
          "médio-alto",
          "alto",
          "muito alto"
         ],
         "y": [
          5043,
          2765,
          6672,
          6030,
          4645,
          6506
         ]
        }
       ],
       "layout": {
        "template": {
         "data": {
          "bar": [
           {
            "error_x": {
             "color": "#2a3f5f"
            },
            "error_y": {
             "color": "#2a3f5f"
            },
            "marker": {
             "line": {
              "color": "#E5ECF6",
              "width": 0.5
             },
             "pattern": {
              "fillmode": "overlay",
              "size": 10,
              "solidity": 0.2
             }
            },
            "type": "bar"
           }
          ],
          "barpolar": [
           {
            "marker": {
             "line": {
              "color": "#E5ECF6",
              "width": 0.5
             },
             "pattern": {
              "fillmode": "overlay",
              "size": 10,
              "solidity": 0.2
             }
            },
            "type": "barpolar"
           }
          ],
          "carpet": [
           {
            "aaxis": {
             "endlinecolor": "#2a3f5f",
             "gridcolor": "white",
             "linecolor": "white",
             "minorgridcolor": "white",
             "startlinecolor": "#2a3f5f"
            },
            "baxis": {
             "endlinecolor": "#2a3f5f",
             "gridcolor": "white",
             "linecolor": "white",
             "minorgridcolor": "white",
             "startlinecolor": "#2a3f5f"
            },
            "type": "carpet"
           }
          ],
          "choropleth": [
           {
            "colorbar": {
             "outlinewidth": 0,
             "ticks": ""
            },
            "type": "choropleth"
           }
          ],
          "contour": [
           {
            "colorbar": {
             "outlinewidth": 0,
             "ticks": ""
            },
            "colorscale": [
             [
              0,
              "#0d0887"
             ],
             [
              0.1111111111111111,
              "#46039f"
             ],
             [
              0.2222222222222222,
              "#7201a8"
             ],
             [
              0.3333333333333333,
              "#9c179e"
             ],
             [
              0.4444444444444444,
              "#bd3786"
             ],
             [
              0.5555555555555556,
              "#d8576b"
             ],
             [
              0.6666666666666666,
              "#ed7953"
             ],
             [
              0.7777777777777778,
              "#fb9f3a"
             ],
             [
              0.8888888888888888,
              "#fdca26"
             ],
             [
              1,
              "#f0f921"
             ]
            ],
            "type": "contour"
           }
          ],
          "contourcarpet": [
           {
            "colorbar": {
             "outlinewidth": 0,
             "ticks": ""
            },
            "type": "contourcarpet"
           }
          ],
          "heatmap": [
           {
            "colorbar": {
             "outlinewidth": 0,
             "ticks": ""
            },
            "colorscale": [
             [
              0,
              "#0d0887"
             ],
             [
              0.1111111111111111,
              "#46039f"
             ],
             [
              0.2222222222222222,
              "#7201a8"
             ],
             [
              0.3333333333333333,
              "#9c179e"
             ],
             [
              0.4444444444444444,
              "#bd3786"
             ],
             [
              0.5555555555555556,
              "#d8576b"
             ],
             [
              0.6666666666666666,
              "#ed7953"
             ],
             [
              0.7777777777777778,
              "#fb9f3a"
             ],
             [
              0.8888888888888888,
              "#fdca26"
             ],
             [
              1,
              "#f0f921"
             ]
            ],
            "type": "heatmap"
           }
          ],
          "heatmapgl": [
           {
            "colorbar": {
             "outlinewidth": 0,
             "ticks": ""
            },
            "colorscale": [
             [
              0,
              "#0d0887"
             ],
             [
              0.1111111111111111,
              "#46039f"
             ],
             [
              0.2222222222222222,
              "#7201a8"
             ],
             [
              0.3333333333333333,
              "#9c179e"
             ],
             [
              0.4444444444444444,
              "#bd3786"
             ],
             [
              0.5555555555555556,
              "#d8576b"
             ],
             [
              0.6666666666666666,
              "#ed7953"
             ],
             [
              0.7777777777777778,
              "#fb9f3a"
             ],
             [
              0.8888888888888888,
              "#fdca26"
             ],
             [
              1,
              "#f0f921"
             ]
            ],
            "type": "heatmapgl"
           }
          ],
          "histogram": [
           {
            "marker": {
             "pattern": {
              "fillmode": "overlay",
              "size": 10,
              "solidity": 0.2
             }
            },
            "type": "histogram"
           }
          ],
          "histogram2d": [
           {
            "colorbar": {
             "outlinewidth": 0,
             "ticks": ""
            },
            "colorscale": [
             [
              0,
              "#0d0887"
             ],
             [
              0.1111111111111111,
              "#46039f"
             ],
             [
              0.2222222222222222,
              "#7201a8"
             ],
             [
              0.3333333333333333,
              "#9c179e"
             ],
             [
              0.4444444444444444,
              "#bd3786"
             ],
             [
              0.5555555555555556,
              "#d8576b"
             ],
             [
              0.6666666666666666,
              "#ed7953"
             ],
             [
              0.7777777777777778,
              "#fb9f3a"
             ],
             [
              0.8888888888888888,
              "#fdca26"
             ],
             [
              1,
              "#f0f921"
             ]
            ],
            "type": "histogram2d"
           }
          ],
          "histogram2dcontour": [
           {
            "colorbar": {
             "outlinewidth": 0,
             "ticks": ""
            },
            "colorscale": [
             [
              0,
              "#0d0887"
             ],
             [
              0.1111111111111111,
              "#46039f"
             ],
             [
              0.2222222222222222,
              "#7201a8"
             ],
             [
              0.3333333333333333,
              "#9c179e"
             ],
             [
              0.4444444444444444,
              "#bd3786"
             ],
             [
              0.5555555555555556,
              "#d8576b"
             ],
             [
              0.6666666666666666,
              "#ed7953"
             ],
             [
              0.7777777777777778,
              "#fb9f3a"
             ],
             [
              0.8888888888888888,
              "#fdca26"
             ],
             [
              1,
              "#f0f921"
             ]
            ],
            "type": "histogram2dcontour"
           }
          ],
          "mesh3d": [
           {
            "colorbar": {
             "outlinewidth": 0,
             "ticks": ""
            },
            "type": "mesh3d"
           }
          ],
          "parcoords": [
           {
            "line": {
             "colorbar": {
              "outlinewidth": 0,
              "ticks": ""
             }
            },
            "type": "parcoords"
           }
          ],
          "pie": [
           {
            "automargin": true,
            "type": "pie"
           }
          ],
          "scatter": [
           {
            "fillpattern": {
             "fillmode": "overlay",
             "size": 10,
             "solidity": 0.2
            },
            "type": "scatter"
           }
          ],
          "scatter3d": [
           {
            "line": {
             "colorbar": {
              "outlinewidth": 0,
              "ticks": ""
             }
            },
            "marker": {
             "colorbar": {
              "outlinewidth": 0,
              "ticks": ""
             }
            },
            "type": "scatter3d"
           }
          ],
          "scattercarpet": [
           {
            "marker": {
             "colorbar": {
              "outlinewidth": 0,
              "ticks": ""
             }
            },
            "type": "scattercarpet"
           }
          ],
          "scattergeo": [
           {
            "marker": {
             "colorbar": {
              "outlinewidth": 0,
              "ticks": ""
             }
            },
            "type": "scattergeo"
           }
          ],
          "scattergl": [
           {
            "marker": {
             "colorbar": {
              "outlinewidth": 0,
              "ticks": ""
             }
            },
            "type": "scattergl"
           }
          ],
          "scattermapbox": [
           {
            "marker": {
             "colorbar": {
              "outlinewidth": 0,
              "ticks": ""
             }
            },
            "type": "scattermapbox"
           }
          ],
          "scatterpolar": [
           {
            "marker": {
             "colorbar": {
              "outlinewidth": 0,
              "ticks": ""
             }
            },
            "type": "scatterpolar"
           }
          ],
          "scatterpolargl": [
           {
            "marker": {
             "colorbar": {
              "outlinewidth": 0,
              "ticks": ""
             }
            },
            "type": "scatterpolargl"
           }
          ],
          "scatterternary": [
           {
            "marker": {
             "colorbar": {
              "outlinewidth": 0,
              "ticks": ""
             }
            },
            "type": "scatterternary"
           }
          ],
          "surface": [
           {
            "colorbar": {
             "outlinewidth": 0,
             "ticks": ""
            },
            "colorscale": [
             [
              0,
              "#0d0887"
             ],
             [
              0.1111111111111111,
              "#46039f"
             ],
             [
              0.2222222222222222,
              "#7201a8"
             ],
             [
              0.3333333333333333,
              "#9c179e"
             ],
             [
              0.4444444444444444,
              "#bd3786"
             ],
             [
              0.5555555555555556,
              "#d8576b"
             ],
             [
              0.6666666666666666,
              "#ed7953"
             ],
             [
              0.7777777777777778,
              "#fb9f3a"
             ],
             [
              0.8888888888888888,
              "#fdca26"
             ],
             [
              1,
              "#f0f921"
             ]
            ],
            "type": "surface"
           }
          ],
          "table": [
           {
            "cells": {
             "fill": {
              "color": "#EBF0F8"
             },
             "line": {
              "color": "white"
             }
            },
            "header": {
             "fill": {
              "color": "#C8D4E3"
             },
             "line": {
              "color": "white"
             }
            },
            "type": "table"
           }
          ]
         },
         "layout": {
          "annotationdefaults": {
           "arrowcolor": "#2a3f5f",
           "arrowhead": 0,
           "arrowwidth": 1
          },
          "autotypenumbers": "strict",
          "coloraxis": {
           "colorbar": {
            "outlinewidth": 0,
            "ticks": ""
           }
          },
          "colorscale": {
           "diverging": [
            [
             0,
             "#8e0152"
            ],
            [
             0.1,
             "#c51b7d"
            ],
            [
             0.2,
             "#de77ae"
            ],
            [
             0.3,
             "#f1b6da"
            ],
            [
             0.4,
             "#fde0ef"
            ],
            [
             0.5,
             "#f7f7f7"
            ],
            [
             0.6,
             "#e6f5d0"
            ],
            [
             0.7,
             "#b8e186"
            ],
            [
             0.8,
             "#7fbc41"
            ],
            [
             0.9,
             "#4d9221"
            ],
            [
             1,
             "#276419"
            ]
           ],
           "sequential": [
            [
             0,
             "#0d0887"
            ],
            [
             0.1111111111111111,
             "#46039f"
            ],
            [
             0.2222222222222222,
             "#7201a8"
            ],
            [
             0.3333333333333333,
             "#9c179e"
            ],
            [
             0.4444444444444444,
             "#bd3786"
            ],
            [
             0.5555555555555556,
             "#d8576b"
            ],
            [
             0.6666666666666666,
             "#ed7953"
            ],
            [
             0.7777777777777778,
             "#fb9f3a"
            ],
            [
             0.8888888888888888,
             "#fdca26"
            ],
            [
             1,
             "#f0f921"
            ]
           ],
           "sequentialminus": [
            [
             0,
             "#0d0887"
            ],
            [
             0.1111111111111111,
             "#46039f"
            ],
            [
             0.2222222222222222,
             "#7201a8"
            ],
            [
             0.3333333333333333,
             "#9c179e"
            ],
            [
             0.4444444444444444,
             "#bd3786"
            ],
            [
             0.5555555555555556,
             "#d8576b"
            ],
            [
             0.6666666666666666,
             "#ed7953"
            ],
            [
             0.7777777777777778,
             "#fb9f3a"
            ],
            [
             0.8888888888888888,
             "#fdca26"
            ],
            [
             1,
             "#f0f921"
            ]
           ]
          },
          "colorway": [
           "#636efa",
           "#EF553B",
           "#00cc96",
           "#ab63fa",
           "#FFA15A",
           "#19d3f3",
           "#FF6692",
           "#B6E880",
           "#FF97FF",
           "#FECB52"
          ],
          "font": {
           "color": "#2a3f5f"
          },
          "geo": {
           "bgcolor": "white",
           "lakecolor": "white",
           "landcolor": "#E5ECF6",
           "showlakes": true,
           "showland": true,
           "subunitcolor": "white"
          },
          "hoverlabel": {
           "align": "left"
          },
          "hovermode": "closest",
          "mapbox": {
           "style": "light"
          },
          "paper_bgcolor": "white",
          "plot_bgcolor": "#E5ECF6",
          "polar": {
           "angularaxis": {
            "gridcolor": "white",
            "linecolor": "white",
            "ticks": ""
           },
           "bgcolor": "#E5ECF6",
           "radialaxis": {
            "gridcolor": "white",
            "linecolor": "white",
            "ticks": ""
           }
          },
          "scene": {
           "xaxis": {
            "backgroundcolor": "#E5ECF6",
            "gridcolor": "white",
            "gridwidth": 2,
            "linecolor": "white",
            "showbackground": true,
            "ticks": "",
            "zerolinecolor": "white"
           },
           "yaxis": {
            "backgroundcolor": "#E5ECF6",
            "gridcolor": "white",
            "gridwidth": 2,
            "linecolor": "white",
            "showbackground": true,
            "ticks": "",
            "zerolinecolor": "white"
           },
           "zaxis": {
            "backgroundcolor": "#E5ECF6",
            "gridcolor": "white",
            "gridwidth": 2,
            "linecolor": "white",
            "showbackground": true,
            "ticks": "",
            "zerolinecolor": "white"
           }
          },
          "shapedefaults": {
           "line": {
            "color": "#2a3f5f"
           }
          },
          "ternary": {
           "aaxis": {
            "gridcolor": "white",
            "linecolor": "white",
            "ticks": ""
           },
           "baxis": {
            "gridcolor": "white",
            "linecolor": "white",
            "ticks": ""
           },
           "bgcolor": "#E5ECF6",
           "caxis": {
            "gridcolor": "white",
            "linecolor": "white",
            "ticks": ""
           }
          },
          "title": {
           "x": 0.05
          },
          "xaxis": {
           "automargin": true,
           "gridcolor": "white",
           "linecolor": "white",
           "ticks": "",
           "title": {
            "standoff": 15
           },
           "zerolinecolor": "white",
           "zerolinewidth": 2
          },
          "yaxis": {
           "automargin": true,
           "gridcolor": "white",
           "linecolor": "white",
           "ticks": "",
           "title": {
            "standoff": 15
           },
           "zerolinecolor": "white",
           "zerolinewidth": 2
          }
         }
        },
        "title": {
         "text": "Distribuição de Buy-in - Overall -  Torneios de 2024"
        },
        "xaxis": {
         "title": {
          "text": "Intervalo de Buy-in (USD)"
         }
        },
        "yaxis": {
         "title": {
          "text": "Quantidade"
         }
        }
       }
      }
     },
     "metadata": {},
     "output_type": "display_data"
    }
   ],
   "source": [
    "import plotly.graph_objects as go\n",
    "# Calculando a quantidade de torneios em cada intervalo de buy-in\n",
    "quantidade_por_intervalo = df10['Buy-in Group'].value_counts().sort_index()\n",
    "# Definindo uma paleta de cores com tons semelhantes\n",
    "cores = ['#4E79A7', '#A0CBE8', '#FFBE7D', '#59A14F', '#8CD17D', '#B6992D', '#F1CE63', '#499894', '#86BCB6']\n",
    "\n",
    "# Criando as barras para cada intervalo de buy-in\n",
    "barras = go.Bar(\n",
    "    x=quantidade_por_intervalo.index,\n",
    "    y=quantidade_por_intervalo.values,\n",
    "    text=quantidade_por_intervalo.values, # Adicionando os valores como texto nas barras\n",
    "    marker_color=cores  # Aplicando a paleta de cores\n",
    ")\n",
    "\n",
    "# Criando a figura\n",
    "fig = go.Figure()\n",
    "\n",
    "# Adicionando as barras à figura\n",
    "fig.add_trace(barras)\n",
    "\n",
    "# Atualizando o layout do gráfico\n",
    "fig.update_layout(\n",
    "    xaxis_title='Intervalo de Buy-in (USD)',\n",
    "    yaxis_title='Quantidade',\n",
    "    title='Distribuição de Buy-in - Overall -  Torneios de 2024'\n",
    ")\n",
    "\n",
    "# Exibindo o gráfico\n",
    "fig.show()\n"
   ]
  },
  {
   "cell_type": "code",
   "execution_count": 276,
   "metadata": {},
   "outputs": [
    {
     "data": {
      "application/vnd.plotly.v1+json": {
       "config": {
        "plotlyServerURL": "https://plot.ly"
       },
       "data": [
        {
         "marker": {
          "color": [
           "#4E79A7",
           "#A0CBE8",
           "#FFBE7D",
           "#59A14F",
           "#8CD17D",
           "#B6992D",
           "#F1CE63",
           "#499894",
           "#86BCB6"
          ]
         },
         "text": [
          18567,
          20878,
          19700,
          11279,
          20453,
          27684
         ],
         "type": "bar",
         "x": [
          "muito baixo",
          "baixo",
          "médio-baixo",
          "médio-alto",
          "alto",
          "muito alto"
         ],
         "y": [
          18567,
          20878,
          19700,
          11279,
          20453,
          27684
         ]
        }
       ],
       "layout": {
        "template": {
         "data": {
          "bar": [
           {
            "error_x": {
             "color": "#2a3f5f"
            },
            "error_y": {
             "color": "#2a3f5f"
            },
            "marker": {
             "line": {
              "color": "#E5ECF6",
              "width": 0.5
             },
             "pattern": {
              "fillmode": "overlay",
              "size": 10,
              "solidity": 0.2
             }
            },
            "type": "bar"
           }
          ],
          "barpolar": [
           {
            "marker": {
             "line": {
              "color": "#E5ECF6",
              "width": 0.5
             },
             "pattern": {
              "fillmode": "overlay",
              "size": 10,
              "solidity": 0.2
             }
            },
            "type": "barpolar"
           }
          ],
          "carpet": [
           {
            "aaxis": {
             "endlinecolor": "#2a3f5f",
             "gridcolor": "white",
             "linecolor": "white",
             "minorgridcolor": "white",
             "startlinecolor": "#2a3f5f"
            },
            "baxis": {
             "endlinecolor": "#2a3f5f",
             "gridcolor": "white",
             "linecolor": "white",
             "minorgridcolor": "white",
             "startlinecolor": "#2a3f5f"
            },
            "type": "carpet"
           }
          ],
          "choropleth": [
           {
            "colorbar": {
             "outlinewidth": 0,
             "ticks": ""
            },
            "type": "choropleth"
           }
          ],
          "contour": [
           {
            "colorbar": {
             "outlinewidth": 0,
             "ticks": ""
            },
            "colorscale": [
             [
              0,
              "#0d0887"
             ],
             [
              0.1111111111111111,
              "#46039f"
             ],
             [
              0.2222222222222222,
              "#7201a8"
             ],
             [
              0.3333333333333333,
              "#9c179e"
             ],
             [
              0.4444444444444444,
              "#bd3786"
             ],
             [
              0.5555555555555556,
              "#d8576b"
             ],
             [
              0.6666666666666666,
              "#ed7953"
             ],
             [
              0.7777777777777778,
              "#fb9f3a"
             ],
             [
              0.8888888888888888,
              "#fdca26"
             ],
             [
              1,
              "#f0f921"
             ]
            ],
            "type": "contour"
           }
          ],
          "contourcarpet": [
           {
            "colorbar": {
             "outlinewidth": 0,
             "ticks": ""
            },
            "type": "contourcarpet"
           }
          ],
          "heatmap": [
           {
            "colorbar": {
             "outlinewidth": 0,
             "ticks": ""
            },
            "colorscale": [
             [
              0,
              "#0d0887"
             ],
             [
              0.1111111111111111,
              "#46039f"
             ],
             [
              0.2222222222222222,
              "#7201a8"
             ],
             [
              0.3333333333333333,
              "#9c179e"
             ],
             [
              0.4444444444444444,
              "#bd3786"
             ],
             [
              0.5555555555555556,
              "#d8576b"
             ],
             [
              0.6666666666666666,
              "#ed7953"
             ],
             [
              0.7777777777777778,
              "#fb9f3a"
             ],
             [
              0.8888888888888888,
              "#fdca26"
             ],
             [
              1,
              "#f0f921"
             ]
            ],
            "type": "heatmap"
           }
          ],
          "heatmapgl": [
           {
            "colorbar": {
             "outlinewidth": 0,
             "ticks": ""
            },
            "colorscale": [
             [
              0,
              "#0d0887"
             ],
             [
              0.1111111111111111,
              "#46039f"
             ],
             [
              0.2222222222222222,
              "#7201a8"
             ],
             [
              0.3333333333333333,
              "#9c179e"
             ],
             [
              0.4444444444444444,
              "#bd3786"
             ],
             [
              0.5555555555555556,
              "#d8576b"
             ],
             [
              0.6666666666666666,
              "#ed7953"
             ],
             [
              0.7777777777777778,
              "#fb9f3a"
             ],
             [
              0.8888888888888888,
              "#fdca26"
             ],
             [
              1,
              "#f0f921"
             ]
            ],
            "type": "heatmapgl"
           }
          ],
          "histogram": [
           {
            "marker": {
             "pattern": {
              "fillmode": "overlay",
              "size": 10,
              "solidity": 0.2
             }
            },
            "type": "histogram"
           }
          ],
          "histogram2d": [
           {
            "colorbar": {
             "outlinewidth": 0,
             "ticks": ""
            },
            "colorscale": [
             [
              0,
              "#0d0887"
             ],
             [
              0.1111111111111111,
              "#46039f"
             ],
             [
              0.2222222222222222,
              "#7201a8"
             ],
             [
              0.3333333333333333,
              "#9c179e"
             ],
             [
              0.4444444444444444,
              "#bd3786"
             ],
             [
              0.5555555555555556,
              "#d8576b"
             ],
             [
              0.6666666666666666,
              "#ed7953"
             ],
             [
              0.7777777777777778,
              "#fb9f3a"
             ],
             [
              0.8888888888888888,
              "#fdca26"
             ],
             [
              1,
              "#f0f921"
             ]
            ],
            "type": "histogram2d"
           }
          ],
          "histogram2dcontour": [
           {
            "colorbar": {
             "outlinewidth": 0,
             "ticks": ""
            },
            "colorscale": [
             [
              0,
              "#0d0887"
             ],
             [
              0.1111111111111111,
              "#46039f"
             ],
             [
              0.2222222222222222,
              "#7201a8"
             ],
             [
              0.3333333333333333,
              "#9c179e"
             ],
             [
              0.4444444444444444,
              "#bd3786"
             ],
             [
              0.5555555555555556,
              "#d8576b"
             ],
             [
              0.6666666666666666,
              "#ed7953"
             ],
             [
              0.7777777777777778,
              "#fb9f3a"
             ],
             [
              0.8888888888888888,
              "#fdca26"
             ],
             [
              1,
              "#f0f921"
             ]
            ],
            "type": "histogram2dcontour"
           }
          ],
          "mesh3d": [
           {
            "colorbar": {
             "outlinewidth": 0,
             "ticks": ""
            },
            "type": "mesh3d"
           }
          ],
          "parcoords": [
           {
            "line": {
             "colorbar": {
              "outlinewidth": 0,
              "ticks": ""
             }
            },
            "type": "parcoords"
           }
          ],
          "pie": [
           {
            "automargin": true,
            "type": "pie"
           }
          ],
          "scatter": [
           {
            "fillpattern": {
             "fillmode": "overlay",
             "size": 10,
             "solidity": 0.2
            },
            "type": "scatter"
           }
          ],
          "scatter3d": [
           {
            "line": {
             "colorbar": {
              "outlinewidth": 0,
              "ticks": ""
             }
            },
            "marker": {
             "colorbar": {
              "outlinewidth": 0,
              "ticks": ""
             }
            },
            "type": "scatter3d"
           }
          ],
          "scattercarpet": [
           {
            "marker": {
             "colorbar": {
              "outlinewidth": 0,
              "ticks": ""
             }
            },
            "type": "scattercarpet"
           }
          ],
          "scattergeo": [
           {
            "marker": {
             "colorbar": {
              "outlinewidth": 0,
              "ticks": ""
             }
            },
            "type": "scattergeo"
           }
          ],
          "scattergl": [
           {
            "marker": {
             "colorbar": {
              "outlinewidth": 0,
              "ticks": ""
             }
            },
            "type": "scattergl"
           }
          ],
          "scattermapbox": [
           {
            "marker": {
             "colorbar": {
              "outlinewidth": 0,
              "ticks": ""
             }
            },
            "type": "scattermapbox"
           }
          ],
          "scatterpolar": [
           {
            "marker": {
             "colorbar": {
              "outlinewidth": 0,
              "ticks": ""
             }
            },
            "type": "scatterpolar"
           }
          ],
          "scatterpolargl": [
           {
            "marker": {
             "colorbar": {
              "outlinewidth": 0,
              "ticks": ""
             }
            },
            "type": "scatterpolargl"
           }
          ],
          "scatterternary": [
           {
            "marker": {
             "colorbar": {
              "outlinewidth": 0,
              "ticks": ""
             }
            },
            "type": "scatterternary"
           }
          ],
          "surface": [
           {
            "colorbar": {
             "outlinewidth": 0,
             "ticks": ""
            },
            "colorscale": [
             [
              0,
              "#0d0887"
             ],
             [
              0.1111111111111111,
              "#46039f"
             ],
             [
              0.2222222222222222,
              "#7201a8"
             ],
             [
              0.3333333333333333,
              "#9c179e"
             ],
             [
              0.4444444444444444,
              "#bd3786"
             ],
             [
              0.5555555555555556,
              "#d8576b"
             ],
             [
              0.6666666666666666,
              "#ed7953"
             ],
             [
              0.7777777777777778,
              "#fb9f3a"
             ],
             [
              0.8888888888888888,
              "#fdca26"
             ],
             [
              1,
              "#f0f921"
             ]
            ],
            "type": "surface"
           }
          ],
          "table": [
           {
            "cells": {
             "fill": {
              "color": "#EBF0F8"
             },
             "line": {
              "color": "white"
             }
            },
            "header": {
             "fill": {
              "color": "#C8D4E3"
             },
             "line": {
              "color": "white"
             }
            },
            "type": "table"
           }
          ]
         },
         "layout": {
          "annotationdefaults": {
           "arrowcolor": "#2a3f5f",
           "arrowhead": 0,
           "arrowwidth": 1
          },
          "autotypenumbers": "strict",
          "coloraxis": {
           "colorbar": {
            "outlinewidth": 0,
            "ticks": ""
           }
          },
          "colorscale": {
           "diverging": [
            [
             0,
             "#8e0152"
            ],
            [
             0.1,
             "#c51b7d"
            ],
            [
             0.2,
             "#de77ae"
            ],
            [
             0.3,
             "#f1b6da"
            ],
            [
             0.4,
             "#fde0ef"
            ],
            [
             0.5,
             "#f7f7f7"
            ],
            [
             0.6,
             "#e6f5d0"
            ],
            [
             0.7,
             "#b8e186"
            ],
            [
             0.8,
             "#7fbc41"
            ],
            [
             0.9,
             "#4d9221"
            ],
            [
             1,
             "#276419"
            ]
           ],
           "sequential": [
            [
             0,
             "#0d0887"
            ],
            [
             0.1111111111111111,
             "#46039f"
            ],
            [
             0.2222222222222222,
             "#7201a8"
            ],
            [
             0.3333333333333333,
             "#9c179e"
            ],
            [
             0.4444444444444444,
             "#bd3786"
            ],
            [
             0.5555555555555556,
             "#d8576b"
            ],
            [
             0.6666666666666666,
             "#ed7953"
            ],
            [
             0.7777777777777778,
             "#fb9f3a"
            ],
            [
             0.8888888888888888,
             "#fdca26"
            ],
            [
             1,
             "#f0f921"
            ]
           ],
           "sequentialminus": [
            [
             0,
             "#0d0887"
            ],
            [
             0.1111111111111111,
             "#46039f"
            ],
            [
             0.2222222222222222,
             "#7201a8"
            ],
            [
             0.3333333333333333,
             "#9c179e"
            ],
            [
             0.4444444444444444,
             "#bd3786"
            ],
            [
             0.5555555555555556,
             "#d8576b"
            ],
            [
             0.6666666666666666,
             "#ed7953"
            ],
            [
             0.7777777777777778,
             "#fb9f3a"
            ],
            [
             0.8888888888888888,
             "#fdca26"
            ],
            [
             1,
             "#f0f921"
            ]
           ]
          },
          "colorway": [
           "#636efa",
           "#EF553B",
           "#00cc96",
           "#ab63fa",
           "#FFA15A",
           "#19d3f3",
           "#FF6692",
           "#B6E880",
           "#FF97FF",
           "#FECB52"
          ],
          "font": {
           "color": "#2a3f5f"
          },
          "geo": {
           "bgcolor": "white",
           "lakecolor": "white",
           "landcolor": "#E5ECF6",
           "showlakes": true,
           "showland": true,
           "subunitcolor": "white"
          },
          "hoverlabel": {
           "align": "left"
          },
          "hovermode": "closest",
          "mapbox": {
           "style": "light"
          },
          "paper_bgcolor": "white",
          "plot_bgcolor": "#E5ECF6",
          "polar": {
           "angularaxis": {
            "gridcolor": "white",
            "linecolor": "white",
            "ticks": ""
           },
           "bgcolor": "#E5ECF6",
           "radialaxis": {
            "gridcolor": "white",
            "linecolor": "white",
            "ticks": ""
           }
          },
          "scene": {
           "xaxis": {
            "backgroundcolor": "#E5ECF6",
            "gridcolor": "white",
            "gridwidth": 2,
            "linecolor": "white",
            "showbackground": true,
            "ticks": "",
            "zerolinecolor": "white"
           },
           "yaxis": {
            "backgroundcolor": "#E5ECF6",
            "gridcolor": "white",
            "gridwidth": 2,
            "linecolor": "white",
            "showbackground": true,
            "ticks": "",
            "zerolinecolor": "white"
           },
           "zaxis": {
            "backgroundcolor": "#E5ECF6",
            "gridcolor": "white",
            "gridwidth": 2,
            "linecolor": "white",
            "showbackground": true,
            "ticks": "",
            "zerolinecolor": "white"
           }
          },
          "shapedefaults": {
           "line": {
            "color": "#2a3f5f"
           }
          },
          "ternary": {
           "aaxis": {
            "gridcolor": "white",
            "linecolor": "white",
            "ticks": ""
           },
           "baxis": {
            "gridcolor": "white",
            "linecolor": "white",
            "ticks": ""
           },
           "bgcolor": "#E5ECF6",
           "caxis": {
            "gridcolor": "white",
            "linecolor": "white",
            "ticks": ""
           }
          },
          "title": {
           "x": 0.05
          },
          "xaxis": {
           "automargin": true,
           "gridcolor": "white",
           "linecolor": "white",
           "ticks": "",
           "title": {
            "standoff": 15
           },
           "zerolinecolor": "white",
           "zerolinewidth": 2
          },
          "yaxis": {
           "automargin": true,
           "gridcolor": "white",
           "linecolor": "white",
           "ticks": "",
           "title": {
            "standoff": 15
           },
           "zerolinecolor": "white",
           "zerolinewidth": 2
          }
         }
        },
        "title": {
         "text": "Distribuição de Buy-in - Overall - Torneios de 2023 e 2024"
        },
        "xaxis": {
         "title": {
          "text": "Intervalo de Buy-in (USD)"
         }
        },
        "yaxis": {
         "title": {
          "text": "Quantidade"
         }
        }
       }
      }
     },
     "metadata": {},
     "output_type": "display_data"
    }
   ],
   "source": [
    "import plotly.graph_objects as go\n",
    "# Calculando a quantidade de torneios em cada intervalo de buy-in\n",
    "quantidade_por_intervalo = df77['Buy-in Group'].value_counts().sort_index()\n",
    "# Definindo uma paleta de cores com tons semelhantes\n",
    "cores = ['#4E79A7', '#A0CBE8', '#FFBE7D', '#59A14F', '#8CD17D', '#B6992D', '#F1CE63', '#499894', '#86BCB6']\n",
    "\n",
    "# Criando as barras para cada intervalo de buy-in\n",
    "barras = go.Bar(\n",
    "    x=quantidade_por_intervalo.index,\n",
    "    y=quantidade_por_intervalo.values,\n",
    "    text=quantidade_por_intervalo.values, # Adicionando os valores como texto nas barras\n",
    "    marker_color=cores  # Aplicando a paleta de cores\n",
    ")\n",
    "\n",
    "# Criando a figura\n",
    "fig = go.Figure()\n",
    "\n",
    "# Adicionando as barras à figura\n",
    "fig.add_trace(barras)\n",
    "\n",
    "# Atualizando o layout do gráfico\n",
    "fig.update_layout(\n",
    "    xaxis_title='Intervalo de Buy-in (USD)',\n",
    "    yaxis_title='Quantidade',\n",
    "    title='Distribuição de Buy-in - Overall - Torneios de 2023 e 2024'\n",
    ")\n",
    "\n",
    "# Exibindo o gráfico\n",
    "fig.show()\n"
   ]
  },
  {
   "cell_type": "code",
   "execution_count": 290,
   "metadata": {},
   "outputs": [
    {
     "name": "stderr",
     "output_type": "stream",
     "text": [
      "C:\\Users\\psyte\\AppData\\Local\\Temp\\ipykernel_72828\\2152776852.py:4: FutureWarning:\n",
      "\n",
      "The default of observed=False is deprecated and will be changed to True in a future version of pandas. Pass observed=False to retain current behavior or observed=True to adopt the future default and silence this warning.\n",
      "\n"
     ]
    },
    {
     "data": {
      "application/vnd.plotly.v1+json": {
       "config": {
        "plotlyServerURL": "https://plot.ly"
       },
       "data": [
        {
         "marker": {
          "color": "blue"
         },
         "name": "Site: 888Poker",
         "text": [
          224,
          117,
          487,
          412,
          275,
          304
         ],
         "type": "bar",
         "x": [
          "muito baixo",
          "baixo",
          "médio-baixo",
          "médio-alto",
          "alto",
          "muito alto"
         ],
         "y": [
          224,
          117,
          487,
          412,
          275,
          304
         ]
        },
        {
         "marker": {
          "color": "red"
         },
         "name": "Site: Chico",
         "text": [
          32,
          0,
          88,
          151,
          90,
          154
         ],
         "type": "bar",
         "x": [
          "muito baixo",
          "baixo",
          "médio-baixo",
          "médio-alto",
          "alto",
          "muito alto"
         ],
         "y": [
          32,
          0,
          88,
          151,
          90,
          154
         ]
        },
        {
         "marker": {
          "color": "green"
         },
         "name": "Site: GGNetwork",
         "text": [
          1907,
          1633,
          1917,
          2047,
          1723,
          1367
         ],
         "type": "bar",
         "x": [
          "muito baixo",
          "baixo",
          "médio-baixo",
          "médio-alto",
          "alto",
          "muito alto"
         ],
         "y": [
          1907,
          1633,
          1917,
          2047,
          1723,
          1367
         ]
        },
        {
         "marker": {
          "color": "purple"
         },
         "name": "Site: PartyPoker",
         "text": [
          550,
          2,
          761,
          960,
          555,
          714
         ],
         "type": "bar",
         "x": [
          "muito baixo",
          "baixo",
          "médio-baixo",
          "médio-alto",
          "alto",
          "muito alto"
         ],
         "y": [
          550,
          2,
          761,
          960,
          555,
          714
         ]
        },
        {
         "marker": {
          "color": "black"
         },
         "name": "Site: PokerStars",
         "text": [
          2111,
          490,
          2796,
          1691,
          1357,
          2749
         ],
         "type": "bar",
         "x": [
          "muito baixo",
          "baixo",
          "médio-baixo",
          "médio-alto",
          "alto",
          "muito alto"
         ],
         "y": [
          2111,
          490,
          2796,
          1691,
          1357,
          2749
         ]
        },
        {
         "marker": {
          "color": "yellow"
         },
         "name": "Site: PokerStars(FR-ES-PT)",
         "text": [
          12,
          20,
          49,
          26,
          57,
          30
         ],
         "type": "bar",
         "x": [
          "muito baixo",
          "baixo",
          "médio-baixo",
          "médio-alto",
          "alto",
          "muito alto"
         ],
         "y": [
          12,
          20,
          49,
          26,
          57,
          30
         ]
        },
        {
         "marker": {
          "color": "brown"
         },
         "name": "Site: WPN",
         "text": [
          39,
          63,
          232,
          210,
          213,
          944
         ],
         "type": "bar",
         "x": [
          "muito baixo",
          "baixo",
          "médio-baixo",
          "médio-alto",
          "alto",
          "muito alto"
         ],
         "y": [
          39,
          63,
          232,
          210,
          213,
          944
         ]
        },
        {
         "marker": {
          "color": "orange"
         },
         "name": "Site: iPoker",
         "text": [
          168,
          440,
          342,
          533,
          375,
          244
         ],
         "type": "bar",
         "x": [
          "muito baixo",
          "baixo",
          "médio-baixo",
          "médio-alto",
          "alto",
          "muito alto"
         ],
         "y": [
          168,
          440,
          342,
          533,
          375,
          244
         ]
        }
       ],
       "layout": {
        "barmode": "group",
        "height": 800,
        "template": {
         "data": {
          "bar": [
           {
            "error_x": {
             "color": "#2a3f5f"
            },
            "error_y": {
             "color": "#2a3f5f"
            },
            "marker": {
             "line": {
              "color": "#E5ECF6",
              "width": 0.5
             },
             "pattern": {
              "fillmode": "overlay",
              "size": 10,
              "solidity": 0.2
             }
            },
            "type": "bar"
           }
          ],
          "barpolar": [
           {
            "marker": {
             "line": {
              "color": "#E5ECF6",
              "width": 0.5
             },
             "pattern": {
              "fillmode": "overlay",
              "size": 10,
              "solidity": 0.2
             }
            },
            "type": "barpolar"
           }
          ],
          "carpet": [
           {
            "aaxis": {
             "endlinecolor": "#2a3f5f",
             "gridcolor": "white",
             "linecolor": "white",
             "minorgridcolor": "white",
             "startlinecolor": "#2a3f5f"
            },
            "baxis": {
             "endlinecolor": "#2a3f5f",
             "gridcolor": "white",
             "linecolor": "white",
             "minorgridcolor": "white",
             "startlinecolor": "#2a3f5f"
            },
            "type": "carpet"
           }
          ],
          "choropleth": [
           {
            "colorbar": {
             "outlinewidth": 0,
             "ticks": ""
            },
            "type": "choropleth"
           }
          ],
          "contour": [
           {
            "colorbar": {
             "outlinewidth": 0,
             "ticks": ""
            },
            "colorscale": [
             [
              0,
              "#0d0887"
             ],
             [
              0.1111111111111111,
              "#46039f"
             ],
             [
              0.2222222222222222,
              "#7201a8"
             ],
             [
              0.3333333333333333,
              "#9c179e"
             ],
             [
              0.4444444444444444,
              "#bd3786"
             ],
             [
              0.5555555555555556,
              "#d8576b"
             ],
             [
              0.6666666666666666,
              "#ed7953"
             ],
             [
              0.7777777777777778,
              "#fb9f3a"
             ],
             [
              0.8888888888888888,
              "#fdca26"
             ],
             [
              1,
              "#f0f921"
             ]
            ],
            "type": "contour"
           }
          ],
          "contourcarpet": [
           {
            "colorbar": {
             "outlinewidth": 0,
             "ticks": ""
            },
            "type": "contourcarpet"
           }
          ],
          "heatmap": [
           {
            "colorbar": {
             "outlinewidth": 0,
             "ticks": ""
            },
            "colorscale": [
             [
              0,
              "#0d0887"
             ],
             [
              0.1111111111111111,
              "#46039f"
             ],
             [
              0.2222222222222222,
              "#7201a8"
             ],
             [
              0.3333333333333333,
              "#9c179e"
             ],
             [
              0.4444444444444444,
              "#bd3786"
             ],
             [
              0.5555555555555556,
              "#d8576b"
             ],
             [
              0.6666666666666666,
              "#ed7953"
             ],
             [
              0.7777777777777778,
              "#fb9f3a"
             ],
             [
              0.8888888888888888,
              "#fdca26"
             ],
             [
              1,
              "#f0f921"
             ]
            ],
            "type": "heatmap"
           }
          ],
          "heatmapgl": [
           {
            "colorbar": {
             "outlinewidth": 0,
             "ticks": ""
            },
            "colorscale": [
             [
              0,
              "#0d0887"
             ],
             [
              0.1111111111111111,
              "#46039f"
             ],
             [
              0.2222222222222222,
              "#7201a8"
             ],
             [
              0.3333333333333333,
              "#9c179e"
             ],
             [
              0.4444444444444444,
              "#bd3786"
             ],
             [
              0.5555555555555556,
              "#d8576b"
             ],
             [
              0.6666666666666666,
              "#ed7953"
             ],
             [
              0.7777777777777778,
              "#fb9f3a"
             ],
             [
              0.8888888888888888,
              "#fdca26"
             ],
             [
              1,
              "#f0f921"
             ]
            ],
            "type": "heatmapgl"
           }
          ],
          "histogram": [
           {
            "marker": {
             "pattern": {
              "fillmode": "overlay",
              "size": 10,
              "solidity": 0.2
             }
            },
            "type": "histogram"
           }
          ],
          "histogram2d": [
           {
            "colorbar": {
             "outlinewidth": 0,
             "ticks": ""
            },
            "colorscale": [
             [
              0,
              "#0d0887"
             ],
             [
              0.1111111111111111,
              "#46039f"
             ],
             [
              0.2222222222222222,
              "#7201a8"
             ],
             [
              0.3333333333333333,
              "#9c179e"
             ],
             [
              0.4444444444444444,
              "#bd3786"
             ],
             [
              0.5555555555555556,
              "#d8576b"
             ],
             [
              0.6666666666666666,
              "#ed7953"
             ],
             [
              0.7777777777777778,
              "#fb9f3a"
             ],
             [
              0.8888888888888888,
              "#fdca26"
             ],
             [
              1,
              "#f0f921"
             ]
            ],
            "type": "histogram2d"
           }
          ],
          "histogram2dcontour": [
           {
            "colorbar": {
             "outlinewidth": 0,
             "ticks": ""
            },
            "colorscale": [
             [
              0,
              "#0d0887"
             ],
             [
              0.1111111111111111,
              "#46039f"
             ],
             [
              0.2222222222222222,
              "#7201a8"
             ],
             [
              0.3333333333333333,
              "#9c179e"
             ],
             [
              0.4444444444444444,
              "#bd3786"
             ],
             [
              0.5555555555555556,
              "#d8576b"
             ],
             [
              0.6666666666666666,
              "#ed7953"
             ],
             [
              0.7777777777777778,
              "#fb9f3a"
             ],
             [
              0.8888888888888888,
              "#fdca26"
             ],
             [
              1,
              "#f0f921"
             ]
            ],
            "type": "histogram2dcontour"
           }
          ],
          "mesh3d": [
           {
            "colorbar": {
             "outlinewidth": 0,
             "ticks": ""
            },
            "type": "mesh3d"
           }
          ],
          "parcoords": [
           {
            "line": {
             "colorbar": {
              "outlinewidth": 0,
              "ticks": ""
             }
            },
            "type": "parcoords"
           }
          ],
          "pie": [
           {
            "automargin": true,
            "type": "pie"
           }
          ],
          "scatter": [
           {
            "fillpattern": {
             "fillmode": "overlay",
             "size": 10,
             "solidity": 0.2
            },
            "type": "scatter"
           }
          ],
          "scatter3d": [
           {
            "line": {
             "colorbar": {
              "outlinewidth": 0,
              "ticks": ""
             }
            },
            "marker": {
             "colorbar": {
              "outlinewidth": 0,
              "ticks": ""
             }
            },
            "type": "scatter3d"
           }
          ],
          "scattercarpet": [
           {
            "marker": {
             "colorbar": {
              "outlinewidth": 0,
              "ticks": ""
             }
            },
            "type": "scattercarpet"
           }
          ],
          "scattergeo": [
           {
            "marker": {
             "colorbar": {
              "outlinewidth": 0,
              "ticks": ""
             }
            },
            "type": "scattergeo"
           }
          ],
          "scattergl": [
           {
            "marker": {
             "colorbar": {
              "outlinewidth": 0,
              "ticks": ""
             }
            },
            "type": "scattergl"
           }
          ],
          "scattermapbox": [
           {
            "marker": {
             "colorbar": {
              "outlinewidth": 0,
              "ticks": ""
             }
            },
            "type": "scattermapbox"
           }
          ],
          "scatterpolar": [
           {
            "marker": {
             "colorbar": {
              "outlinewidth": 0,
              "ticks": ""
             }
            },
            "type": "scatterpolar"
           }
          ],
          "scatterpolargl": [
           {
            "marker": {
             "colorbar": {
              "outlinewidth": 0,
              "ticks": ""
             }
            },
            "type": "scatterpolargl"
           }
          ],
          "scatterternary": [
           {
            "marker": {
             "colorbar": {
              "outlinewidth": 0,
              "ticks": ""
             }
            },
            "type": "scatterternary"
           }
          ],
          "surface": [
           {
            "colorbar": {
             "outlinewidth": 0,
             "ticks": ""
            },
            "colorscale": [
             [
              0,
              "#0d0887"
             ],
             [
              0.1111111111111111,
              "#46039f"
             ],
             [
              0.2222222222222222,
              "#7201a8"
             ],
             [
              0.3333333333333333,
              "#9c179e"
             ],
             [
              0.4444444444444444,
              "#bd3786"
             ],
             [
              0.5555555555555556,
              "#d8576b"
             ],
             [
              0.6666666666666666,
              "#ed7953"
             ],
             [
              0.7777777777777778,
              "#fb9f3a"
             ],
             [
              0.8888888888888888,
              "#fdca26"
             ],
             [
              1,
              "#f0f921"
             ]
            ],
            "type": "surface"
           }
          ],
          "table": [
           {
            "cells": {
             "fill": {
              "color": "#EBF0F8"
             },
             "line": {
              "color": "white"
             }
            },
            "header": {
             "fill": {
              "color": "#C8D4E3"
             },
             "line": {
              "color": "white"
             }
            },
            "type": "table"
           }
          ]
         },
         "layout": {
          "annotationdefaults": {
           "arrowcolor": "#2a3f5f",
           "arrowhead": 0,
           "arrowwidth": 1
          },
          "autotypenumbers": "strict",
          "coloraxis": {
           "colorbar": {
            "outlinewidth": 0,
            "ticks": ""
           }
          },
          "colorscale": {
           "diverging": [
            [
             0,
             "#8e0152"
            ],
            [
             0.1,
             "#c51b7d"
            ],
            [
             0.2,
             "#de77ae"
            ],
            [
             0.3,
             "#f1b6da"
            ],
            [
             0.4,
             "#fde0ef"
            ],
            [
             0.5,
             "#f7f7f7"
            ],
            [
             0.6,
             "#e6f5d0"
            ],
            [
             0.7,
             "#b8e186"
            ],
            [
             0.8,
             "#7fbc41"
            ],
            [
             0.9,
             "#4d9221"
            ],
            [
             1,
             "#276419"
            ]
           ],
           "sequential": [
            [
             0,
             "#0d0887"
            ],
            [
             0.1111111111111111,
             "#46039f"
            ],
            [
             0.2222222222222222,
             "#7201a8"
            ],
            [
             0.3333333333333333,
             "#9c179e"
            ],
            [
             0.4444444444444444,
             "#bd3786"
            ],
            [
             0.5555555555555556,
             "#d8576b"
            ],
            [
             0.6666666666666666,
             "#ed7953"
            ],
            [
             0.7777777777777778,
             "#fb9f3a"
            ],
            [
             0.8888888888888888,
             "#fdca26"
            ],
            [
             1,
             "#f0f921"
            ]
           ],
           "sequentialminus": [
            [
             0,
             "#0d0887"
            ],
            [
             0.1111111111111111,
             "#46039f"
            ],
            [
             0.2222222222222222,
             "#7201a8"
            ],
            [
             0.3333333333333333,
             "#9c179e"
            ],
            [
             0.4444444444444444,
             "#bd3786"
            ],
            [
             0.5555555555555556,
             "#d8576b"
            ],
            [
             0.6666666666666666,
             "#ed7953"
            ],
            [
             0.7777777777777778,
             "#fb9f3a"
            ],
            [
             0.8888888888888888,
             "#fdca26"
            ],
            [
             1,
             "#f0f921"
            ]
           ]
          },
          "colorway": [
           "#636efa",
           "#EF553B",
           "#00cc96",
           "#ab63fa",
           "#FFA15A",
           "#19d3f3",
           "#FF6692",
           "#B6E880",
           "#FF97FF",
           "#FECB52"
          ],
          "font": {
           "color": "#2a3f5f"
          },
          "geo": {
           "bgcolor": "white",
           "lakecolor": "white",
           "landcolor": "#E5ECF6",
           "showlakes": true,
           "showland": true,
           "subunitcolor": "white"
          },
          "hoverlabel": {
           "align": "left"
          },
          "hovermode": "closest",
          "mapbox": {
           "style": "light"
          },
          "paper_bgcolor": "white",
          "plot_bgcolor": "#E5ECF6",
          "polar": {
           "angularaxis": {
            "gridcolor": "white",
            "linecolor": "white",
            "ticks": ""
           },
           "bgcolor": "#E5ECF6",
           "radialaxis": {
            "gridcolor": "white",
            "linecolor": "white",
            "ticks": ""
           }
          },
          "scene": {
           "xaxis": {
            "backgroundcolor": "#E5ECF6",
            "gridcolor": "white",
            "gridwidth": 2,
            "linecolor": "white",
            "showbackground": true,
            "ticks": "",
            "zerolinecolor": "white"
           },
           "yaxis": {
            "backgroundcolor": "#E5ECF6",
            "gridcolor": "white",
            "gridwidth": 2,
            "linecolor": "white",
            "showbackground": true,
            "ticks": "",
            "zerolinecolor": "white"
           },
           "zaxis": {
            "backgroundcolor": "#E5ECF6",
            "gridcolor": "white",
            "gridwidth": 2,
            "linecolor": "white",
            "showbackground": true,
            "ticks": "",
            "zerolinecolor": "white"
           }
          },
          "shapedefaults": {
           "line": {
            "color": "#2a3f5f"
           }
          },
          "ternary": {
           "aaxis": {
            "gridcolor": "white",
            "linecolor": "white",
            "ticks": ""
           },
           "baxis": {
            "gridcolor": "white",
            "linecolor": "white",
            "ticks": ""
           },
           "bgcolor": "#E5ECF6",
           "caxis": {
            "gridcolor": "white",
            "linecolor": "white",
            "ticks": ""
           }
          },
          "title": {
           "x": 0.05
          },
          "xaxis": {
           "automargin": true,
           "gridcolor": "white",
           "linecolor": "white",
           "ticks": "",
           "title": {
            "standoff": 15
           },
           "zerolinecolor": "white",
           "zerolinewidth": 2
          },
          "yaxis": {
           "automargin": true,
           "gridcolor": "white",
           "linecolor": "white",
           "ticks": "",
           "title": {
            "standoff": 15
           },
           "zerolinecolor": "white",
           "zerolinewidth": 2
          }
         }
        },
        "title": {
         "text": "Distribuição de Buy-in por Site - Torneios de 2024"
        },
        "width": 1300,
        "xaxis": {
         "title": {
          "text": "Intervalo de Buy-in (USD)"
         }
        },
        "yaxis": {
         "title": {
          "text": "Quantidade"
         }
        }
       }
      }
     },
     "metadata": {},
     "output_type": "display_data"
    }
   ],
   "source": [
    "import plotly.graph_objects as go\n",
    "\n",
    "# Calculando a quantidade total de torneios em cada intervalo e site\n",
    "total_torneios_por_site = df10.groupby(['Site', 'Buy-in Group']).size().reset_index(name='Total')\n",
    "\n",
    "# Criando as barras para cada site\n",
    "barras = []\n",
    "cores = ['blue', 'red', 'green', 'purple', 'black', 'yellow', 'brown', 'orange', 'pink']  # Cores para os sites\n",
    "for site, cor in zip(total_torneios_por_site['Site'].unique(), cores):\n",
    "    barras.append(go.Bar(\n",
    "        x=total_torneios_por_site[total_torneios_por_site['Site'] == site]['Buy-in Group'],\n",
    "        y=total_torneios_por_site[total_torneios_por_site['Site'] == site]['Total'],\n",
    "        text=total_torneios_por_site[total_torneios_por_site['Site'] == site]['Total'],  # Adicionando os valores como texto nas barras\n",
    "        name=f'Site: {site}',\n",
    "        marker_color=cor  # Aplicando a cor alternada\n",
    "    ))\n",
    "\n",
    "# Criando a figura\n",
    "fig = go.Figure()\n",
    "\n",
    "# Adicionando as barras à figura\n",
    "for barra in barras:\n",
    "    fig.add_trace(barra)\n",
    "\n",
    "\n",
    "# Atualizando o layout do gráfico\n",
    "fig.update_layout(\n",
    "    xaxis_title='Intervalo de Buy-in (USD)',\n",
    "    yaxis_title='Quantidade',\n",
    "    title='Distribuição de Buy-in por Site - Torneios de 2024',\n",
    "    barmode='group',  # Agrupando as barras\n",
    "    width=1300,  # Ajustando a largura do gráfico\n",
    "    height=800   # Ajustando a altura do gráfico\n",
    ")\n",
    "\n",
    "# Exibindo o gráfico\n",
    "fig.show()\n",
    "\n"
   ]
  },
  {
   "cell_type": "code",
   "execution_count": 291,
   "metadata": {},
   "outputs": [
    {
     "name": "stderr",
     "output_type": "stream",
     "text": [
      "C:\\Users\\psyte\\AppData\\Local\\Temp\\ipykernel_72828\\2677930679.py:4: FutureWarning:\n",
      "\n",
      "The default of observed=False is deprecated and will be changed to True in a future version of pandas. Pass observed=False to retain current behavior or observed=True to adopt the future default and silence this warning.\n",
      "\n"
     ]
    },
    {
     "data": {
      "application/vnd.plotly.v1+json": {
       "config": {
        "plotlyServerURL": "https://plot.ly"
       },
       "data": [
        {
         "marker": {
          "color": "blue"
         },
         "name": "Site: 888Poker",
         "text": [
          1830,
          1126,
          2240,
          52,
          1165,
          1423
         ],
         "type": "bar",
         "x": [
          "muito baixo",
          "baixo",
          "médio-baixo",
          "médio-alto",
          "alto",
          "muito alto"
         ],
         "y": [
          1830,
          1126,
          2240,
          52,
          1165,
          1423
         ]
        },
        {
         "marker": {
          "color": "red"
         },
         "name": "Site: Chico",
         "text": [
          205,
          446,
          716,
          0,
          257,
          829
         ],
         "type": "bar",
         "x": [
          "muito baixo",
          "baixo",
          "médio-baixo",
          "médio-alto",
          "alto",
          "muito alto"
         ],
         "y": [
          205,
          446,
          716,
          0,
          257,
          829
         ]
        },
        {
         "marker": {
          "color": "green"
         },
         "name": "Site: GGNetwork",
         "text": [
          4705,
          6887,
          3491,
          7645,
          7910,
          6047
         ],
         "type": "bar",
         "x": [
          "muito baixo",
          "baixo",
          "médio-baixo",
          "médio-alto",
          "alto",
          "muito alto"
         ],
         "y": [
          4705,
          6887,
          3491,
          7645,
          7910,
          6047
         ]
        },
        {
         "marker": {
          "color": "purple"
         },
         "name": "Site: PartyPoker",
         "text": [
          3204,
          2182,
          3762,
          2,
          2400,
          4242
         ],
         "type": "bar",
         "x": [
          "muito baixo",
          "baixo",
          "médio-baixo",
          "médio-alto",
          "alto",
          "muito alto"
         ],
         "y": [
          3204,
          2182,
          3762,
          2,
          2400,
          4242
         ]
        },
        {
         "marker": {
          "color": "black"
         },
         "name": "Site: PokerStars",
         "text": [
          7578,
          7939,
          6453,
          1259,
          5744,
          10322
         ],
         "type": "bar",
         "x": [
          "muito baixo",
          "baixo",
          "médio-baixo",
          "médio-alto",
          "alto",
          "muito alto"
         ],
         "y": [
          7578,
          7939,
          6453,
          1259,
          5744,
          10322
         ]
        },
        {
         "marker": {
          "color": "yellow"
         },
         "name": "Site: PokerStars(FR-ES-PT)",
         "text": [
          49,
          102,
          72,
          27,
          57,
          30
         ],
         "type": "bar",
         "x": [
          "muito baixo",
          "baixo",
          "médio-baixo",
          "médio-alto",
          "alto",
          "muito alto"
         ],
         "y": [
          49,
          102,
          72,
          27,
          57,
          30
         ]
        },
        {
         "marker": {
          "color": "brown"
         },
         "name": "Site: WPN",
         "text": [
          271,
          500,
          1685,
          485,
          1247,
          3637
         ],
         "type": "bar",
         "x": [
          "muito baixo",
          "baixo",
          "médio-baixo",
          "médio-alto",
          "alto",
          "muito alto"
         ],
         "y": [
          271,
          500,
          1685,
          485,
          1247,
          3637
         ]
        },
        {
         "marker": {
          "color": "orange"
         },
         "name": "Site: iPoker",
         "text": [
          725,
          1696,
          1281,
          1809,
          1673,
          1154
         ],
         "type": "bar",
         "x": [
          "muito baixo",
          "baixo",
          "médio-baixo",
          "médio-alto",
          "alto",
          "muito alto"
         ],
         "y": [
          725,
          1696,
          1281,
          1809,
          1673,
          1154
         ]
        }
       ],
       "layout": {
        "barmode": "group",
        "height": 800,
        "template": {
         "data": {
          "bar": [
           {
            "error_x": {
             "color": "#2a3f5f"
            },
            "error_y": {
             "color": "#2a3f5f"
            },
            "marker": {
             "line": {
              "color": "#E5ECF6",
              "width": 0.5
             },
             "pattern": {
              "fillmode": "overlay",
              "size": 10,
              "solidity": 0.2
             }
            },
            "type": "bar"
           }
          ],
          "barpolar": [
           {
            "marker": {
             "line": {
              "color": "#E5ECF6",
              "width": 0.5
             },
             "pattern": {
              "fillmode": "overlay",
              "size": 10,
              "solidity": 0.2
             }
            },
            "type": "barpolar"
           }
          ],
          "carpet": [
           {
            "aaxis": {
             "endlinecolor": "#2a3f5f",
             "gridcolor": "white",
             "linecolor": "white",
             "minorgridcolor": "white",
             "startlinecolor": "#2a3f5f"
            },
            "baxis": {
             "endlinecolor": "#2a3f5f",
             "gridcolor": "white",
             "linecolor": "white",
             "minorgridcolor": "white",
             "startlinecolor": "#2a3f5f"
            },
            "type": "carpet"
           }
          ],
          "choropleth": [
           {
            "colorbar": {
             "outlinewidth": 0,
             "ticks": ""
            },
            "type": "choropleth"
           }
          ],
          "contour": [
           {
            "colorbar": {
             "outlinewidth": 0,
             "ticks": ""
            },
            "colorscale": [
             [
              0,
              "#0d0887"
             ],
             [
              0.1111111111111111,
              "#46039f"
             ],
             [
              0.2222222222222222,
              "#7201a8"
             ],
             [
              0.3333333333333333,
              "#9c179e"
             ],
             [
              0.4444444444444444,
              "#bd3786"
             ],
             [
              0.5555555555555556,
              "#d8576b"
             ],
             [
              0.6666666666666666,
              "#ed7953"
             ],
             [
              0.7777777777777778,
              "#fb9f3a"
             ],
             [
              0.8888888888888888,
              "#fdca26"
             ],
             [
              1,
              "#f0f921"
             ]
            ],
            "type": "contour"
           }
          ],
          "contourcarpet": [
           {
            "colorbar": {
             "outlinewidth": 0,
             "ticks": ""
            },
            "type": "contourcarpet"
           }
          ],
          "heatmap": [
           {
            "colorbar": {
             "outlinewidth": 0,
             "ticks": ""
            },
            "colorscale": [
             [
              0,
              "#0d0887"
             ],
             [
              0.1111111111111111,
              "#46039f"
             ],
             [
              0.2222222222222222,
              "#7201a8"
             ],
             [
              0.3333333333333333,
              "#9c179e"
             ],
             [
              0.4444444444444444,
              "#bd3786"
             ],
             [
              0.5555555555555556,
              "#d8576b"
             ],
             [
              0.6666666666666666,
              "#ed7953"
             ],
             [
              0.7777777777777778,
              "#fb9f3a"
             ],
             [
              0.8888888888888888,
              "#fdca26"
             ],
             [
              1,
              "#f0f921"
             ]
            ],
            "type": "heatmap"
           }
          ],
          "heatmapgl": [
           {
            "colorbar": {
             "outlinewidth": 0,
             "ticks": ""
            },
            "colorscale": [
             [
              0,
              "#0d0887"
             ],
             [
              0.1111111111111111,
              "#46039f"
             ],
             [
              0.2222222222222222,
              "#7201a8"
             ],
             [
              0.3333333333333333,
              "#9c179e"
             ],
             [
              0.4444444444444444,
              "#bd3786"
             ],
             [
              0.5555555555555556,
              "#d8576b"
             ],
             [
              0.6666666666666666,
              "#ed7953"
             ],
             [
              0.7777777777777778,
              "#fb9f3a"
             ],
             [
              0.8888888888888888,
              "#fdca26"
             ],
             [
              1,
              "#f0f921"
             ]
            ],
            "type": "heatmapgl"
           }
          ],
          "histogram": [
           {
            "marker": {
             "pattern": {
              "fillmode": "overlay",
              "size": 10,
              "solidity": 0.2
             }
            },
            "type": "histogram"
           }
          ],
          "histogram2d": [
           {
            "colorbar": {
             "outlinewidth": 0,
             "ticks": ""
            },
            "colorscale": [
             [
              0,
              "#0d0887"
             ],
             [
              0.1111111111111111,
              "#46039f"
             ],
             [
              0.2222222222222222,
              "#7201a8"
             ],
             [
              0.3333333333333333,
              "#9c179e"
             ],
             [
              0.4444444444444444,
              "#bd3786"
             ],
             [
              0.5555555555555556,
              "#d8576b"
             ],
             [
              0.6666666666666666,
              "#ed7953"
             ],
             [
              0.7777777777777778,
              "#fb9f3a"
             ],
             [
              0.8888888888888888,
              "#fdca26"
             ],
             [
              1,
              "#f0f921"
             ]
            ],
            "type": "histogram2d"
           }
          ],
          "histogram2dcontour": [
           {
            "colorbar": {
             "outlinewidth": 0,
             "ticks": ""
            },
            "colorscale": [
             [
              0,
              "#0d0887"
             ],
             [
              0.1111111111111111,
              "#46039f"
             ],
             [
              0.2222222222222222,
              "#7201a8"
             ],
             [
              0.3333333333333333,
              "#9c179e"
             ],
             [
              0.4444444444444444,
              "#bd3786"
             ],
             [
              0.5555555555555556,
              "#d8576b"
             ],
             [
              0.6666666666666666,
              "#ed7953"
             ],
             [
              0.7777777777777778,
              "#fb9f3a"
             ],
             [
              0.8888888888888888,
              "#fdca26"
             ],
             [
              1,
              "#f0f921"
             ]
            ],
            "type": "histogram2dcontour"
           }
          ],
          "mesh3d": [
           {
            "colorbar": {
             "outlinewidth": 0,
             "ticks": ""
            },
            "type": "mesh3d"
           }
          ],
          "parcoords": [
           {
            "line": {
             "colorbar": {
              "outlinewidth": 0,
              "ticks": ""
             }
            },
            "type": "parcoords"
           }
          ],
          "pie": [
           {
            "automargin": true,
            "type": "pie"
           }
          ],
          "scatter": [
           {
            "fillpattern": {
             "fillmode": "overlay",
             "size": 10,
             "solidity": 0.2
            },
            "type": "scatter"
           }
          ],
          "scatter3d": [
           {
            "line": {
             "colorbar": {
              "outlinewidth": 0,
              "ticks": ""
             }
            },
            "marker": {
             "colorbar": {
              "outlinewidth": 0,
              "ticks": ""
             }
            },
            "type": "scatter3d"
           }
          ],
          "scattercarpet": [
           {
            "marker": {
             "colorbar": {
              "outlinewidth": 0,
              "ticks": ""
             }
            },
            "type": "scattercarpet"
           }
          ],
          "scattergeo": [
           {
            "marker": {
             "colorbar": {
              "outlinewidth": 0,
              "ticks": ""
             }
            },
            "type": "scattergeo"
           }
          ],
          "scattergl": [
           {
            "marker": {
             "colorbar": {
              "outlinewidth": 0,
              "ticks": ""
             }
            },
            "type": "scattergl"
           }
          ],
          "scattermapbox": [
           {
            "marker": {
             "colorbar": {
              "outlinewidth": 0,
              "ticks": ""
             }
            },
            "type": "scattermapbox"
           }
          ],
          "scatterpolar": [
           {
            "marker": {
             "colorbar": {
              "outlinewidth": 0,
              "ticks": ""
             }
            },
            "type": "scatterpolar"
           }
          ],
          "scatterpolargl": [
           {
            "marker": {
             "colorbar": {
              "outlinewidth": 0,
              "ticks": ""
             }
            },
            "type": "scatterpolargl"
           }
          ],
          "scatterternary": [
           {
            "marker": {
             "colorbar": {
              "outlinewidth": 0,
              "ticks": ""
             }
            },
            "type": "scatterternary"
           }
          ],
          "surface": [
           {
            "colorbar": {
             "outlinewidth": 0,
             "ticks": ""
            },
            "colorscale": [
             [
              0,
              "#0d0887"
             ],
             [
              0.1111111111111111,
              "#46039f"
             ],
             [
              0.2222222222222222,
              "#7201a8"
             ],
             [
              0.3333333333333333,
              "#9c179e"
             ],
             [
              0.4444444444444444,
              "#bd3786"
             ],
             [
              0.5555555555555556,
              "#d8576b"
             ],
             [
              0.6666666666666666,
              "#ed7953"
             ],
             [
              0.7777777777777778,
              "#fb9f3a"
             ],
             [
              0.8888888888888888,
              "#fdca26"
             ],
             [
              1,
              "#f0f921"
             ]
            ],
            "type": "surface"
           }
          ],
          "table": [
           {
            "cells": {
             "fill": {
              "color": "#EBF0F8"
             },
             "line": {
              "color": "white"
             }
            },
            "header": {
             "fill": {
              "color": "#C8D4E3"
             },
             "line": {
              "color": "white"
             }
            },
            "type": "table"
           }
          ]
         },
         "layout": {
          "annotationdefaults": {
           "arrowcolor": "#2a3f5f",
           "arrowhead": 0,
           "arrowwidth": 1
          },
          "autotypenumbers": "strict",
          "coloraxis": {
           "colorbar": {
            "outlinewidth": 0,
            "ticks": ""
           }
          },
          "colorscale": {
           "diverging": [
            [
             0,
             "#8e0152"
            ],
            [
             0.1,
             "#c51b7d"
            ],
            [
             0.2,
             "#de77ae"
            ],
            [
             0.3,
             "#f1b6da"
            ],
            [
             0.4,
             "#fde0ef"
            ],
            [
             0.5,
             "#f7f7f7"
            ],
            [
             0.6,
             "#e6f5d0"
            ],
            [
             0.7,
             "#b8e186"
            ],
            [
             0.8,
             "#7fbc41"
            ],
            [
             0.9,
             "#4d9221"
            ],
            [
             1,
             "#276419"
            ]
           ],
           "sequential": [
            [
             0,
             "#0d0887"
            ],
            [
             0.1111111111111111,
             "#46039f"
            ],
            [
             0.2222222222222222,
             "#7201a8"
            ],
            [
             0.3333333333333333,
             "#9c179e"
            ],
            [
             0.4444444444444444,
             "#bd3786"
            ],
            [
             0.5555555555555556,
             "#d8576b"
            ],
            [
             0.6666666666666666,
             "#ed7953"
            ],
            [
             0.7777777777777778,
             "#fb9f3a"
            ],
            [
             0.8888888888888888,
             "#fdca26"
            ],
            [
             1,
             "#f0f921"
            ]
           ],
           "sequentialminus": [
            [
             0,
             "#0d0887"
            ],
            [
             0.1111111111111111,
             "#46039f"
            ],
            [
             0.2222222222222222,
             "#7201a8"
            ],
            [
             0.3333333333333333,
             "#9c179e"
            ],
            [
             0.4444444444444444,
             "#bd3786"
            ],
            [
             0.5555555555555556,
             "#d8576b"
            ],
            [
             0.6666666666666666,
             "#ed7953"
            ],
            [
             0.7777777777777778,
             "#fb9f3a"
            ],
            [
             0.8888888888888888,
             "#fdca26"
            ],
            [
             1,
             "#f0f921"
            ]
           ]
          },
          "colorway": [
           "#636efa",
           "#EF553B",
           "#00cc96",
           "#ab63fa",
           "#FFA15A",
           "#19d3f3",
           "#FF6692",
           "#B6E880",
           "#FF97FF",
           "#FECB52"
          ],
          "font": {
           "color": "#2a3f5f"
          },
          "geo": {
           "bgcolor": "white",
           "lakecolor": "white",
           "landcolor": "#E5ECF6",
           "showlakes": true,
           "showland": true,
           "subunitcolor": "white"
          },
          "hoverlabel": {
           "align": "left"
          },
          "hovermode": "closest",
          "mapbox": {
           "style": "light"
          },
          "paper_bgcolor": "white",
          "plot_bgcolor": "#E5ECF6",
          "polar": {
           "angularaxis": {
            "gridcolor": "white",
            "linecolor": "white",
            "ticks": ""
           },
           "bgcolor": "#E5ECF6",
           "radialaxis": {
            "gridcolor": "white",
            "linecolor": "white",
            "ticks": ""
           }
          },
          "scene": {
           "xaxis": {
            "backgroundcolor": "#E5ECF6",
            "gridcolor": "white",
            "gridwidth": 2,
            "linecolor": "white",
            "showbackground": true,
            "ticks": "",
            "zerolinecolor": "white"
           },
           "yaxis": {
            "backgroundcolor": "#E5ECF6",
            "gridcolor": "white",
            "gridwidth": 2,
            "linecolor": "white",
            "showbackground": true,
            "ticks": "",
            "zerolinecolor": "white"
           },
           "zaxis": {
            "backgroundcolor": "#E5ECF6",
            "gridcolor": "white",
            "gridwidth": 2,
            "linecolor": "white",
            "showbackground": true,
            "ticks": "",
            "zerolinecolor": "white"
           }
          },
          "shapedefaults": {
           "line": {
            "color": "#2a3f5f"
           }
          },
          "ternary": {
           "aaxis": {
            "gridcolor": "white",
            "linecolor": "white",
            "ticks": ""
           },
           "baxis": {
            "gridcolor": "white",
            "linecolor": "white",
            "ticks": ""
           },
           "bgcolor": "#E5ECF6",
           "caxis": {
            "gridcolor": "white",
            "linecolor": "white",
            "ticks": ""
           }
          },
          "title": {
           "x": 0.05
          },
          "xaxis": {
           "automargin": true,
           "gridcolor": "white",
           "linecolor": "white",
           "ticks": "",
           "title": {
            "standoff": 15
           },
           "zerolinecolor": "white",
           "zerolinewidth": 2
          },
          "yaxis": {
           "automargin": true,
           "gridcolor": "white",
           "linecolor": "white",
           "ticks": "",
           "title": {
            "standoff": 15
           },
           "zerolinecolor": "white",
           "zerolinewidth": 2
          }
         }
        },
        "title": {
         "text": "Distribuição de Buy-in por Site - Torneios de 2023 e 2024"
        },
        "width": 1300,
        "xaxis": {
         "title": {
          "text": "Intervalo de Buy-in (USD)"
         }
        },
        "yaxis": {
         "title": {
          "text": "Quantidade"
         }
        }
       }
      }
     },
     "metadata": {},
     "output_type": "display_data"
    }
   ],
   "source": [
    "import plotly.graph_objects as go\n",
    "\n",
    "# Calculando a quantidade total de torneios em cada intervalo e site\n",
    "total_torneios_por_site = df77.groupby(['Site', 'Buy-in Group']).size().reset_index(name='Total')\n",
    "\n",
    "# Criando as barras para cada site\n",
    "barras = []\n",
    "cores = ['blue', 'red', 'green', 'purple', 'black', 'yellow', 'brown', 'orange', 'pink']  # Cores para os sites\n",
    "for site, cor in zip(total_torneios_por_site['Site'].unique(), cores):\n",
    "    barras.append(go.Bar(\n",
    "        x=total_torneios_por_site[total_torneios_por_site['Site'] == site]['Buy-in Group'],\n",
    "        y=total_torneios_por_site[total_torneios_por_site['Site'] == site]['Total'],\n",
    "        text=total_torneios_por_site[total_torneios_por_site['Site'] == site]['Total'],  # Adicionando os valores como texto nas barras\n",
    "        name=f'Site: {site}',\n",
    "        marker_color=cor  # Aplicando a cor alternada\n",
    "    ))\n",
    "\n",
    "# Criando a figura\n",
    "fig = go.Figure()\n",
    "\n",
    "# Adicionando as barras à figura\n",
    "for barra in barras:\n",
    "    fig.add_trace(barra)\n",
    "\n",
    "\n",
    "# Atualizando o layout do gráfico\n",
    "fig.update_layout(\n",
    "    xaxis_title='Intervalo de Buy-in (USD)',\n",
    "    yaxis_title='Quantidade',\n",
    "    title='Distribuição de Buy-in por Site - Torneios de 2023 e 2024',\n",
    "    barmode='group',  # Agrupando as barras\n",
    "    width=1300,  # Ajustando a largura do gráfico\n",
    "    height=800   # Ajustando a altura do gráfico\n",
    ")\n",
    "\n",
    "# Exibindo o gráfico\n",
    "fig.show()\n"
   ]
  },
  {
   "cell_type": "code",
   "execution_count": 292,
   "metadata": {},
   "outputs": [
    {
     "data": {
      "text/plain": [
       "Index(['Site', 'Nickname', 'Entradas', 'Velocidade', 'Posição',\n",
       "       'Tipo de Torneio', 'Moeda', 'Rebuys', 'Duração', 'Players Per Table',\n",
       "       'Jogador', 'Nome do Torneio', 'Data', 'Hora', 'Intervalo Horario',\n",
       "       'Dia da Semana', 'Result USD', 'Prize USD', 'Buy-in USD', 'Rake USD',\n",
       "       'Stake USD', 'Profit USD', 'Intervalo de Buy-in', 'Intervalo de Field',\n",
       "       'Ano', 'Mês', 'Tipo de Duraçao', 'Field', 'Intervalo'],\n",
       "      dtype='object')"
      ]
     },
     "execution_count": 292,
     "metadata": {},
     "output_type": "execute_result"
    }
   ],
   "source": [
    "df.columns"
   ]
  },
  {
   "cell_type": "code",
   "execution_count": 295,
   "metadata": {},
   "outputs": [
    {
     "name": "stderr",
     "output_type": "stream",
     "text": [
      "C:\\Users\\psyte\\AppData\\Local\\Temp\\ipykernel_72828\\1372155588.py:4: FutureWarning:\n",
      "\n",
      "The default of observed=False is deprecated and will be changed to True in a future version of pandas. Pass observed=False to retain current behavior or observed=True to adopt the future default and silence this warning.\n",
      "\n"
     ]
    },
    {
     "data": {
      "application/vnd.plotly.v1+json": {
       "config": {
        "plotlyServerURL": "https://plot.ly"
       },
       "data": [
        {
         "marker": {
          "color": "blue"
         },
         "name": "Velocidade: Normal",
         "text": [
          11127,
          14005,
          14297,
          9457,
          16949,
          22934
         ],
         "type": "bar",
         "x": [
          "muito baixo",
          "baixo",
          "médio-baixo",
          "médio-alto",
          "alto",
          "muito alto"
         ],
         "y": [
          11127,
          14005,
          14297,
          9457,
          16949,
          22934
         ]
        },
        {
         "marker": {
          "color": "red"
         },
         "name": "Velocidade: Super Turbo",
         "text": [
          2413,
          2154,
          2200,
          243,
          1273,
          823
         ],
         "type": "bar",
         "x": [
          "muito baixo",
          "baixo",
          "médio-baixo",
          "médio-alto",
          "alto",
          "muito alto"
         ],
         "y": [
          2413,
          2154,
          2200,
          243,
          1273,
          823
         ]
        },
        {
         "marker": {
          "color": "green"
         },
         "name": "Velocidade: Turbo",
         "text": [
          5027,
          4719,
          3203,
          1579,
          2231,
          3927
         ],
         "type": "bar",
         "x": [
          "muito baixo",
          "baixo",
          "médio-baixo",
          "médio-alto",
          "alto",
          "muito alto"
         ],
         "y": [
          5027,
          4719,
          3203,
          1579,
          2231,
          3927
         ]
        }
       ],
       "layout": {
        "barmode": "group",
        "height": 700,
        "template": {
         "data": {
          "bar": [
           {
            "error_x": {
             "color": "#2a3f5f"
            },
            "error_y": {
             "color": "#2a3f5f"
            },
            "marker": {
             "line": {
              "color": "#E5ECF6",
              "width": 0.5
             },
             "pattern": {
              "fillmode": "overlay",
              "size": 10,
              "solidity": 0.2
             }
            },
            "type": "bar"
           }
          ],
          "barpolar": [
           {
            "marker": {
             "line": {
              "color": "#E5ECF6",
              "width": 0.5
             },
             "pattern": {
              "fillmode": "overlay",
              "size": 10,
              "solidity": 0.2
             }
            },
            "type": "barpolar"
           }
          ],
          "carpet": [
           {
            "aaxis": {
             "endlinecolor": "#2a3f5f",
             "gridcolor": "white",
             "linecolor": "white",
             "minorgridcolor": "white",
             "startlinecolor": "#2a3f5f"
            },
            "baxis": {
             "endlinecolor": "#2a3f5f",
             "gridcolor": "white",
             "linecolor": "white",
             "minorgridcolor": "white",
             "startlinecolor": "#2a3f5f"
            },
            "type": "carpet"
           }
          ],
          "choropleth": [
           {
            "colorbar": {
             "outlinewidth": 0,
             "ticks": ""
            },
            "type": "choropleth"
           }
          ],
          "contour": [
           {
            "colorbar": {
             "outlinewidth": 0,
             "ticks": ""
            },
            "colorscale": [
             [
              0,
              "#0d0887"
             ],
             [
              0.1111111111111111,
              "#46039f"
             ],
             [
              0.2222222222222222,
              "#7201a8"
             ],
             [
              0.3333333333333333,
              "#9c179e"
             ],
             [
              0.4444444444444444,
              "#bd3786"
             ],
             [
              0.5555555555555556,
              "#d8576b"
             ],
             [
              0.6666666666666666,
              "#ed7953"
             ],
             [
              0.7777777777777778,
              "#fb9f3a"
             ],
             [
              0.8888888888888888,
              "#fdca26"
             ],
             [
              1,
              "#f0f921"
             ]
            ],
            "type": "contour"
           }
          ],
          "contourcarpet": [
           {
            "colorbar": {
             "outlinewidth": 0,
             "ticks": ""
            },
            "type": "contourcarpet"
           }
          ],
          "heatmap": [
           {
            "colorbar": {
             "outlinewidth": 0,
             "ticks": ""
            },
            "colorscale": [
             [
              0,
              "#0d0887"
             ],
             [
              0.1111111111111111,
              "#46039f"
             ],
             [
              0.2222222222222222,
              "#7201a8"
             ],
             [
              0.3333333333333333,
              "#9c179e"
             ],
             [
              0.4444444444444444,
              "#bd3786"
             ],
             [
              0.5555555555555556,
              "#d8576b"
             ],
             [
              0.6666666666666666,
              "#ed7953"
             ],
             [
              0.7777777777777778,
              "#fb9f3a"
             ],
             [
              0.8888888888888888,
              "#fdca26"
             ],
             [
              1,
              "#f0f921"
             ]
            ],
            "type": "heatmap"
           }
          ],
          "heatmapgl": [
           {
            "colorbar": {
             "outlinewidth": 0,
             "ticks": ""
            },
            "colorscale": [
             [
              0,
              "#0d0887"
             ],
             [
              0.1111111111111111,
              "#46039f"
             ],
             [
              0.2222222222222222,
              "#7201a8"
             ],
             [
              0.3333333333333333,
              "#9c179e"
             ],
             [
              0.4444444444444444,
              "#bd3786"
             ],
             [
              0.5555555555555556,
              "#d8576b"
             ],
             [
              0.6666666666666666,
              "#ed7953"
             ],
             [
              0.7777777777777778,
              "#fb9f3a"
             ],
             [
              0.8888888888888888,
              "#fdca26"
             ],
             [
              1,
              "#f0f921"
             ]
            ],
            "type": "heatmapgl"
           }
          ],
          "histogram": [
           {
            "marker": {
             "pattern": {
              "fillmode": "overlay",
              "size": 10,
              "solidity": 0.2
             }
            },
            "type": "histogram"
           }
          ],
          "histogram2d": [
           {
            "colorbar": {
             "outlinewidth": 0,
             "ticks": ""
            },
            "colorscale": [
             [
              0,
              "#0d0887"
             ],
             [
              0.1111111111111111,
              "#46039f"
             ],
             [
              0.2222222222222222,
              "#7201a8"
             ],
             [
              0.3333333333333333,
              "#9c179e"
             ],
             [
              0.4444444444444444,
              "#bd3786"
             ],
             [
              0.5555555555555556,
              "#d8576b"
             ],
             [
              0.6666666666666666,
              "#ed7953"
             ],
             [
              0.7777777777777778,
              "#fb9f3a"
             ],
             [
              0.8888888888888888,
              "#fdca26"
             ],
             [
              1,
              "#f0f921"
             ]
            ],
            "type": "histogram2d"
           }
          ],
          "histogram2dcontour": [
           {
            "colorbar": {
             "outlinewidth": 0,
             "ticks": ""
            },
            "colorscale": [
             [
              0,
              "#0d0887"
             ],
             [
              0.1111111111111111,
              "#46039f"
             ],
             [
              0.2222222222222222,
              "#7201a8"
             ],
             [
              0.3333333333333333,
              "#9c179e"
             ],
             [
              0.4444444444444444,
              "#bd3786"
             ],
             [
              0.5555555555555556,
              "#d8576b"
             ],
             [
              0.6666666666666666,
              "#ed7953"
             ],
             [
              0.7777777777777778,
              "#fb9f3a"
             ],
             [
              0.8888888888888888,
              "#fdca26"
             ],
             [
              1,
              "#f0f921"
             ]
            ],
            "type": "histogram2dcontour"
           }
          ],
          "mesh3d": [
           {
            "colorbar": {
             "outlinewidth": 0,
             "ticks": ""
            },
            "type": "mesh3d"
           }
          ],
          "parcoords": [
           {
            "line": {
             "colorbar": {
              "outlinewidth": 0,
              "ticks": ""
             }
            },
            "type": "parcoords"
           }
          ],
          "pie": [
           {
            "automargin": true,
            "type": "pie"
           }
          ],
          "scatter": [
           {
            "fillpattern": {
             "fillmode": "overlay",
             "size": 10,
             "solidity": 0.2
            },
            "type": "scatter"
           }
          ],
          "scatter3d": [
           {
            "line": {
             "colorbar": {
              "outlinewidth": 0,
              "ticks": ""
             }
            },
            "marker": {
             "colorbar": {
              "outlinewidth": 0,
              "ticks": ""
             }
            },
            "type": "scatter3d"
           }
          ],
          "scattercarpet": [
           {
            "marker": {
             "colorbar": {
              "outlinewidth": 0,
              "ticks": ""
             }
            },
            "type": "scattercarpet"
           }
          ],
          "scattergeo": [
           {
            "marker": {
             "colorbar": {
              "outlinewidth": 0,
              "ticks": ""
             }
            },
            "type": "scattergeo"
           }
          ],
          "scattergl": [
           {
            "marker": {
             "colorbar": {
              "outlinewidth": 0,
              "ticks": ""
             }
            },
            "type": "scattergl"
           }
          ],
          "scattermapbox": [
           {
            "marker": {
             "colorbar": {
              "outlinewidth": 0,
              "ticks": ""
             }
            },
            "type": "scattermapbox"
           }
          ],
          "scatterpolar": [
           {
            "marker": {
             "colorbar": {
              "outlinewidth": 0,
              "ticks": ""
             }
            },
            "type": "scatterpolar"
           }
          ],
          "scatterpolargl": [
           {
            "marker": {
             "colorbar": {
              "outlinewidth": 0,
              "ticks": ""
             }
            },
            "type": "scatterpolargl"
           }
          ],
          "scatterternary": [
           {
            "marker": {
             "colorbar": {
              "outlinewidth": 0,
              "ticks": ""
             }
            },
            "type": "scatterternary"
           }
          ],
          "surface": [
           {
            "colorbar": {
             "outlinewidth": 0,
             "ticks": ""
            },
            "colorscale": [
             [
              0,
              "#0d0887"
             ],
             [
              0.1111111111111111,
              "#46039f"
             ],
             [
              0.2222222222222222,
              "#7201a8"
             ],
             [
              0.3333333333333333,
              "#9c179e"
             ],
             [
              0.4444444444444444,
              "#bd3786"
             ],
             [
              0.5555555555555556,
              "#d8576b"
             ],
             [
              0.6666666666666666,
              "#ed7953"
             ],
             [
              0.7777777777777778,
              "#fb9f3a"
             ],
             [
              0.8888888888888888,
              "#fdca26"
             ],
             [
              1,
              "#f0f921"
             ]
            ],
            "type": "surface"
           }
          ],
          "table": [
           {
            "cells": {
             "fill": {
              "color": "#EBF0F8"
             },
             "line": {
              "color": "white"
             }
            },
            "header": {
             "fill": {
              "color": "#C8D4E3"
             },
             "line": {
              "color": "white"
             }
            },
            "type": "table"
           }
          ]
         },
         "layout": {
          "annotationdefaults": {
           "arrowcolor": "#2a3f5f",
           "arrowhead": 0,
           "arrowwidth": 1
          },
          "autotypenumbers": "strict",
          "coloraxis": {
           "colorbar": {
            "outlinewidth": 0,
            "ticks": ""
           }
          },
          "colorscale": {
           "diverging": [
            [
             0,
             "#8e0152"
            ],
            [
             0.1,
             "#c51b7d"
            ],
            [
             0.2,
             "#de77ae"
            ],
            [
             0.3,
             "#f1b6da"
            ],
            [
             0.4,
             "#fde0ef"
            ],
            [
             0.5,
             "#f7f7f7"
            ],
            [
             0.6,
             "#e6f5d0"
            ],
            [
             0.7,
             "#b8e186"
            ],
            [
             0.8,
             "#7fbc41"
            ],
            [
             0.9,
             "#4d9221"
            ],
            [
             1,
             "#276419"
            ]
           ],
           "sequential": [
            [
             0,
             "#0d0887"
            ],
            [
             0.1111111111111111,
             "#46039f"
            ],
            [
             0.2222222222222222,
             "#7201a8"
            ],
            [
             0.3333333333333333,
             "#9c179e"
            ],
            [
             0.4444444444444444,
             "#bd3786"
            ],
            [
             0.5555555555555556,
             "#d8576b"
            ],
            [
             0.6666666666666666,
             "#ed7953"
            ],
            [
             0.7777777777777778,
             "#fb9f3a"
            ],
            [
             0.8888888888888888,
             "#fdca26"
            ],
            [
             1,
             "#f0f921"
            ]
           ],
           "sequentialminus": [
            [
             0,
             "#0d0887"
            ],
            [
             0.1111111111111111,
             "#46039f"
            ],
            [
             0.2222222222222222,
             "#7201a8"
            ],
            [
             0.3333333333333333,
             "#9c179e"
            ],
            [
             0.4444444444444444,
             "#bd3786"
            ],
            [
             0.5555555555555556,
             "#d8576b"
            ],
            [
             0.6666666666666666,
             "#ed7953"
            ],
            [
             0.7777777777777778,
             "#fb9f3a"
            ],
            [
             0.8888888888888888,
             "#fdca26"
            ],
            [
             1,
             "#f0f921"
            ]
           ]
          },
          "colorway": [
           "#636efa",
           "#EF553B",
           "#00cc96",
           "#ab63fa",
           "#FFA15A",
           "#19d3f3",
           "#FF6692",
           "#B6E880",
           "#FF97FF",
           "#FECB52"
          ],
          "font": {
           "color": "#2a3f5f"
          },
          "geo": {
           "bgcolor": "white",
           "lakecolor": "white",
           "landcolor": "#E5ECF6",
           "showlakes": true,
           "showland": true,
           "subunitcolor": "white"
          },
          "hoverlabel": {
           "align": "left"
          },
          "hovermode": "closest",
          "mapbox": {
           "style": "light"
          },
          "paper_bgcolor": "white",
          "plot_bgcolor": "#E5ECF6",
          "polar": {
           "angularaxis": {
            "gridcolor": "white",
            "linecolor": "white",
            "ticks": ""
           },
           "bgcolor": "#E5ECF6",
           "radialaxis": {
            "gridcolor": "white",
            "linecolor": "white",
            "ticks": ""
           }
          },
          "scene": {
           "xaxis": {
            "backgroundcolor": "#E5ECF6",
            "gridcolor": "white",
            "gridwidth": 2,
            "linecolor": "white",
            "showbackground": true,
            "ticks": "",
            "zerolinecolor": "white"
           },
           "yaxis": {
            "backgroundcolor": "#E5ECF6",
            "gridcolor": "white",
            "gridwidth": 2,
            "linecolor": "white",
            "showbackground": true,
            "ticks": "",
            "zerolinecolor": "white"
           },
           "zaxis": {
            "backgroundcolor": "#E5ECF6",
            "gridcolor": "white",
            "gridwidth": 2,
            "linecolor": "white",
            "showbackground": true,
            "ticks": "",
            "zerolinecolor": "white"
           }
          },
          "shapedefaults": {
           "line": {
            "color": "#2a3f5f"
           }
          },
          "ternary": {
           "aaxis": {
            "gridcolor": "white",
            "linecolor": "white",
            "ticks": ""
           },
           "baxis": {
            "gridcolor": "white",
            "linecolor": "white",
            "ticks": ""
           },
           "bgcolor": "#E5ECF6",
           "caxis": {
            "gridcolor": "white",
            "linecolor": "white",
            "ticks": ""
           }
          },
          "title": {
           "x": 0.05
          },
          "xaxis": {
           "automargin": true,
           "gridcolor": "white",
           "linecolor": "white",
           "ticks": "",
           "title": {
            "standoff": 15
           },
           "zerolinecolor": "white",
           "zerolinewidth": 2
          },
          "yaxis": {
           "automargin": true,
           "gridcolor": "white",
           "linecolor": "white",
           "ticks": "",
           "title": {
            "standoff": 15
           },
           "zerolinecolor": "white",
           "zerolinewidth": 2
          }
         }
        },
        "title": {
         "text": "Distribuição de Buy-in por Velocidade - Torneios de 2023 e 2024"
        },
        "width": 1200,
        "xaxis": {
         "title": {
          "text": "Intervalo de Buy-in (USD)"
         }
        },
        "yaxis": {
         "title": {
          "text": "Quantidade"
         }
        }
       }
      }
     },
     "metadata": {},
     "output_type": "display_data"
    }
   ],
   "source": [
    "import plotly.graph_objects as go\n",
    "\n",
    "# Calculando a quantidade total de torneios em cada intervalo e Velocidade\n",
    "total_torneios_por_Velocidade = df77.groupby(['Velocidade', 'Buy-in Group']).size().reset_index(name='Total')\n",
    "\n",
    "# Criando as barras para cada Velocidade\n",
    "barras = []\n",
    "cores = ['blue', 'red', 'green', 'purple', 'black', 'yellow', 'brown', 'orange', 'pink']  # Cores para os Velocidades\n",
    "for Velocidade, cor in zip(total_torneios_por_Velocidade['Velocidade'].unique(), cores):\n",
    "    barras.append(go.Bar(\n",
    "        x=total_torneios_por_Velocidade[total_torneios_por_Velocidade['Velocidade'] == Velocidade]['Buy-in Group'],\n",
    "        y=total_torneios_por_Velocidade[total_torneios_por_Velocidade['Velocidade'] == Velocidade]['Total'],\n",
    "        text=total_torneios_por_Velocidade[total_torneios_por_Velocidade['Velocidade'] == Velocidade]['Total'],  # Adicionando os valores como texto nas barras\n",
    "        name=f'Velocidade: {Velocidade}',\n",
    "        marker_color=cor  # Aplicando a cor alternada\n",
    "    ))\n",
    "\n",
    "# Criando a figura\n",
    "fig = go.Figure()\n",
    "\n",
    "# Adicionando as barras à figura\n",
    "for barra in barras:\n",
    "    fig.add_trace(barra)\n",
    "\n",
    "\n",
    "# Atualizando o layout do gráfico\n",
    "fig.update_layout(\n",
    "    xaxis_title='Intervalo de Buy-in (USD)',\n",
    "    yaxis_title='Quantidade',\n",
    "    title='Distribuição de Buy-in por Velocidade - Torneios de 2023 e 2024',\n",
    "    barmode='group',  # Agrupando as barras\n",
    "    width=1200,  # Ajustando a largura do gráfico\n",
    "    height=700   # Ajustando a altura do gráfico\n",
    ")\n",
    "\n",
    "# Exibindo o gráfico\n",
    "fig.show()"
   ]
  },
  {
   "cell_type": "code",
   "execution_count": 296,
   "metadata": {},
   "outputs": [
    {
     "name": "stderr",
     "output_type": "stream",
     "text": [
      "C:\\Users\\psyte\\AppData\\Local\\Temp\\ipykernel_72828\\1496682272.py:4: FutureWarning:\n",
      "\n",
      "The default of observed=False is deprecated and will be changed to True in a future version of pandas. Pass observed=False to retain current behavior or observed=True to adopt the future default and silence this warning.\n",
      "\n"
     ]
    },
    {
     "data": {
      "application/vnd.plotly.v1+json": {
       "config": {
        "plotlyServerURL": "https://plot.ly"
       },
       "data": [
        {
         "marker": {
          "color": "blue"
         },
         "name": "Velocidade: Normal",
         "text": [
          2852,
          1643,
          4974,
          4749,
          3871,
          5244
         ],
         "type": "bar",
         "x": [
          "muito baixo",
          "baixo",
          "médio-baixo",
          "médio-alto",
          "alto",
          "muito alto"
         ],
         "y": [
          2852,
          1643,
          4974,
          4749,
          3871,
          5244
         ]
        },
        {
         "marker": {
          "color": "red"
         },
         "name": "Velocidade: Super Turbo",
         "text": [
          767,
          397,
          556,
          199,
          254,
          178
         ],
         "type": "bar",
         "x": [
          "muito baixo",
          "baixo",
          "médio-baixo",
          "médio-alto",
          "alto",
          "muito alto"
         ],
         "y": [
          767,
          397,
          556,
          199,
          254,
          178
         ]
        },
        {
         "marker": {
          "color": "green"
         },
         "name": "Velocidade: Turbo",
         "text": [
          1424,
          725,
          1142,
          1082,
          520,
          1084
         ],
         "type": "bar",
         "x": [
          "muito baixo",
          "baixo",
          "médio-baixo",
          "médio-alto",
          "alto",
          "muito alto"
         ],
         "y": [
          1424,
          725,
          1142,
          1082,
          520,
          1084
         ]
        }
       ],
       "layout": {
        "barmode": "group",
        "height": 700,
        "template": {
         "data": {
          "bar": [
           {
            "error_x": {
             "color": "#2a3f5f"
            },
            "error_y": {
             "color": "#2a3f5f"
            },
            "marker": {
             "line": {
              "color": "#E5ECF6",
              "width": 0.5
             },
             "pattern": {
              "fillmode": "overlay",
              "size": 10,
              "solidity": 0.2
             }
            },
            "type": "bar"
           }
          ],
          "barpolar": [
           {
            "marker": {
             "line": {
              "color": "#E5ECF6",
              "width": 0.5
             },
             "pattern": {
              "fillmode": "overlay",
              "size": 10,
              "solidity": 0.2
             }
            },
            "type": "barpolar"
           }
          ],
          "carpet": [
           {
            "aaxis": {
             "endlinecolor": "#2a3f5f",
             "gridcolor": "white",
             "linecolor": "white",
             "minorgridcolor": "white",
             "startlinecolor": "#2a3f5f"
            },
            "baxis": {
             "endlinecolor": "#2a3f5f",
             "gridcolor": "white",
             "linecolor": "white",
             "minorgridcolor": "white",
             "startlinecolor": "#2a3f5f"
            },
            "type": "carpet"
           }
          ],
          "choropleth": [
           {
            "colorbar": {
             "outlinewidth": 0,
             "ticks": ""
            },
            "type": "choropleth"
           }
          ],
          "contour": [
           {
            "colorbar": {
             "outlinewidth": 0,
             "ticks": ""
            },
            "colorscale": [
             [
              0,
              "#0d0887"
             ],
             [
              0.1111111111111111,
              "#46039f"
             ],
             [
              0.2222222222222222,
              "#7201a8"
             ],
             [
              0.3333333333333333,
              "#9c179e"
             ],
             [
              0.4444444444444444,
              "#bd3786"
             ],
             [
              0.5555555555555556,
              "#d8576b"
             ],
             [
              0.6666666666666666,
              "#ed7953"
             ],
             [
              0.7777777777777778,
              "#fb9f3a"
             ],
             [
              0.8888888888888888,
              "#fdca26"
             ],
             [
              1,
              "#f0f921"
             ]
            ],
            "type": "contour"
           }
          ],
          "contourcarpet": [
           {
            "colorbar": {
             "outlinewidth": 0,
             "ticks": ""
            },
            "type": "contourcarpet"
           }
          ],
          "heatmap": [
           {
            "colorbar": {
             "outlinewidth": 0,
             "ticks": ""
            },
            "colorscale": [
             [
              0,
              "#0d0887"
             ],
             [
              0.1111111111111111,
              "#46039f"
             ],
             [
              0.2222222222222222,
              "#7201a8"
             ],
             [
              0.3333333333333333,
              "#9c179e"
             ],
             [
              0.4444444444444444,
              "#bd3786"
             ],
             [
              0.5555555555555556,
              "#d8576b"
             ],
             [
              0.6666666666666666,
              "#ed7953"
             ],
             [
              0.7777777777777778,
              "#fb9f3a"
             ],
             [
              0.8888888888888888,
              "#fdca26"
             ],
             [
              1,
              "#f0f921"
             ]
            ],
            "type": "heatmap"
           }
          ],
          "heatmapgl": [
           {
            "colorbar": {
             "outlinewidth": 0,
             "ticks": ""
            },
            "colorscale": [
             [
              0,
              "#0d0887"
             ],
             [
              0.1111111111111111,
              "#46039f"
             ],
             [
              0.2222222222222222,
              "#7201a8"
             ],
             [
              0.3333333333333333,
              "#9c179e"
             ],
             [
              0.4444444444444444,
              "#bd3786"
             ],
             [
              0.5555555555555556,
              "#d8576b"
             ],
             [
              0.6666666666666666,
              "#ed7953"
             ],
             [
              0.7777777777777778,
              "#fb9f3a"
             ],
             [
              0.8888888888888888,
              "#fdca26"
             ],
             [
              1,
              "#f0f921"
             ]
            ],
            "type": "heatmapgl"
           }
          ],
          "histogram": [
           {
            "marker": {
             "pattern": {
              "fillmode": "overlay",
              "size": 10,
              "solidity": 0.2
             }
            },
            "type": "histogram"
           }
          ],
          "histogram2d": [
           {
            "colorbar": {
             "outlinewidth": 0,
             "ticks": ""
            },
            "colorscale": [
             [
              0,
              "#0d0887"
             ],
             [
              0.1111111111111111,
              "#46039f"
             ],
             [
              0.2222222222222222,
              "#7201a8"
             ],
             [
              0.3333333333333333,
              "#9c179e"
             ],
             [
              0.4444444444444444,
              "#bd3786"
             ],
             [
              0.5555555555555556,
              "#d8576b"
             ],
             [
              0.6666666666666666,
              "#ed7953"
             ],
             [
              0.7777777777777778,
              "#fb9f3a"
             ],
             [
              0.8888888888888888,
              "#fdca26"
             ],
             [
              1,
              "#f0f921"
             ]
            ],
            "type": "histogram2d"
           }
          ],
          "histogram2dcontour": [
           {
            "colorbar": {
             "outlinewidth": 0,
             "ticks": ""
            },
            "colorscale": [
             [
              0,
              "#0d0887"
             ],
             [
              0.1111111111111111,
              "#46039f"
             ],
             [
              0.2222222222222222,
              "#7201a8"
             ],
             [
              0.3333333333333333,
              "#9c179e"
             ],
             [
              0.4444444444444444,
              "#bd3786"
             ],
             [
              0.5555555555555556,
              "#d8576b"
             ],
             [
              0.6666666666666666,
              "#ed7953"
             ],
             [
              0.7777777777777778,
              "#fb9f3a"
             ],
             [
              0.8888888888888888,
              "#fdca26"
             ],
             [
              1,
              "#f0f921"
             ]
            ],
            "type": "histogram2dcontour"
           }
          ],
          "mesh3d": [
           {
            "colorbar": {
             "outlinewidth": 0,
             "ticks": ""
            },
            "type": "mesh3d"
           }
          ],
          "parcoords": [
           {
            "line": {
             "colorbar": {
              "outlinewidth": 0,
              "ticks": ""
             }
            },
            "type": "parcoords"
           }
          ],
          "pie": [
           {
            "automargin": true,
            "type": "pie"
           }
          ],
          "scatter": [
           {
            "fillpattern": {
             "fillmode": "overlay",
             "size": 10,
             "solidity": 0.2
            },
            "type": "scatter"
           }
          ],
          "scatter3d": [
           {
            "line": {
             "colorbar": {
              "outlinewidth": 0,
              "ticks": ""
             }
            },
            "marker": {
             "colorbar": {
              "outlinewidth": 0,
              "ticks": ""
             }
            },
            "type": "scatter3d"
           }
          ],
          "scattercarpet": [
           {
            "marker": {
             "colorbar": {
              "outlinewidth": 0,
              "ticks": ""
             }
            },
            "type": "scattercarpet"
           }
          ],
          "scattergeo": [
           {
            "marker": {
             "colorbar": {
              "outlinewidth": 0,
              "ticks": ""
             }
            },
            "type": "scattergeo"
           }
          ],
          "scattergl": [
           {
            "marker": {
             "colorbar": {
              "outlinewidth": 0,
              "ticks": ""
             }
            },
            "type": "scattergl"
           }
          ],
          "scattermapbox": [
           {
            "marker": {
             "colorbar": {
              "outlinewidth": 0,
              "ticks": ""
             }
            },
            "type": "scattermapbox"
           }
          ],
          "scatterpolar": [
           {
            "marker": {
             "colorbar": {
              "outlinewidth": 0,
              "ticks": ""
             }
            },
            "type": "scatterpolar"
           }
          ],
          "scatterpolargl": [
           {
            "marker": {
             "colorbar": {
              "outlinewidth": 0,
              "ticks": ""
             }
            },
            "type": "scatterpolargl"
           }
          ],
          "scatterternary": [
           {
            "marker": {
             "colorbar": {
              "outlinewidth": 0,
              "ticks": ""
             }
            },
            "type": "scatterternary"
           }
          ],
          "surface": [
           {
            "colorbar": {
             "outlinewidth": 0,
             "ticks": ""
            },
            "colorscale": [
             [
              0,
              "#0d0887"
             ],
             [
              0.1111111111111111,
              "#46039f"
             ],
             [
              0.2222222222222222,
              "#7201a8"
             ],
             [
              0.3333333333333333,
              "#9c179e"
             ],
             [
              0.4444444444444444,
              "#bd3786"
             ],
             [
              0.5555555555555556,
              "#d8576b"
             ],
             [
              0.6666666666666666,
              "#ed7953"
             ],
             [
              0.7777777777777778,
              "#fb9f3a"
             ],
             [
              0.8888888888888888,
              "#fdca26"
             ],
             [
              1,
              "#f0f921"
             ]
            ],
            "type": "surface"
           }
          ],
          "table": [
           {
            "cells": {
             "fill": {
              "color": "#EBF0F8"
             },
             "line": {
              "color": "white"
             }
            },
            "header": {
             "fill": {
              "color": "#C8D4E3"
             },
             "line": {
              "color": "white"
             }
            },
            "type": "table"
           }
          ]
         },
         "layout": {
          "annotationdefaults": {
           "arrowcolor": "#2a3f5f",
           "arrowhead": 0,
           "arrowwidth": 1
          },
          "autotypenumbers": "strict",
          "coloraxis": {
           "colorbar": {
            "outlinewidth": 0,
            "ticks": ""
           }
          },
          "colorscale": {
           "diverging": [
            [
             0,
             "#8e0152"
            ],
            [
             0.1,
             "#c51b7d"
            ],
            [
             0.2,
             "#de77ae"
            ],
            [
             0.3,
             "#f1b6da"
            ],
            [
             0.4,
             "#fde0ef"
            ],
            [
             0.5,
             "#f7f7f7"
            ],
            [
             0.6,
             "#e6f5d0"
            ],
            [
             0.7,
             "#b8e186"
            ],
            [
             0.8,
             "#7fbc41"
            ],
            [
             0.9,
             "#4d9221"
            ],
            [
             1,
             "#276419"
            ]
           ],
           "sequential": [
            [
             0,
             "#0d0887"
            ],
            [
             0.1111111111111111,
             "#46039f"
            ],
            [
             0.2222222222222222,
             "#7201a8"
            ],
            [
             0.3333333333333333,
             "#9c179e"
            ],
            [
             0.4444444444444444,
             "#bd3786"
            ],
            [
             0.5555555555555556,
             "#d8576b"
            ],
            [
             0.6666666666666666,
             "#ed7953"
            ],
            [
             0.7777777777777778,
             "#fb9f3a"
            ],
            [
             0.8888888888888888,
             "#fdca26"
            ],
            [
             1,
             "#f0f921"
            ]
           ],
           "sequentialminus": [
            [
             0,
             "#0d0887"
            ],
            [
             0.1111111111111111,
             "#46039f"
            ],
            [
             0.2222222222222222,
             "#7201a8"
            ],
            [
             0.3333333333333333,
             "#9c179e"
            ],
            [
             0.4444444444444444,
             "#bd3786"
            ],
            [
             0.5555555555555556,
             "#d8576b"
            ],
            [
             0.6666666666666666,
             "#ed7953"
            ],
            [
             0.7777777777777778,
             "#fb9f3a"
            ],
            [
             0.8888888888888888,
             "#fdca26"
            ],
            [
             1,
             "#f0f921"
            ]
           ]
          },
          "colorway": [
           "#636efa",
           "#EF553B",
           "#00cc96",
           "#ab63fa",
           "#FFA15A",
           "#19d3f3",
           "#FF6692",
           "#B6E880",
           "#FF97FF",
           "#FECB52"
          ],
          "font": {
           "color": "#2a3f5f"
          },
          "geo": {
           "bgcolor": "white",
           "lakecolor": "white",
           "landcolor": "#E5ECF6",
           "showlakes": true,
           "showland": true,
           "subunitcolor": "white"
          },
          "hoverlabel": {
           "align": "left"
          },
          "hovermode": "closest",
          "mapbox": {
           "style": "light"
          },
          "paper_bgcolor": "white",
          "plot_bgcolor": "#E5ECF6",
          "polar": {
           "angularaxis": {
            "gridcolor": "white",
            "linecolor": "white",
            "ticks": ""
           },
           "bgcolor": "#E5ECF6",
           "radialaxis": {
            "gridcolor": "white",
            "linecolor": "white",
            "ticks": ""
           }
          },
          "scene": {
           "xaxis": {
            "backgroundcolor": "#E5ECF6",
            "gridcolor": "white",
            "gridwidth": 2,
            "linecolor": "white",
            "showbackground": true,
            "ticks": "",
            "zerolinecolor": "white"
           },
           "yaxis": {
            "backgroundcolor": "#E5ECF6",
            "gridcolor": "white",
            "gridwidth": 2,
            "linecolor": "white",
            "showbackground": true,
            "ticks": "",
            "zerolinecolor": "white"
           },
           "zaxis": {
            "backgroundcolor": "#E5ECF6",
            "gridcolor": "white",
            "gridwidth": 2,
            "linecolor": "white",
            "showbackground": true,
            "ticks": "",
            "zerolinecolor": "white"
           }
          },
          "shapedefaults": {
           "line": {
            "color": "#2a3f5f"
           }
          },
          "ternary": {
           "aaxis": {
            "gridcolor": "white",
            "linecolor": "white",
            "ticks": ""
           },
           "baxis": {
            "gridcolor": "white",
            "linecolor": "white",
            "ticks": ""
           },
           "bgcolor": "#E5ECF6",
           "caxis": {
            "gridcolor": "white",
            "linecolor": "white",
            "ticks": ""
           }
          },
          "title": {
           "x": 0.05
          },
          "xaxis": {
           "automargin": true,
           "gridcolor": "white",
           "linecolor": "white",
           "ticks": "",
           "title": {
            "standoff": 15
           },
           "zerolinecolor": "white",
           "zerolinewidth": 2
          },
          "yaxis": {
           "automargin": true,
           "gridcolor": "white",
           "linecolor": "white",
           "ticks": "",
           "title": {
            "standoff": 15
           },
           "zerolinecolor": "white",
           "zerolinewidth": 2
          }
         }
        },
        "title": {
         "text": "Distribuição de Buy-in por Velocidade - Torneios de 2024"
        },
        "width": 1200,
        "xaxis": {
         "title": {
          "text": "Intervalo de Buy-in (USD)"
         }
        },
        "yaxis": {
         "title": {
          "text": "Quantidade"
         }
        }
       }
      }
     },
     "metadata": {},
     "output_type": "display_data"
    }
   ],
   "source": [
    "import plotly.graph_objects as go\n",
    "\n",
    "# Calculando a quantidade total de torneios em cada intervalo e Velocidade\n",
    "total_torneios_por_Velocidade = df10.groupby(['Velocidade', 'Buy-in Group']).size().reset_index(name='Total')\n",
    "\n",
    "# Criando as barras para cada Velocidade\n",
    "barras = []\n",
    "cores = ['blue', 'red', 'green', 'purple', 'black', 'yellow', 'brown', 'orange', 'pink']  # Cores para os Velocidades\n",
    "for Velocidade, cor in zip(total_torneios_por_Velocidade['Velocidade'].unique(), cores):\n",
    "    barras.append(go.Bar(\n",
    "        x=total_torneios_por_Velocidade[total_torneios_por_Velocidade['Velocidade'] == Velocidade]['Buy-in Group'],\n",
    "        y=total_torneios_por_Velocidade[total_torneios_por_Velocidade['Velocidade'] == Velocidade]['Total'],\n",
    "        text=total_torneios_por_Velocidade[total_torneios_por_Velocidade['Velocidade'] == Velocidade]['Total'],  # Adicionando os valores como texto nas barras\n",
    "        name=f'Velocidade: {Velocidade}',\n",
    "        marker_color=cor  # Aplicando a cor alternada\n",
    "    ))\n",
    "\n",
    "# Criando a figura\n",
    "fig = go.Figure()\n",
    "\n",
    "# Adicionando as barras à figura\n",
    "for barra in barras:\n",
    "    fig.add_trace(barra)\n",
    "\n",
    "\n",
    "# Atualizando o layout do gráfico\n",
    "fig.update_layout(\n",
    "    xaxis_title='Intervalo de Buy-in (USD)',\n",
    "    yaxis_title='Quantidade',\n",
    "    title='Distribuição de Buy-in por Velocidade - Torneios de 2024',\n",
    "    barmode='group',  # Agrupando as barras\n",
    "    width=1200,  # Ajustando a largura do gráfico\n",
    "    height=700   # Ajustando a altura do gráfico\n",
    ")\n",
    "\n",
    "# Exibindo o gráfico\n",
    "fig.show()"
   ]
  },
  {
   "cell_type": "code",
   "execution_count": 308,
   "metadata": {},
   "outputs": [
    {
     "data": {
      "application/vnd.plotly.v1+json": {
       "config": {
        "plotlyServerURL": "https://plot.ly"
       },
       "data": [
        {
         "marker": {
          "color": "blue"
         },
         "name": "Total",
         "text": [
          "69.42%",
          "23.11%",
          "7.47%"
         ],
         "type": "bar",
         "x": [
          "Normal",
          "Turbo",
          "Super Turbo"
         ],
         "y": [
          69.415993837551,
          23.110939444282288,
          7.473066718166716
         ]
        },
        {
         "marker": {
          "color": "green"
         },
         "name": "Bounty",
         "text": [
          "77.90%",
          "19.14%",
          "2.97%"
         ],
         "type": "bar",
         "x": [
          "Normal",
          "Turbo",
          "Super Turbo"
         ],
         "y": [
          77.89647233695398,
          19.13625860132154,
          2.967269061724493
         ]
        },
        {
         "marker": {
          "color": "orange"
         },
         "name": "Regular",
         "text": [
          "60.45%",
          "27.31%",
          "12.23%"
         ],
         "type": "bar",
         "x": [
          "Normal",
          "Turbo",
          "Super Turbo"
         ],
         "y": [
          60.45399969306045,
          27.311299888960107,
          12.234700417979436
         ]
        }
       ],
       "layout": {
        "barmode": "group",
        "template": {
         "data": {
          "bar": [
           {
            "error_x": {
             "color": "#2a3f5f"
            },
            "error_y": {
             "color": "#2a3f5f"
            },
            "marker": {
             "line": {
              "color": "#E5ECF6",
              "width": 0.5
             },
             "pattern": {
              "fillmode": "overlay",
              "size": 10,
              "solidity": 0.2
             }
            },
            "type": "bar"
           }
          ],
          "barpolar": [
           {
            "marker": {
             "line": {
              "color": "#E5ECF6",
              "width": 0.5
             },
             "pattern": {
              "fillmode": "overlay",
              "size": 10,
              "solidity": 0.2
             }
            },
            "type": "barpolar"
           }
          ],
          "carpet": [
           {
            "aaxis": {
             "endlinecolor": "#2a3f5f",
             "gridcolor": "white",
             "linecolor": "white",
             "minorgridcolor": "white",
             "startlinecolor": "#2a3f5f"
            },
            "baxis": {
             "endlinecolor": "#2a3f5f",
             "gridcolor": "white",
             "linecolor": "white",
             "minorgridcolor": "white",
             "startlinecolor": "#2a3f5f"
            },
            "type": "carpet"
           }
          ],
          "choropleth": [
           {
            "colorbar": {
             "outlinewidth": 0,
             "ticks": ""
            },
            "type": "choropleth"
           }
          ],
          "contour": [
           {
            "colorbar": {
             "outlinewidth": 0,
             "ticks": ""
            },
            "colorscale": [
             [
              0,
              "#0d0887"
             ],
             [
              0.1111111111111111,
              "#46039f"
             ],
             [
              0.2222222222222222,
              "#7201a8"
             ],
             [
              0.3333333333333333,
              "#9c179e"
             ],
             [
              0.4444444444444444,
              "#bd3786"
             ],
             [
              0.5555555555555556,
              "#d8576b"
             ],
             [
              0.6666666666666666,
              "#ed7953"
             ],
             [
              0.7777777777777778,
              "#fb9f3a"
             ],
             [
              0.8888888888888888,
              "#fdca26"
             ],
             [
              1,
              "#f0f921"
             ]
            ],
            "type": "contour"
           }
          ],
          "contourcarpet": [
           {
            "colorbar": {
             "outlinewidth": 0,
             "ticks": ""
            },
            "type": "contourcarpet"
           }
          ],
          "heatmap": [
           {
            "colorbar": {
             "outlinewidth": 0,
             "ticks": ""
            },
            "colorscale": [
             [
              0,
              "#0d0887"
             ],
             [
              0.1111111111111111,
              "#46039f"
             ],
             [
              0.2222222222222222,
              "#7201a8"
             ],
             [
              0.3333333333333333,
              "#9c179e"
             ],
             [
              0.4444444444444444,
              "#bd3786"
             ],
             [
              0.5555555555555556,
              "#d8576b"
             ],
             [
              0.6666666666666666,
              "#ed7953"
             ],
             [
              0.7777777777777778,
              "#fb9f3a"
             ],
             [
              0.8888888888888888,
              "#fdca26"
             ],
             [
              1,
              "#f0f921"
             ]
            ],
            "type": "heatmap"
           }
          ],
          "heatmapgl": [
           {
            "colorbar": {
             "outlinewidth": 0,
             "ticks": ""
            },
            "colorscale": [
             [
              0,
              "#0d0887"
             ],
             [
              0.1111111111111111,
              "#46039f"
             ],
             [
              0.2222222222222222,
              "#7201a8"
             ],
             [
              0.3333333333333333,
              "#9c179e"
             ],
             [
              0.4444444444444444,
              "#bd3786"
             ],
             [
              0.5555555555555556,
              "#d8576b"
             ],
             [
              0.6666666666666666,
              "#ed7953"
             ],
             [
              0.7777777777777778,
              "#fb9f3a"
             ],
             [
              0.8888888888888888,
              "#fdca26"
             ],
             [
              1,
              "#f0f921"
             ]
            ],
            "type": "heatmapgl"
           }
          ],
          "histogram": [
           {
            "marker": {
             "pattern": {
              "fillmode": "overlay",
              "size": 10,
              "solidity": 0.2
             }
            },
            "type": "histogram"
           }
          ],
          "histogram2d": [
           {
            "colorbar": {
             "outlinewidth": 0,
             "ticks": ""
            },
            "colorscale": [
             [
              0,
              "#0d0887"
             ],
             [
              0.1111111111111111,
              "#46039f"
             ],
             [
              0.2222222222222222,
              "#7201a8"
             ],
             [
              0.3333333333333333,
              "#9c179e"
             ],
             [
              0.4444444444444444,
              "#bd3786"
             ],
             [
              0.5555555555555556,
              "#d8576b"
             ],
             [
              0.6666666666666666,
              "#ed7953"
             ],
             [
              0.7777777777777778,
              "#fb9f3a"
             ],
             [
              0.8888888888888888,
              "#fdca26"
             ],
             [
              1,
              "#f0f921"
             ]
            ],
            "type": "histogram2d"
           }
          ],
          "histogram2dcontour": [
           {
            "colorbar": {
             "outlinewidth": 0,
             "ticks": ""
            },
            "colorscale": [
             [
              0,
              "#0d0887"
             ],
             [
              0.1111111111111111,
              "#46039f"
             ],
             [
              0.2222222222222222,
              "#7201a8"
             ],
             [
              0.3333333333333333,
              "#9c179e"
             ],
             [
              0.4444444444444444,
              "#bd3786"
             ],
             [
              0.5555555555555556,
              "#d8576b"
             ],
             [
              0.6666666666666666,
              "#ed7953"
             ],
             [
              0.7777777777777778,
              "#fb9f3a"
             ],
             [
              0.8888888888888888,
              "#fdca26"
             ],
             [
              1,
              "#f0f921"
             ]
            ],
            "type": "histogram2dcontour"
           }
          ],
          "mesh3d": [
           {
            "colorbar": {
             "outlinewidth": 0,
             "ticks": ""
            },
            "type": "mesh3d"
           }
          ],
          "parcoords": [
           {
            "line": {
             "colorbar": {
              "outlinewidth": 0,
              "ticks": ""
             }
            },
            "type": "parcoords"
           }
          ],
          "pie": [
           {
            "automargin": true,
            "type": "pie"
           }
          ],
          "scatter": [
           {
            "fillpattern": {
             "fillmode": "overlay",
             "size": 10,
             "solidity": 0.2
            },
            "type": "scatter"
           }
          ],
          "scatter3d": [
           {
            "line": {
             "colorbar": {
              "outlinewidth": 0,
              "ticks": ""
             }
            },
            "marker": {
             "colorbar": {
              "outlinewidth": 0,
              "ticks": ""
             }
            },
            "type": "scatter3d"
           }
          ],
          "scattercarpet": [
           {
            "marker": {
             "colorbar": {
              "outlinewidth": 0,
              "ticks": ""
             }
            },
            "type": "scattercarpet"
           }
          ],
          "scattergeo": [
           {
            "marker": {
             "colorbar": {
              "outlinewidth": 0,
              "ticks": ""
             }
            },
            "type": "scattergeo"
           }
          ],
          "scattergl": [
           {
            "marker": {
             "colorbar": {
              "outlinewidth": 0,
              "ticks": ""
             }
            },
            "type": "scattergl"
           }
          ],
          "scattermapbox": [
           {
            "marker": {
             "colorbar": {
              "outlinewidth": 0,
              "ticks": ""
             }
            },
            "type": "scattermapbox"
           }
          ],
          "scatterpolar": [
           {
            "marker": {
             "colorbar": {
              "outlinewidth": 0,
              "ticks": ""
             }
            },
            "type": "scatterpolar"
           }
          ],
          "scatterpolargl": [
           {
            "marker": {
             "colorbar": {
              "outlinewidth": 0,
              "ticks": ""
             }
            },
            "type": "scatterpolargl"
           }
          ],
          "scatterternary": [
           {
            "marker": {
             "colorbar": {
              "outlinewidth": 0,
              "ticks": ""
             }
            },
            "type": "scatterternary"
           }
          ],
          "surface": [
           {
            "colorbar": {
             "outlinewidth": 0,
             "ticks": ""
            },
            "colorscale": [
             [
              0,
              "#0d0887"
             ],
             [
              0.1111111111111111,
              "#46039f"
             ],
             [
              0.2222222222222222,
              "#7201a8"
             ],
             [
              0.3333333333333333,
              "#9c179e"
             ],
             [
              0.4444444444444444,
              "#bd3786"
             ],
             [
              0.5555555555555556,
              "#d8576b"
             ],
             [
              0.6666666666666666,
              "#ed7953"
             ],
             [
              0.7777777777777778,
              "#fb9f3a"
             ],
             [
              0.8888888888888888,
              "#fdca26"
             ],
             [
              1,
              "#f0f921"
             ]
            ],
            "type": "surface"
           }
          ],
          "table": [
           {
            "cells": {
             "fill": {
              "color": "#EBF0F8"
             },
             "line": {
              "color": "white"
             }
            },
            "header": {
             "fill": {
              "color": "#C8D4E3"
             },
             "line": {
              "color": "white"
             }
            },
            "type": "table"
           }
          ]
         },
         "layout": {
          "annotationdefaults": {
           "arrowcolor": "#2a3f5f",
           "arrowhead": 0,
           "arrowwidth": 1
          },
          "autotypenumbers": "strict",
          "coloraxis": {
           "colorbar": {
            "outlinewidth": 0,
            "ticks": ""
           }
          },
          "colorscale": {
           "diverging": [
            [
             0,
             "#8e0152"
            ],
            [
             0.1,
             "#c51b7d"
            ],
            [
             0.2,
             "#de77ae"
            ],
            [
             0.3,
             "#f1b6da"
            ],
            [
             0.4,
             "#fde0ef"
            ],
            [
             0.5,
             "#f7f7f7"
            ],
            [
             0.6,
             "#e6f5d0"
            ],
            [
             0.7,
             "#b8e186"
            ],
            [
             0.8,
             "#7fbc41"
            ],
            [
             0.9,
             "#4d9221"
            ],
            [
             1,
             "#276419"
            ]
           ],
           "sequential": [
            [
             0,
             "#0d0887"
            ],
            [
             0.1111111111111111,
             "#46039f"
            ],
            [
             0.2222222222222222,
             "#7201a8"
            ],
            [
             0.3333333333333333,
             "#9c179e"
            ],
            [
             0.4444444444444444,
             "#bd3786"
            ],
            [
             0.5555555555555556,
             "#d8576b"
            ],
            [
             0.6666666666666666,
             "#ed7953"
            ],
            [
             0.7777777777777778,
             "#fb9f3a"
            ],
            [
             0.8888888888888888,
             "#fdca26"
            ],
            [
             1,
             "#f0f921"
            ]
           ],
           "sequentialminus": [
            [
             0,
             "#0d0887"
            ],
            [
             0.1111111111111111,
             "#46039f"
            ],
            [
             0.2222222222222222,
             "#7201a8"
            ],
            [
             0.3333333333333333,
             "#9c179e"
            ],
            [
             0.4444444444444444,
             "#bd3786"
            ],
            [
             0.5555555555555556,
             "#d8576b"
            ],
            [
             0.6666666666666666,
             "#ed7953"
            ],
            [
             0.7777777777777778,
             "#fb9f3a"
            ],
            [
             0.8888888888888888,
             "#fdca26"
            ],
            [
             1,
             "#f0f921"
            ]
           ]
          },
          "colorway": [
           "#636efa",
           "#EF553B",
           "#00cc96",
           "#ab63fa",
           "#FFA15A",
           "#19d3f3",
           "#FF6692",
           "#B6E880",
           "#FF97FF",
           "#FECB52"
          ],
          "font": {
           "color": "#2a3f5f"
          },
          "geo": {
           "bgcolor": "white",
           "lakecolor": "white",
           "landcolor": "#E5ECF6",
           "showlakes": true,
           "showland": true,
           "subunitcolor": "white"
          },
          "hoverlabel": {
           "align": "left"
          },
          "hovermode": "closest",
          "mapbox": {
           "style": "light"
          },
          "paper_bgcolor": "white",
          "plot_bgcolor": "#E5ECF6",
          "polar": {
           "angularaxis": {
            "gridcolor": "white",
            "linecolor": "white",
            "ticks": ""
           },
           "bgcolor": "#E5ECF6",
           "radialaxis": {
            "gridcolor": "white",
            "linecolor": "white",
            "ticks": ""
           }
          },
          "scene": {
           "xaxis": {
            "backgroundcolor": "#E5ECF6",
            "gridcolor": "white",
            "gridwidth": 2,
            "linecolor": "white",
            "showbackground": true,
            "ticks": "",
            "zerolinecolor": "white"
           },
           "yaxis": {
            "backgroundcolor": "#E5ECF6",
            "gridcolor": "white",
            "gridwidth": 2,
            "linecolor": "white",
            "showbackground": true,
            "ticks": "",
            "zerolinecolor": "white"
           },
           "zaxis": {
            "backgroundcolor": "#E5ECF6",
            "gridcolor": "white",
            "gridwidth": 2,
            "linecolor": "white",
            "showbackground": true,
            "ticks": "",
            "zerolinecolor": "white"
           }
          },
          "shapedefaults": {
           "line": {
            "color": "#2a3f5f"
           }
          },
          "ternary": {
           "aaxis": {
            "gridcolor": "white",
            "linecolor": "white",
            "ticks": ""
           },
           "baxis": {
            "gridcolor": "white",
            "linecolor": "white",
            "ticks": ""
           },
           "bgcolor": "#E5ECF6",
           "caxis": {
            "gridcolor": "white",
            "linecolor": "white",
            "ticks": ""
           }
          },
          "title": {
           "x": 0.05
          },
          "xaxis": {
           "automargin": true,
           "gridcolor": "white",
           "linecolor": "white",
           "ticks": "",
           "title": {
            "standoff": 15
           },
           "zerolinecolor": "white",
           "zerolinewidth": 2
          },
          "yaxis": {
           "automargin": true,
           "gridcolor": "white",
           "linecolor": "white",
           "ticks": "",
           "title": {
            "standoff": 15
           },
           "zerolinecolor": "white",
           "zerolinewidth": 2
          }
         }
        },
        "title": {
         "text": "Porcentagem de Torneios por Velocidade e Tipo de Torneio"
        },
        "xaxis": {
         "title": {
          "text": "Velocidade"
         }
        },
        "yaxis": {
         "title": {
          "text": "Porcentagem"
         }
        }
       }
      }
     },
     "metadata": {},
     "output_type": "display_data"
    }
   ],
   "source": [
    "import plotly.graph_objects as go\n",
    "\n",
    "# Calculando as porcentagens de cada tipo de velocidade em relação ao dataframe inteiro\n",
    "total_torneios = len(df)  # Total de torneios no dataframe\n",
    "porcentagens_velocidade_total = df['Velocidade'].value_counts(normalize=True) * 100\n",
    "\n",
    "# Criando as barras para a porcentagem de cada velocidade em relação ao dataframe inteiro\n",
    "barras_total = go.Bar(\n",
    "    x=porcentagens_velocidade_total.index,\n",
    "    y=porcentagens_velocidade_total.values,\n",
    "    text = [f\"{value:.2f}%\" for value in porcentagens_velocidade_total.values],\n",
    "    name='Total',\n",
    "    marker_color='blue'\n",
    ")\n",
    "\n",
    "# Filtrando o dataframe por tipo de torneio (bounty)\n",
    "df_bounty = df[df['Tipo de Torneio'] == 'Bounty']\n",
    "\n",
    "# Calculando as porcentagens de cada tipo de velocidade quando o torneio é bounty\n",
    "total_torneios_bounty = len(df_bounty)  # Total de torneios bounty\n",
    "porcentagens_velocidade_bounty = df_bounty['Velocidade'].value_counts(normalize=True) * 100\n",
    "\n",
    "# Criando as barras para a porcentagem de cada velocidade quando o torneio é bounty\n",
    "barras_bounty = go.Bar(\n",
    "    x=porcentagens_velocidade_bounty.index,\n",
    "    y=porcentagens_velocidade_bounty.values,\n",
    "    text = [f\"{value:.2f}%\" for value in porcentagens_velocidade_bounty.values],\n",
    "    name='Bounty',\n",
    "    marker_color='green'\n",
    ")\n",
    "\n",
    "# Filtrando o dataframe por tipo de torneio (normal)\n",
    "df_normal = df[df['Tipo de Torneio'] == 'Regular']\n",
    "\n",
    "# Calculando as porcentagens de cada tipo de velocidade quando o torneio é normal\n",
    "total_torneios_normal = len(df_normal)  # Total de torneios normais\n",
    "porcentagens_velocidade_normal = df_normal['Velocidade'].value_counts(normalize=True) * 100\n",
    "\n",
    "# Criando as barras para a porcentagem de cada velocidade quando o torneio é normal\n",
    "barras_normal = go.Bar(\n",
    "    x=porcentagens_velocidade_normal.index,\n",
    "    y=porcentagens_velocidade_normal.values,\n",
    "    text = [f\"{value:.2f}%\" for value in porcentagens_velocidade_normal.values],\n",
    "    name='Regular',\n",
    "    marker_color='orange'\n",
    ")\n",
    "\n",
    "# Criando a figura\n",
    "fig = go.Figure()\n",
    "\n",
    "# Adicionando as barras à figura\n",
    "fig.add_trace(barras_total)\n",
    "fig.add_trace(barras_bounty)\n",
    "fig.add_trace(barras_normal)\n",
    "\n",
    "# Atualizando o layout do gráfico\n",
    "fig.update_layout(\n",
    "    xaxis_title='Velocidade',\n",
    "    yaxis_title='Porcentagem',\n",
    "    title='Porcentagem de Torneios por Velocidade e Tipo de Torneio',\n",
    "    barmode='group'  # Agrupando as barras\n",
    ")\n",
    "\n",
    "# Exibindo o gráfico\n",
    "fig.show()\n"
   ]
  },
  {
   "cell_type": "code",
   "execution_count": 309,
   "metadata": {},
   "outputs": [
    {
     "data": {
      "text/plain": [
       "Index(['Site', 'Nickname', 'Entradas', 'Velocidade', 'Posição',\n",
       "       'Tipo de Torneio', 'Moeda', 'Rebuys', 'Duração', 'Players Per Table',\n",
       "       'Jogador', 'Nome do Torneio', 'Data', 'Hora', 'Intervalo Horario',\n",
       "       'Dia da Semana', 'Result USD', 'Prize USD', 'Buy-in USD', 'Rake USD',\n",
       "       'Stake USD', 'Profit USD', 'Intervalo de Buy-in', 'Intervalo de Field',\n",
       "       'Ano', 'Mês', 'Tipo de Duraçao', 'Buy-in Group', 'Intervalo'],\n",
       "      dtype='object')"
      ]
     },
     "execution_count": 309,
     "metadata": {},
     "output_type": "execute_result"
    }
   ],
   "source": [
    "df10.columns"
   ]
  },
  {
   "cell_type": "code",
   "execution_count": 316,
   "metadata": {},
   "outputs": [
    {
     "name": "stdout",
     "output_type": "stream",
     "text": [
      "Torneios em 2024\n"
     ]
    },
    {
     "data": {
      "text/html": [
       "<div>\n",
       "<style scoped>\n",
       "    .dataframe tbody tr th:only-of-type {\n",
       "        vertical-align: middle;\n",
       "    }\n",
       "\n",
       "    .dataframe tbody tr th {\n",
       "        vertical-align: top;\n",
       "    }\n",
       "\n",
       "    .dataframe thead th {\n",
       "        text-align: right;\n",
       "    }\n",
       "</style>\n",
       "<table border=\"1\" class=\"dataframe\">\n",
       "  <thead>\n",
       "    <tr style=\"text-align: right;\">\n",
       "      <th></th>\n",
       "      <th>Buy In médio</th>\n",
       "      <th>Mediana de Buy In</th>\n",
       "      <th>Amplitude de Buy In</th>\n",
       "      <th>Lucro médio</th>\n",
       "      <th>Entradas</th>\n",
       "      <th>% de Reentradas</th>\n",
       "      <th>Média de participantes</th>\n",
       "      <th>% Bounty</th>\n",
       "    </tr>\n",
       "  </thead>\n",
       "  <tbody>\n",
       "    <tr>\n",
       "      <th>Overall</th>\n",
       "      <td>35.327099</td>\n",
       "      <td>22.0</td>\n",
       "      <td>2650.00</td>\n",
       "      <td>8.988368</td>\n",
       "      <td>31664</td>\n",
       "      <td>1.114831</td>\n",
       "      <td>16</td>\n",
       "      <td>69.11003</td>\n",
       "    </tr>\n",
       "    <tr>\n",
       "      <th>PKO</th>\n",
       "      <td>36.128091</td>\n",
       "      <td>22.0</td>\n",
       "      <td>2649.73</td>\n",
       "      <td>10.015666</td>\n",
       "      <td>21883</td>\n",
       "      <td>0.886533</td>\n",
       "      <td>16</td>\n",
       "      <td>100.00000</td>\n",
       "    </tr>\n",
       "    <tr>\n",
       "      <th>Regular</th>\n",
       "      <td>31.533311</td>\n",
       "      <td>16.5</td>\n",
       "      <td>1050.00</td>\n",
       "      <td>9.523465</td>\n",
       "      <td>8892</td>\n",
       "      <td>1.731894</td>\n",
       "      <td>16</td>\n",
       "      <td>0.00000</td>\n",
       "    </tr>\n",
       "  </tbody>\n",
       "</table>\n",
       "</div>"
      ],
      "text/plain": [
       "         Buy In médio  Mediana de Buy In  Amplitude de Buy In  Lucro médio  \\\n",
       "Overall     35.327099               22.0              2650.00     8.988368   \n",
       "PKO         36.128091               22.0              2649.73    10.015666   \n",
       "Regular     31.533311               16.5              1050.00     9.523465   \n",
       "\n",
       "         Entradas  % de Reentradas  Média de participantes   % Bounty  \n",
       "Overall     31664         1.114831                      16   69.11003  \n",
       "PKO         21883         0.886533                      16  100.00000  \n",
       "Regular      8892         1.731894                      16    0.00000  "
      ]
     },
     "execution_count": 316,
     "metadata": {},
     "output_type": "execute_result"
    }
   ],
   "source": [
    "import pandas as pd\n",
    "\n",
    "# Calculando as estatísticas gerais\n",
    "estatisticas_gerais = {\n",
    "    'Buy In médio': df10['Buy-in USD'].mean(),\n",
    "    'Mediana de Buy In': df10['Buy-in USD'].median(),\n",
    "    'Amplitude de Buy In': df10['Buy-in USD'].max() - df10['Buy-in USD'].min(),\n",
    "    'Lucro médio': df10['Profit USD'].mean(),\n",
    "    'Entradas': len(df10),\n",
    "    '% de Reentradas': (df10['Rebuys'].sum() / len(df10)) * 100,\n",
    "    'Média de participantes': df10['Jogador'].nunique(),\n",
    "    '% Bounty': (len(df10[df10['Tipo de Torneio'] == 'Bounty']) / len(df10)) * 100\n",
    "}\n",
    "\n",
    "# Filtrando os dados para torneios do tipo PKO (Bounty)\n",
    "df_pko = df10[df10['Tipo de Torneio'] == 'Bounty']\n",
    "\n",
    "# Calculando as estatísticas para torneios PKO\n",
    "estatisticas_pko = {\n",
    "    'Buy In médio': df_pko['Buy-in USD'].mean(),\n",
    "    'Mediana de Buy In': df_pko['Buy-in USD'].median(),\n",
    "    'Amplitude de Buy In': df_pko['Buy-in USD'].max() - df_pko['Buy-in USD'].min(),\n",
    "    'Lucro médio': df_pko['Profit USD'].mean(),\n",
    "    'Entradas': len(df_pko),\n",
    "    '% de Reentradas': (df_pko['Rebuys'].sum() / len(df_pko)) * 100,\n",
    "    'Média de participantes': df_pko['Jogador'].nunique(),\n",
    "    '% Bounty': 100\n",
    "}\n",
    "\n",
    "# Filtrando os dados para torneios do tipo Regular\n",
    "df_regular = df10[df10['Tipo de Torneio'] == 'Regular']\n",
    "\n",
    "# Calculando as estatísticas para torneios Regular\n",
    "estatisticas_regular = {\n",
    "    'Buy In médio': df_regular['Buy-in USD'].mean(),\n",
    "    'Mediana de Buy In': df_regular['Buy-in USD'].median(),\n",
    "    'Amplitude de Buy In': df_regular['Buy-in USD'].max() - df_regular['Buy-in USD'].min(),\n",
    "    'Lucro médio': df_regular['Profit USD'].mean(),\n",
    "    'Entradas': len(df_regular),\n",
    "    '% de Reentradas': (df_regular['Rebuys'].sum() / len(df_regular)) * 100,\n",
    "    'Média de participantes': df_regular['Jogador'].nunique(),\n",
    "    '% Bounty': 0\n",
    "}\n",
    "\n",
    "# Criando o DataFrame\n",
    "tabela01 = pd.DataFrame([estatisticas_gerais, estatisticas_pko, estatisticas_regular],\n",
    "                      index=['Overall', 'PKO', 'Regular'])\n",
    "print('Torneios em 2024')\n",
    "tabela01\n"
   ]
  },
  {
   "cell_type": "code",
   "execution_count": 315,
   "metadata": {},
   "outputs": [
    {
     "name": "stdout",
     "output_type": "stream",
     "text": [
      "+---------+--------------+-------------------+---------------------+-------------+----------+-----------------+------------------------+----------+\n",
      "|         | Buy In médio | Mediana de Buy In | Amplitude de Buy In | Lucro médio | Entradas | % de Reentradas | Média de participantes | % Bounty |\n",
      "+---------+--------------+-------------------+---------------------+-------------+----------+-----------------+------------------------+----------+\n",
      "| Overall |    35.33     |       22.0        |       2650.0        |    8.99     |  31664   |      1.11       |           16           |  69.11   |\n",
      "|   PKO   |    36.13     |       22.0        |       2649.73       |    10.02    |  21883   |      0.89       |           16           |  100.0   |\n",
      "| Regular |    31.53     |       16.5        |       1050.0        |    9.52     |   8892   |      1.73       |           16           |   0.0    |\n",
      "+---------+--------------+-------------------+---------------------+-------------+----------+-----------------+------------------------+----------+\n"
     ]
    }
   ],
   "source": [
    "from tabulate import tabulate\n",
    "\n",
    "# Dados da tabela\n",
    "data = [\n",
    "    ['Overall', 35.33, 22.0, 2650.00, 8.99, 31664, 1.11, 16, 69.11],\n",
    "    ['PKO', 36.13, 22.0, 2649.73, 10.02, 21883, 0.89, 16, 100.00],\n",
    "    ['Regular', 31.53, 16.5, 1050.00, 9.52, 8892, 1.73, 16, 0.00]\n",
    "]\n",
    "\n",
    "# Cabeçalho da tabela\n",
    "headers = [\"\", \"Buy In médio\", \"Mediana de Buy In\", \"Amplitude de Buy In\", \n",
    "           \"Lucro médio\", \"Entradas\", \"% de Reentradas\", \"Média de participantes\", \"% Bounty\"]\n",
    "\n",
    "# Exibindo a tabela formatada\n",
    "print(tabulate(data, headers=headers, floatfmt=\".2f\", tablefmt=\"pretty\"))\n"
   ]
  },
  {
   "cell_type": "code",
   "execution_count": 324,
   "metadata": {},
   "outputs": [
    {
     "name": "stdout",
     "output_type": "stream",
     "text": [
      "Torneios em 2023 e 2024\n"
     ]
    },
    {
     "data": {
      "text/html": [
       "<div>\n",
       "<style scoped>\n",
       "    .dataframe tbody tr th:only-of-type {\n",
       "        vertical-align: middle;\n",
       "    }\n",
       "\n",
       "    .dataframe tbody tr th {\n",
       "        vertical-align: top;\n",
       "    }\n",
       "\n",
       "    .dataframe thead th {\n",
       "        text-align: right;\n",
       "    }\n",
       "</style>\n",
       "<table border=\"1\" class=\"dataframe\">\n",
       "  <thead>\n",
       "    <tr style=\"text-align: right;\">\n",
       "      <th></th>\n",
       "      <th>Buy In médio</th>\n",
       "      <th>Mediana de Buy In</th>\n",
       "      <th>Amplitude de Buy In</th>\n",
       "      <th>Lucro médio</th>\n",
       "      <th>Entradas</th>\n",
       "      <th>% de Reentradas</th>\n",
       "      <th>Média de participantes</th>\n",
       "      <th>% Bounty</th>\n",
       "    </tr>\n",
       "  </thead>\n",
       "  <tbody>\n",
       "    <tr>\n",
       "      <th>Overall</th>\n",
       "      <td>65.722949</td>\n",
       "      <td>25.0</td>\n",
       "      <td>3300000.00</td>\n",
       "      <td>192.373966</td>\n",
       "      <td>118562</td>\n",
       "      <td>1.150453</td>\n",
       "      <td>16</td>\n",
       "      <td>65.288204</td>\n",
       "    </tr>\n",
       "    <tr>\n",
       "      <th>PKO</th>\n",
       "      <td>83.148682</td>\n",
       "      <td>27.0</td>\n",
       "      <td>3299999.95</td>\n",
       "      <td>291.911256</td>\n",
       "      <td>77407</td>\n",
       "      <td>0.965029</td>\n",
       "      <td>16</td>\n",
       "      <td>100.000000</td>\n",
       "    </tr>\n",
       "    <tr>\n",
       "      <th>Regular</th>\n",
       "      <td>31.785677</td>\n",
       "      <td>20.0</td>\n",
       "      <td>1050.00</td>\n",
       "      <td>7.388038</td>\n",
       "      <td>38015</td>\n",
       "      <td>1.541497</td>\n",
       "      <td>16</td>\n",
       "      <td>0.000000</td>\n",
       "    </tr>\n",
       "  </tbody>\n",
       "</table>\n",
       "</div>"
      ],
      "text/plain": [
       "         Buy In médio  Mediana de Buy In  Amplitude de Buy In  Lucro médio  \\\n",
       "Overall     65.722949               25.0           3300000.00   192.373966   \n",
       "PKO         83.148682               27.0           3299999.95   291.911256   \n",
       "Regular     31.785677               20.0              1050.00     7.388038   \n",
       "\n",
       "         Entradas  % de Reentradas  Média de participantes    % Bounty  \n",
       "Overall    118562         1.150453                      16   65.288204  \n",
       "PKO         77407         0.965029                      16  100.000000  \n",
       "Regular     38015         1.541497                      16    0.000000  "
      ]
     },
     "execution_count": 324,
     "metadata": {},
     "output_type": "execute_result"
    }
   ],
   "source": [
    "import pandas as pd\n",
    "\n",
    "# Calculando as estatísticas gerais\n",
    "estatisticas_gerais = {\n",
    "    'Buy In médio': df77['Buy-in USD'].mean(),\n",
    "    'Mediana de Buy In': df77['Buy-in USD'].median(),\n",
    "    'Amplitude de Buy In': df77['Buy-in USD'].max() - df77['Buy-in USD'].min(),\n",
    "    'Lucro médio': df77['Profit USD'].mean(),\n",
    "    'Entradas': len(df77),\n",
    "    '% de Reentradas': (df77['Rebuys'].sum() / len(df77)) * 100,\n",
    "    'Média de participantes': df77['Jogador'].nunique(),\n",
    "    '% Bounty': (len(df77[df77['Tipo de Torneio'] == 'Bounty']) / len(df77)) * 100\n",
    "}\n",
    "\n",
    "# Filtrando os dados para torneios do tipo PKO (Bounty)\n",
    "df_pko = df77[df77['Tipo de Torneio'] == 'Bounty']\n",
    "\n",
    "# Calculando as estatísticas para torneios PKO\n",
    "estatisticas_pko = {\n",
    "    'Buy In médio': df_pko['Buy-in USD'].mean(),\n",
    "    'Mediana de Buy In': df_pko['Buy-in USD'].median(),\n",
    "    'Amplitude de Buy In': df_pko['Buy-in USD'].max() - df_pko['Buy-in USD'].min(),\n",
    "    'Lucro médio': df_pko['Profit USD'].mean(),\n",
    "    'Entradas': len(df_pko),\n",
    "    '% de Reentradas': (df_pko['Rebuys'].sum() / len(df_pko)) * 100,\n",
    "    'Média de participantes': df_pko['Jogador'].nunique(),\n",
    "    '% Bounty': 100\n",
    "}\n",
    "\n",
    "# Filtrando os dados para torneios do tipo Regular\n",
    "df_regular = df77[df77['Tipo de Torneio'] == 'Regular']\n",
    "\n",
    "# Calculando as estatísticas para torneios Regular\n",
    "estatisticas_regular = {\n",
    "    'Buy In médio': df_regular['Buy-in USD'].mean(),\n",
    "    'Mediana de Buy In': df_regular['Buy-in USD'].median(),\n",
    "    'Amplitude de Buy In': df_regular['Buy-in USD'].max() - df_regular['Buy-in USD'].min(),\n",
    "    'Lucro médio': df_regular['Profit USD'].mean(),\n",
    "    'Entradas': len(df_regular),\n",
    "    '% de Reentradas': (df_regular['Rebuys'].sum() / len(df_regular)) * 100,\n",
    "    'Média de participantes': df_regular['Jogador'].nunique(),\n",
    "    '% Bounty': 0\n",
    "}\n",
    "\n",
    "# Criando o DataFrame\n",
    "tabela02 = pd.DataFrame([estatisticas_gerais, estatisticas_pko, estatisticas_regular],\n",
    "                      index=['Overall', 'PKO', 'Regular'])\n",
    "print('Torneios em 2023 e 2024')\n",
    "tabela02\n"
   ]
  },
  {
   "cell_type": "code",
   "execution_count": 326,
   "metadata": {},
   "outputs": [],
   "source": [
    "tabela02.to_csv('tabela.csv', index=False)"
   ]
  }
 ],
 "metadata": {
  "kernelspec": {
   "display_name": "Python 3",
   "language": "python",
   "name": "python3"
  },
  "language_info": {
   "codemirror_mode": {
    "name": "ipython",
    "version": 3
   },
   "file_extension": ".py",
   "mimetype": "text/x-python",
   "name": "python",
   "nbconvert_exporter": "python",
   "pygments_lexer": "ipython3",
   "version": "3.11.8"
  }
 },
 "nbformat": 4,
 "nbformat_minor": 2
}
